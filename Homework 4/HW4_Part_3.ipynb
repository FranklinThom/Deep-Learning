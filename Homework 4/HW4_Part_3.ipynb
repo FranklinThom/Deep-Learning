{
 "cells": [
  {
   "cell_type": "markdown",
   "metadata": {},
   "source": [
    "## frathom\n",
    "## Homework 4 Part 3"
   ]
  },
  {
   "cell_type": "code",
   "execution_count": null,
   "metadata": {
    "id": "J8f2Faf58uuJ"
   },
   "outputs": [],
   "source": [
    "import torch\n",
    "import torch.nn as nn\n",
    "import torch.nn.functional as F\n",
    "import torchvision.transforms as transforms\n",
    "import torchvision.transforms.functional as tf\n",
    "import torchvision\n",
    "from torch.autograd import Variable\n",
    "import matplotlib.pyplot as plt\n",
    "import numpy as np\n",
    "from google.colab import drive\n",
    "import helper\n",
    "from torch.utils.data.sampler import SubsetRandomSampler\n",
    "from torch.utils.data import TensorDataset\n",
    "import glob\n",
    "import librosa\n",
    "import math\n",
    "from torch import optim as optim\n",
    "import torchvision"
   ]
  },
  {
   "cell_type": "code",
   "execution_count": null,
   "metadata": {
    "id": "vXUsjsSW9DG0"
   },
   "outputs": [],
   "source": [
    "mnist_train=torchvision.datasets.MNIST('mnist',train=True,download=True,transform=torchvision.transforms.Compose([torchvision.transforms.ToTensor(),torchvision.transforms.Normalize((0.5,), (0.5,))]))"
   ]
  },
  {
   "cell_type": "code",
   "execution_count": null,
   "metadata": {
    "id": "HDr7dbf0P_JD"
   },
   "outputs": [],
   "source": [
    "trainc=torch.utils.data.DataLoader(mnist_train,batch_size=50,shuffle=True)"
   ]
  },
  {
   "cell_type": "code",
   "execution_count": null,
   "metadata": {
    "colab": {
     "base_uri": "https://localhost:8080/"
    },
    "id": "EdALgaISkKe9",
    "outputId": "e4d86cba-4e33-48db-94fc-1b39dcdb71a5"
   },
   "outputs": [
    {
     "data": {
      "text/plain": [
       "tensor([1., 0., 0., 0., 0., 0., 0., 0., 0., 0.], device='cuda:0')"
      ]
     },
     "execution_count": 17,
     "metadata": {
      "tags": []
     },
     "output_type": "execute_result"
    }
   ],
   "source": [
    "onehot = torch.FloatTensor(np.eye(10)).cuda()\n",
    "onehot[0]"
   ]
  },
  {
   "cell_type": "code",
   "execution_count": null,
   "metadata": {
    "id": "RHSOkjjW9aOI"
   },
   "outputs": [],
   "source": [
    "class generator_m(nn.Module):\n",
    "  def __init__(self,input_units,out):\n",
    "    self.input_units=input_units\n",
    "    super(generator_m,self).__init__()\n",
    "    self.inp=nn.Sequential(nn.Linear(input_units,512),nn.LeakyReLU(0.2))\n",
    "    self.l1=nn.Sequential(nn.Linear(512,1024),nn.LeakyReLU(0.2))\n",
    "    self.l2=nn.Sequential(nn.Linear(1024,2048),nn.LeakyReLU(0.2))\n",
    "    #self.l3=nn.Sequential(nn.Linear(2048,4096),nn.ReLU(),nn.Dropout(0.2))\n",
    "    self.l4=nn.Sequential(nn.Linear(2048,out),nn.Tanh())\n",
    "  \n",
    "  def forward(self,x,label):\n",
    "    #x=x.view(-1,self.input_units)\n",
    "    self.x=x\n",
    "    self.label=label\n",
    "    o=onehot[self.label]\n",
    "    x=torch.cat([x,o],1)\n",
    "    self.x1=self.inp(x)\n",
    "    self.x2=self.l1(self.x1)\n",
    "    self.x3=self.l2(self.x2)\n",
    "    #self.x4=self.l3(self.x3)\n",
    "    self.out=self.l4(self.x3)\n",
    "    return self.out"
   ]
  },
  {
   "cell_type": "code",
   "execution_count": null,
   "metadata": {
    "id": "NOCa-LVQHGy-"
   },
   "outputs": [],
   "source": [
    "class discriminator_m(nn.Module):\n",
    "  def __init__(self,input_units,out):\n",
    "    self.input_units=input_units\n",
    "    super(discriminator_m,self).__init__()\n",
    "    self.inp=nn.Sequential(nn.Linear(input_units,2048),nn.LeakyReLU(0.2),nn.Dropout(0.3))\n",
    "    self.l1=nn.Sequential(nn.Linear(2048,1024),nn.LeakyReLU(0.2),nn.Dropout(0.3))\n",
    "    self.l2=nn.Sequential(nn.Linear(1024,512),nn.LeakyReLU(0.2),nn.Dropout(0.3))\n",
    "    #self.l3=nn.Sequential(nn.Linear(512,256),nn.ReLU(),nn.Dropout(0.3))\n",
    "    self.l4=nn.Sequential(nn.Linear(512,out),nn.Sigmoid())\n",
    "  \n",
    "  def forward(self,x,label):\n",
    "    #x=x.view(-1,self.input_units)\n",
    "    self.x=x\n",
    "    self.label=label\n",
    "    o=onehot[self.label]\n",
    "    x=torch.cat([x,o],1)\n",
    "    self.x1=self.inp(x)\n",
    "    self.x2=self.l1(self.x1)\n",
    "    self.x3=self.l2(self.x2)\n",
    "    #self.x4=self.l3(self.x3)\n",
    "    self.out=self.l4(self.x3)\n",
    "    return self.out"
   ]
  },
  {
   "cell_type": "code",
   "execution_count": null,
   "metadata": {
    "id": "fq2-vLWcLJsE"
   },
   "outputs": [],
   "source": [
    "gen=generator_m(110,784).cuda()"
   ]
  },
  {
   "cell_type": "code",
   "execution_count": null,
   "metadata": {
    "id": "CW7-Bs4sL6rn"
   },
   "outputs": [],
   "source": [
    "dis=discriminator_m(794,1).cuda()"
   ]
  },
  {
   "cell_type": "code",
   "execution_count": null,
   "metadata": {
    "id": "FLBMsZxqhgio"
   },
   "outputs": [],
   "source": [
    "dis_optim = optim.Adam(dis.parameters(), lr=0.00003)\n",
    "gen_optim = optim.Adam(gen.parameters(), lr=0.00003)\n",
    "\n",
    "loss = nn.BCELoss()"
   ]
  },
  {
   "cell_type": "code",
   "execution_count": null,
   "metadata": {
    "colab": {
     "base_uri": "https://localhost:8080/"
    },
    "id": "M5TPvhQSPoAQ",
    "outputId": "2b195af3-876b-41a1-8cdc-2b3873ada789"
   },
   "outputs": [
    {
     "name": "stdout",
     "output_type": "stream",
     "text": [
      "epoch 0 done and the discriminator loss and generator loss are 0.25776350498199463,  2.1049160957336426 respectively \n",
      "epoch 1 done and the discriminator loss and generator loss are 0.060611989349126816,  4.4473958015441895 respectively \n",
      "epoch 2 done and the discriminator loss and generator loss are 0.1695312112569809,  3.9408257007598877 respectively \n",
      "epoch 3 done and the discriminator loss and generator loss are 0.0182613767683506,  7.007094383239746 respectively \n",
      "epoch 4 done and the discriminator loss and generator loss are 0.027448052540421486,  6.830223083496094 respectively \n",
      "epoch 5 done and the discriminator loss and generator loss are 0.027809105813503265,  9.233158111572266 respectively \n",
      "epoch 6 done and the discriminator loss and generator loss are 0.04706846550107002,  7.945505619049072 respectively \n",
      "epoch 7 done and the discriminator loss and generator loss are 0.02197444625198841,  5.217778205871582 respectively \n",
      "epoch 8 done and the discriminator loss and generator loss are 0.1160842776298523,  6.880753040313721 respectively \n",
      "epoch 9 done and the discriminator loss and generator loss are 0.027575215324759483,  5.917944431304932 respectively \n",
      "epoch 10 done and the discriminator loss and generator loss are 0.021187465637922287,  4.943557262420654 respectively \n",
      "epoch 11 done and the discriminator loss and generator loss are 0.041309259831905365,  4.980391502380371 respectively \n",
      "epoch 12 done and the discriminator loss and generator loss are 0.057444095611572266,  5.004251956939697 respectively \n",
      "epoch 13 done and the discriminator loss and generator loss are 0.057721592485904694,  5.253958702087402 respectively \n",
      "epoch 14 done and the discriminator loss and generator loss are 0.06565272808074951,  4.908318996429443 respectively \n",
      "epoch 15 done and the discriminator loss and generator loss are 0.1286686211824417,  4.603050231933594 respectively \n",
      "epoch 16 done and the discriminator loss and generator loss are 0.15469755232334137,  3.6818511486053467 respectively \n",
      "epoch 17 done and the discriminator loss and generator loss are 0.18334317207336426,  4.755012035369873 respectively \n",
      "epoch 18 done and the discriminator loss and generator loss are 0.09660407155752182,  4.624821186065674 respectively \n",
      "epoch 19 done and the discriminator loss and generator loss are 0.18994015455245972,  4.086434841156006 respectively \n",
      "epoch 20 done and the discriminator loss and generator loss are 0.14786261320114136,  2.59548020362854 respectively \n",
      "epoch 21 done and the discriminator loss and generator loss are 0.19373129308223724,  3.750349283218384 respectively \n",
      "epoch 22 done and the discriminator loss and generator loss are 0.2751961350440979,  2.755098819732666 respectively \n",
      "epoch 23 done and the discriminator loss and generator loss are 0.23055341839790344,  2.371028184890747 respectively \n",
      "epoch 24 done and the discriminator loss and generator loss are 0.2223653495311737,  2.772966146469116 respectively \n",
      "epoch 25 done and the discriminator loss and generator loss are 0.2120348960161209,  2.8123180866241455 respectively \n",
      "epoch 26 done and the discriminator loss and generator loss are 0.24263490736484528,  2.83717942237854 respectively \n",
      "epoch 27 done and the discriminator loss and generator loss are 0.43084755539894104,  2.1873223781585693 respectively \n",
      "epoch 28 done and the discriminator loss and generator loss are 0.31269341707229614,  2.07643723487854 respectively \n",
      "epoch 29 done and the discriminator loss and generator loss are 0.26471757888793945,  2.499800443649292 respectively \n",
      "epoch 30 done and the discriminator loss and generator loss are 0.30045023560523987,  2.0675442218780518 respectively \n",
      "epoch 31 done and the discriminator loss and generator loss are 0.3174128830432892,  1.9398258924484253 respectively \n",
      "epoch 32 done and the discriminator loss and generator loss are 0.3747071921825409,  2.1263225078582764 respectively \n",
      "epoch 33 done and the discriminator loss and generator loss are 0.2582683861255646,  2.039355993270874 respectively \n",
      "epoch 34 done and the discriminator loss and generator loss are 0.4047788381576538,  1.1693781614303589 respectively \n",
      "epoch 35 done and the discriminator loss and generator loss are 0.44057413935661316,  1.7039293050765991 respectively \n",
      "epoch 36 done and the discriminator loss and generator loss are 0.39258134365081787,  1.934031367301941 respectively \n",
      "epoch 37 done and the discriminator loss and generator loss are 0.4072341024875641,  1.838650107383728 respectively \n",
      "epoch 38 done and the discriminator loss and generator loss are 0.47654539346694946,  1.688499093055725 respectively \n",
      "epoch 39 done and the discriminator loss and generator loss are 0.4961737394332886,  1.6147475242614746 respectively \n",
      "epoch 40 done and the discriminator loss and generator loss are 0.6044286489486694,  1.5135743618011475 respectively \n",
      "epoch 41 done and the discriminator loss and generator loss are 0.4480510950088501,  1.6830229759216309 respectively \n",
      "epoch 42 done and the discriminator loss and generator loss are 0.4580984115600586,  1.2348899841308594 respectively \n",
      "epoch 43 done and the discriminator loss and generator loss are 0.5078292489051819,  1.4815093278884888 respectively \n",
      "epoch 44 done and the discriminator loss and generator loss are 0.4516119956970215,  1.1387099027633667 respectively \n",
      "epoch 45 done and the discriminator loss and generator loss are 0.5117815732955933,  1.3861995935440063 respectively \n",
      "epoch 46 done and the discriminator loss and generator loss are 0.4235925078392029,  1.4779527187347412 respectively \n",
      "epoch 47 done and the discriminator loss and generator loss are 0.551010012626648,  1.1173286437988281 respectively \n",
      "epoch 48 done and the discriminator loss and generator loss are 0.5198097229003906,  1.1709868907928467 respectively \n",
      "epoch 49 done and the discriminator loss and generator loss are 0.4897390604019165,  1.6903408765792847 respectively \n",
      "epoch 50 done and the discriminator loss and generator loss are 0.6051403284072876,  1.320178508758545 respectively \n",
      "epoch 51 done and the discriminator loss and generator loss are 0.5945593118667603,  1.1071897745132446 respectively \n",
      "epoch 52 done and the discriminator loss and generator loss are 0.4912070333957672,  1.252224087715149 respectively \n",
      "epoch 53 done and the discriminator loss and generator loss are 0.5182842016220093,  1.3698008060455322 respectively \n",
      "epoch 54 done and the discriminator loss and generator loss are 0.5074657201766968,  1.2719218730926514 respectively \n",
      "epoch 55 done and the discriminator loss and generator loss are 0.6146692037582397,  1.135160207748413 respectively \n",
      "epoch 56 done and the discriminator loss and generator loss are 0.6141486167907715,  1.309126615524292 respectively \n",
      "epoch 57 done and the discriminator loss and generator loss are 0.575231671333313,  1.2188341617584229 respectively \n",
      "epoch 58 done and the discriminator loss and generator loss are 0.5068775415420532,  1.1991355419158936 respectively \n",
      "epoch 59 done and the discriminator loss and generator loss are 0.516653299331665,  1.0896916389465332 respectively \n",
      "epoch 60 done and the discriminator loss and generator loss are 0.5966290235519409,  1.1130964756011963 respectively \n",
      "epoch 61 done and the discriminator loss and generator loss are 0.596906840801239,  1.021020770072937 respectively \n",
      "epoch 62 done and the discriminator loss and generator loss are 0.691523551940918,  1.0481622219085693 respectively \n",
      "epoch 63 done and the discriminator loss and generator loss are 0.566789984703064,  1.0362563133239746 respectively \n",
      "epoch 64 done and the discriminator loss and generator loss are 0.5795521140098572,  1.2031800746917725 respectively \n",
      "epoch 65 done and the discriminator loss and generator loss are 0.6199154853820801,  1.1284188032150269 respectively \n",
      "epoch 66 done and the discriminator loss and generator loss are 0.5373215079307556,  1.2907674312591553 respectively \n",
      "epoch 67 done and the discriminator loss and generator loss are 0.6254487037658691,  1.2596911191940308 respectively \n",
      "epoch 68 done and the discriminator loss and generator loss are 0.5377413034439087,  1.2190227508544922 respectively \n",
      "epoch 69 done and the discriminator loss and generator loss are 0.48945122957229614,  1.224016547203064 respectively \n",
      "epoch 70 done and the discriminator loss and generator loss are 0.6081271171569824,  1.1119669675827026 respectively \n",
      "epoch 71 done and the discriminator loss and generator loss are 0.5103116035461426,  1.419575810432434 respectively \n",
      "epoch 72 done and the discriminator loss and generator loss are 0.47702890634536743,  1.3122509717941284 respectively \n",
      "epoch 73 done and the discriminator loss and generator loss are 0.5917713046073914,  1.0294948816299438 respectively \n",
      "epoch 74 done and the discriminator loss and generator loss are 0.5929682850837708,  1.013906478881836 respectively \n",
      "epoch 75 done and the discriminator loss and generator loss are 0.520271897315979,  1.1193859577178955 respectively \n",
      "epoch 76 done and the discriminator loss and generator loss are 0.6802910566329956,  0.9053771495819092 respectively \n",
      "epoch 77 done and the discriminator loss and generator loss are 0.5394755601882935,  1.0200855731964111 respectively \n",
      "epoch 78 done and the discriminator loss and generator loss are 0.476315975189209,  1.2818894386291504 respectively \n",
      "epoch 79 done and the discriminator loss and generator loss are 0.5862405896186829,  1.12981116771698 respectively \n",
      "epoch 80 done and the discriminator loss and generator loss are 0.5934605598449707,  1.0289372205734253 respectively \n",
      "epoch 81 done and the discriminator loss and generator loss are 0.5107688307762146,  1.2078653573989868 respectively \n",
      "epoch 82 done and the discriminator loss and generator loss are 0.5685091018676758,  0.9896268844604492 respectively \n",
      "epoch 83 done and the discriminator loss and generator loss are 0.570843517780304,  1.0396183729171753 respectively \n",
      "epoch 84 done and the discriminator loss and generator loss are 0.5777536630630493,  1.0102580785751343 respectively \n",
      "epoch 85 done and the discriminator loss and generator loss are 0.5563949942588806,  1.1686018705368042 respectively \n",
      "epoch 86 done and the discriminator loss and generator loss are 0.5871855020523071,  1.0113284587860107 respectively \n",
      "epoch 87 done and the discriminator loss and generator loss are 0.48871806263923645,  1.0919471979141235 respectively \n",
      "epoch 88 done and the discriminator loss and generator loss are 0.6217050552368164,  1.1822541952133179 respectively \n",
      "epoch 89 done and the discriminator loss and generator loss are 0.5426914095878601,  0.9474877715110779 respectively \n",
      "epoch 90 done and the discriminator loss and generator loss are 0.6135401725769043,  1.004447102546692 respectively \n",
      "epoch 91 done and the discriminator loss and generator loss are 0.5211748480796814,  1.095992922782898 respectively \n",
      "epoch 92 done and the discriminator loss and generator loss are 0.5389782190322876,  0.9690365195274353 respectively \n",
      "epoch 93 done and the discriminator loss and generator loss are 0.6388785243034363,  0.9824132919311523 respectively \n",
      "epoch 94 done and the discriminator loss and generator loss are 0.5471345782279968,  0.8865809440612793 respectively \n",
      "epoch 95 done and the discriminator loss and generator loss are 0.5937122106552124,  0.958353579044342 respectively \n",
      "epoch 96 done and the discriminator loss and generator loss are 0.5648776292800903,  1.1828901767730713 respectively \n",
      "epoch 97 done and the discriminator loss and generator loss are 0.5282427668571472,  1.1356182098388672 respectively \n",
      "epoch 98 done and the discriminator loss and generator loss are 0.600920557975769,  1.0440558195114136 respectively \n",
      "epoch 99 done and the discriminator loss and generator loss are 0.5353586673736572,  1.0848382711410522 respectively \n",
      "epoch 100 done and the discriminator loss and generator loss are 0.6708688139915466,  1.0053129196166992 respectively \n",
      "epoch 101 done and the discriminator loss and generator loss are 0.5819098353385925,  0.9871442914009094 respectively \n",
      "epoch 102 done and the discriminator loss and generator loss are 0.6163549423217773,  0.9381532073020935 respectively \n",
      "epoch 103 done and the discriminator loss and generator loss are 0.6394356489181519,  1.0758875608444214 respectively \n",
      "epoch 104 done and the discriminator loss and generator loss are 0.6136553287506104,  1.0601677894592285 respectively \n",
      "epoch 105 done and the discriminator loss and generator loss are 0.5601868033409119,  1.032372236251831 respectively \n",
      "epoch 106 done and the discriminator loss and generator loss are 0.6099367141723633,  0.8941378593444824 respectively \n",
      "epoch 107 done and the discriminator loss and generator loss are 0.5726051330566406,  0.9352278113365173 respectively \n",
      "epoch 108 done and the discriminator loss and generator loss are 0.5893393754959106,  1.0338222980499268 respectively \n",
      "epoch 109 done and the discriminator loss and generator loss are 0.614005446434021,  0.8411695957183838 respectively \n",
      "epoch 110 done and the discriminator loss and generator loss are 0.5964421033859253,  0.9640847444534302 respectively \n",
      "epoch 111 done and the discriminator loss and generator loss are 0.6329541206359863,  0.9662898182868958 respectively \n",
      "epoch 112 done and the discriminator loss and generator loss are 0.6756199598312378,  0.9649634957313538 respectively \n",
      "epoch 113 done and the discriminator loss and generator loss are 0.5887830257415771,  0.9457014203071594 respectively \n",
      "epoch 114 done and the discriminator loss and generator loss are 0.5850279331207275,  1.0702900886535645 respectively \n",
      "epoch 115 done and the discriminator loss and generator loss are 0.5621986389160156,  1.1121366024017334 respectively \n",
      "epoch 116 done and the discriminator loss and generator loss are 0.6329521536827087,  0.878383457660675 respectively \n",
      "epoch 117 done and the discriminator loss and generator loss are 0.6757156252861023,  0.9243060350418091 respectively \n",
      "epoch 118 done and the discriminator loss and generator loss are 0.6084616780281067,  0.9641538262367249 respectively \n",
      "epoch 119 done and the discriminator loss and generator loss are 0.626001238822937,  1.0085464715957642 respectively \n",
      "epoch 120 done and the discriminator loss and generator loss are 0.5764738321304321,  1.0704765319824219 respectively \n",
      "epoch 121 done and the discriminator loss and generator loss are 0.606350839138031,  1.0081455707550049 respectively \n",
      "epoch 122 done and the discriminator loss and generator loss are 0.5664414763450623,  1.1850624084472656 respectively \n",
      "epoch 123 done and the discriminator loss and generator loss are 0.6239491701126099,  0.7940743565559387 respectively \n",
      "epoch 124 done and the discriminator loss and generator loss are 0.573241114616394,  1.1170607805252075 respectively \n",
      "epoch 125 done and the discriminator loss and generator loss are 0.5988718271255493,  1.0597591400146484 respectively \n",
      "epoch 126 done and the discriminator loss and generator loss are 0.5296041369438171,  1.0650473833084106 respectively \n",
      "epoch 127 done and the discriminator loss and generator loss are 0.6371755599975586,  1.0687527656555176 respectively \n",
      "epoch 128 done and the discriminator loss and generator loss are 0.5242142677307129,  1.0640617609024048 respectively \n",
      "epoch 129 done and the discriminator loss and generator loss are 0.6518710851669312,  0.82435542345047 respectively \n",
      "epoch 130 done and the discriminator loss and generator loss are 0.5740963220596313,  0.9759847521781921 respectively \n",
      "epoch 131 done and the discriminator loss and generator loss are 0.6319289207458496,  1.0282845497131348 respectively \n",
      "epoch 132 done and the discriminator loss and generator loss are 0.6018956303596497,  1.0377250909805298 respectively \n",
      "epoch 133 done and the discriminator loss and generator loss are 0.631914496421814,  0.9076715111732483 respectively \n",
      "epoch 134 done and the discriminator loss and generator loss are 0.6260735392570496,  1.0174363851547241 respectively \n",
      "epoch 135 done and the discriminator loss and generator loss are 0.570152997970581,  0.850906491279602 respectively \n",
      "epoch 136 done and the discriminator loss and generator loss are 0.6425778865814209,  0.8284493684768677 respectively \n",
      "epoch 137 done and the discriminator loss and generator loss are 0.5775612592697144,  1.115389347076416 respectively \n",
      "epoch 138 done and the discriminator loss and generator loss are 0.567152738571167,  0.9031088352203369 respectively \n",
      "epoch 139 done and the discriminator loss and generator loss are 0.5678672790527344,  1.104752540588379 respectively \n",
      "epoch 140 done and the discriminator loss and generator loss are 0.6625826954841614,  0.9892007112503052 respectively \n",
      "epoch 141 done and the discriminator loss and generator loss are 0.5632810592651367,  1.0435066223144531 respectively \n",
      "epoch 142 done and the discriminator loss and generator loss are 0.5572959780693054,  1.065407395362854 respectively \n",
      "epoch 143 done and the discriminator loss and generator loss are 0.6244614720344543,  0.9580054879188538 respectively \n",
      "epoch 144 done and the discriminator loss and generator loss are 0.5962420701980591,  0.941658616065979 respectively \n",
      "epoch 145 done and the discriminator loss and generator loss are 0.6531909704208374,  0.8872992992401123 respectively \n",
      "epoch 146 done and the discriminator loss and generator loss are 0.5911329984664917,  0.9728336930274963 respectively \n",
      "epoch 147 done and the discriminator loss and generator loss are 0.5700334310531616,  1.0120192766189575 respectively \n",
      "epoch 148 done and the discriminator loss and generator loss are 0.6294549107551575,  0.866441011428833 respectively \n",
      "epoch 149 done and the discriminator loss and generator loss are 0.603344202041626,  1.036981225013733 respectively \n",
      "epoch 150 done and the discriminator loss and generator loss are 0.5507899522781372,  0.8900392651557922 respectively \n",
      "epoch 151 done and the discriminator loss and generator loss are 0.6302878856658936,  0.9805590510368347 respectively \n",
      "epoch 152 done and the discriminator loss and generator loss are 0.6276171207427979,  0.9013757109642029 respectively \n",
      "epoch 153 done and the discriminator loss and generator loss are 0.5997927188873291,  0.9183620810508728 respectively \n",
      "epoch 154 done and the discriminator loss and generator loss are 0.6055840253829956,  1.0322080850601196 respectively \n",
      "epoch 155 done and the discriminator loss and generator loss are 0.6283745765686035,  0.7977093458175659 respectively \n",
      "epoch 156 done and the discriminator loss and generator loss are 0.5813148021697998,  1.006971001625061 respectively \n",
      "epoch 157 done and the discriminator loss and generator loss are 0.642005443572998,  0.8974324464797974 respectively \n",
      "epoch 158 done and the discriminator loss and generator loss are 0.5994267463684082,  0.9057407379150391 respectively \n",
      "epoch 159 done and the discriminator loss and generator loss are 0.649803876876831,  0.9019309282302856 respectively \n",
      "epoch 160 done and the discriminator loss and generator loss are 0.6501118540763855,  0.96463543176651 respectively \n",
      "epoch 161 done and the discriminator loss and generator loss are 0.6311754584312439,  1.0243891477584839 respectively \n",
      "epoch 162 done and the discriminator loss and generator loss are 0.5963528156280518,  0.8809237480163574 respectively \n",
      "epoch 163 done and the discriminator loss and generator loss are 0.6617189049720764,  0.9133399724960327 respectively \n",
      "epoch 164 done and the discriminator loss and generator loss are 0.5383270382881165,  1.1606521606445312 respectively \n",
      "epoch 165 done and the discriminator loss and generator loss are 0.6280723810195923,  0.800186276435852 respectively \n",
      "epoch 166 done and the discriminator loss and generator loss are 0.5710541009902954,  0.8910198211669922 respectively \n",
      "epoch 167 done and the discriminator loss and generator loss are 0.558219313621521,  1.0425705909729004 respectively \n",
      "epoch 168 done and the discriminator loss and generator loss are 0.5552412271499634,  0.9849390983581543 respectively \n",
      "epoch 169 done and the discriminator loss and generator loss are 0.6109873652458191,  0.9530819654464722 respectively \n",
      "epoch 170 done and the discriminator loss and generator loss are 0.6368063688278198,  0.8632286787033081 respectively \n",
      "epoch 171 done and the discriminator loss and generator loss are 0.5728180408477783,  0.8715806603431702 respectively \n",
      "epoch 172 done and the discriminator loss and generator loss are 0.5877670049667358,  1.141505241394043 respectively \n",
      "epoch 173 done and the discriminator loss and generator loss are 0.5854167938232422,  1.1287353038787842 respectively \n",
      "epoch 174 done and the discriminator loss and generator loss are 0.5912002325057983,  0.9573035836219788 respectively \n",
      "epoch 175 done and the discriminator loss and generator loss are 0.6048798561096191,  0.9546786546707153 respectively \n",
      "epoch 176 done and the discriminator loss and generator loss are 0.6272494792938232,  1.0793472528457642 respectively \n",
      "epoch 177 done and the discriminator loss and generator loss are 0.6306360363960266,  0.9720645546913147 respectively \n",
      "epoch 178 done and the discriminator loss and generator loss are 0.5718119144439697,  0.8502168655395508 respectively \n",
      "epoch 179 done and the discriminator loss and generator loss are 0.5624400973320007,  0.9302570819854736 respectively \n",
      "epoch 180 done and the discriminator loss and generator loss are 0.5822219252586365,  1.0070055723190308 respectively \n",
      "epoch 181 done and the discriminator loss and generator loss are 0.6527764797210693,  0.8544142246246338 respectively \n",
      "epoch 182 done and the discriminator loss and generator loss are 0.5853413343429565,  1.1359368562698364 respectively \n",
      "epoch 183 done and the discriminator loss and generator loss are 0.6210565567016602,  0.925212562084198 respectively \n",
      "epoch 184 done and the discriminator loss and generator loss are 0.592078447341919,  1.0113568305969238 respectively \n",
      "epoch 185 done and the discriminator loss and generator loss are 0.5792187452316284,  1.002532958984375 respectively \n",
      "epoch 186 done and the discriminator loss and generator loss are 0.6263246536254883,  0.897804319858551 respectively \n",
      "epoch 187 done and the discriminator loss and generator loss are 0.5833415985107422,  0.974968671798706 respectively \n",
      "epoch 188 done and the discriminator loss and generator loss are 0.6244004964828491,  0.958455502986908 respectively \n",
      "epoch 189 done and the discriminator loss and generator loss are 0.5769938230514526,  0.8352060317993164 respectively \n",
      "epoch 190 done and the discriminator loss and generator loss are 0.6120567917823792,  0.8914982676506042 respectively \n",
      "epoch 191 done and the discriminator loss and generator loss are 0.6547846794128418,  0.9457768797874451 respectively \n",
      "epoch 192 done and the discriminator loss and generator loss are 0.5943294763565063,  1.0825129747390747 respectively \n",
      "epoch 193 done and the discriminator loss and generator loss are 0.6607730984687805,  1.0007967948913574 respectively \n",
      "epoch 194 done and the discriminator loss and generator loss are 0.5941990613937378,  1.0260257720947266 respectively \n",
      "epoch 195 done and the discriminator loss and generator loss are 0.6061002016067505,  0.8663017153739929 respectively \n",
      "epoch 196 done and the discriminator loss and generator loss are 0.6507775783538818,  1.0552146434783936 respectively \n",
      "epoch 197 done and the discriminator loss and generator loss are 0.6660560369491577,  0.9477952122688293 respectively \n",
      "epoch 198 done and the discriminator loss and generator loss are 0.6367358565330505,  1.022877812385559 respectively \n",
      "epoch 199 done and the discriminator loss and generator loss are 0.6401529908180237,  0.8745759129524231 respectively \n",
      "epoch 200 done and the discriminator loss and generator loss are 0.5699210166931152,  0.9559890031814575 respectively \n",
      "epoch 201 done and the discriminator loss and generator loss are 0.6233111619949341,  0.9967958331108093 respectively \n",
      "epoch 202 done and the discriminator loss and generator loss are 0.632376492023468,  0.7953998446464539 respectively \n",
      "epoch 203 done and the discriminator loss and generator loss are 0.635918378829956,  1.0444602966308594 respectively \n",
      "epoch 204 done and the discriminator loss and generator loss are 0.5965544581413269,  0.922257661819458 respectively \n",
      "epoch 205 done and the discriminator loss and generator loss are 0.6002728939056396,  0.8842933177947998 respectively \n",
      "epoch 206 done and the discriminator loss and generator loss are 0.6516261696815491,  0.9549594521522522 respectively \n",
      "epoch 207 done and the discriminator loss and generator loss are 0.6718236207962036,  0.9347643852233887 respectively \n",
      "epoch 208 done and the discriminator loss and generator loss are 0.6341205835342407,  0.9278042912483215 respectively \n",
      "epoch 209 done and the discriminator loss and generator loss are 0.6058659553527832,  1.0670069456100464 respectively \n",
      "epoch 210 done and the discriminator loss and generator loss are 0.614952027797699,  0.8785458207130432 respectively \n",
      "epoch 211 done and the discriminator loss and generator loss are 0.6735938787460327,  0.8148000240325928 respectively \n",
      "epoch 212 done and the discriminator loss and generator loss are 0.5701557397842407,  0.9563097953796387 respectively \n",
      "epoch 213 done and the discriminator loss and generator loss are 0.6491791009902954,  0.9248090386390686 respectively \n",
      "epoch 214 done and the discriminator loss and generator loss are 0.5633888244628906,  0.9140254855155945 respectively \n",
      "epoch 215 done and the discriminator loss and generator loss are 0.6635797619819641,  0.9727436900138855 respectively \n",
      "epoch 216 done and the discriminator loss and generator loss are 0.5737866163253784,  1.083974838256836 respectively \n",
      "epoch 217 done and the discriminator loss and generator loss are 0.6154924035072327,  1.0071803331375122 respectively \n",
      "epoch 218 done and the discriminator loss and generator loss are 0.603225827217102,  1.0497790575027466 respectively \n",
      "epoch 219 done and the discriminator loss and generator loss are 0.5964698195457458,  0.8346067667007446 respectively \n",
      "epoch 220 done and the discriminator loss and generator loss are 0.6167007684707642,  0.8787791132926941 respectively \n",
      "epoch 221 done and the discriminator loss and generator loss are 0.5502359867095947,  1.0060595273971558 respectively \n",
      "epoch 222 done and the discriminator loss and generator loss are 0.6551974415779114,  0.994105339050293 respectively \n",
      "epoch 223 done and the discriminator loss and generator loss are 0.6614774465560913,  1.1864209175109863 respectively \n",
      "epoch 224 done and the discriminator loss and generator loss are 0.6590214967727661,  0.9527087807655334 respectively \n",
      "epoch 225 done and the discriminator loss and generator loss are 0.6867414712905884,  0.7951934933662415 respectively \n",
      "epoch 226 done and the discriminator loss and generator loss are 0.6781627535820007,  0.827874481678009 respectively \n",
      "epoch 227 done and the discriminator loss and generator loss are 0.5841698050498962,  1.0886293649673462 respectively \n",
      "epoch 228 done and the discriminator loss and generator loss are 0.596403956413269,  0.9134588241577148 respectively \n",
      "epoch 229 done and the discriminator loss and generator loss are 0.603000283241272,  1.1128021478652954 respectively \n",
      "epoch 230 done and the discriminator loss and generator loss are 0.6636344194412231,  0.9348266124725342 respectively \n",
      "epoch 231 done and the discriminator loss and generator loss are 0.6221504211425781,  0.7045679092407227 respectively \n",
      "epoch 232 done and the discriminator loss and generator loss are 0.58067786693573,  0.9540173411369324 respectively \n",
      "epoch 233 done and the discriminator loss and generator loss are 0.5937600135803223,  0.9940382242202759 respectively \n",
      "epoch 234 done and the discriminator loss and generator loss are 0.6044566035270691,  0.9950123429298401 respectively \n",
      "epoch 235 done and the discriminator loss and generator loss are 0.5790552496910095,  0.9725391864776611 respectively \n",
      "epoch 236 done and the discriminator loss and generator loss are 0.6035802364349365,  0.9739252924919128 respectively \n",
      "epoch 237 done and the discriminator loss and generator loss are 0.5655077695846558,  1.0466926097869873 respectively \n",
      "epoch 238 done and the discriminator loss and generator loss are 0.6827347278594971,  0.8034670948982239 respectively \n",
      "epoch 239 done and the discriminator loss and generator loss are 0.6040003299713135,  0.9277440309524536 respectively \n",
      "epoch 240 done and the discriminator loss and generator loss are 0.565872073173523,  0.9200021028518677 respectively \n",
      "epoch 241 done and the discriminator loss and generator loss are 0.5589402914047241,  1.0238192081451416 respectively \n",
      "epoch 242 done and the discriminator loss and generator loss are 0.5915203094482422,  0.8693549633026123 respectively \n",
      "epoch 243 done and the discriminator loss and generator loss are 0.6802384257316589,  0.9643185138702393 respectively \n",
      "epoch 244 done and the discriminator loss and generator loss are 0.6336656808853149,  1.08287513256073 respectively \n",
      "epoch 245 done and the discriminator loss and generator loss are 0.6364367604255676,  0.9899812340736389 respectively \n",
      "epoch 246 done and the discriminator loss and generator loss are 0.5941780209541321,  0.9321418404579163 respectively \n",
      "epoch 247 done and the discriminator loss and generator loss are 0.6308833360671997,  1.0309594869613647 respectively \n",
      "epoch 248 done and the discriminator loss and generator loss are 0.6246562004089355,  0.9513314366340637 respectively \n",
      "epoch 249 done and the discriminator loss and generator loss are 0.5833481550216675,  1.0933676958084106 respectively \n",
      "epoch 250 done and the discriminator loss and generator loss are 0.5609490275382996,  1.0654339790344238 respectively \n",
      "epoch 251 done and the discriminator loss and generator loss are 0.5318169593811035,  1.0560203790664673 respectively \n",
      "epoch 252 done and the discriminator loss and generator loss are 0.5476206541061401,  0.9613983035087585 respectively \n",
      "epoch 253 done and the discriminator loss and generator loss are 0.6515695452690125,  0.9698205590248108 respectively \n",
      "epoch 254 done and the discriminator loss and generator loss are 0.6478025913238525,  0.9997571110725403 respectively \n",
      "epoch 255 done and the discriminator loss and generator loss are 0.5726315379142761,  0.9332006573677063 respectively \n",
      "epoch 256 done and the discriminator loss and generator loss are 0.5876384973526001,  1.0731748342514038 respectively \n",
      "epoch 257 done and the discriminator loss and generator loss are 0.5813241004943848,  1.1494866609573364 respectively \n",
      "epoch 258 done and the discriminator loss and generator loss are 0.6285678744316101,  1.0788722038269043 respectively \n",
      "epoch 259 done and the discriminator loss and generator loss are 0.6320569515228271,  1.048911213874817 respectively \n",
      "epoch 260 done and the discriminator loss and generator loss are 0.5523175001144409,  1.1244381666183472 respectively \n",
      "epoch 261 done and the discriminator loss and generator loss are 0.6087150573730469,  1.0598937273025513 respectively \n",
      "epoch 262 done and the discriminator loss and generator loss are 0.5735592842102051,  1.1867724657058716 respectively \n",
      "epoch 263 done and the discriminator loss and generator loss are 0.5534923076629639,  0.9952600002288818 respectively \n",
      "epoch 264 done and the discriminator loss and generator loss are 0.6667754650115967,  1.0118191242218018 respectively \n",
      "epoch 265 done and the discriminator loss and generator loss are 0.5705337524414062,  0.9842121601104736 respectively \n",
      "epoch 266 done and the discriminator loss and generator loss are 0.70508873462677,  0.9455810189247131 respectively \n",
      "epoch 267 done and the discriminator loss and generator loss are 0.5486768484115601,  1.1235451698303223 respectively \n",
      "epoch 268 done and the discriminator loss and generator loss are 0.5456695556640625,  1.0403410196304321 respectively \n",
      "epoch 269 done and the discriminator loss and generator loss are 0.6384570002555847,  1.0149070024490356 respectively \n",
      "epoch 270 done and the discriminator loss and generator loss are 0.6637131571769714,  0.9067816138267517 respectively \n",
      "epoch 271 done and the discriminator loss and generator loss are 0.579938530921936,  1.0124136209487915 respectively \n",
      "epoch 272 done and the discriminator loss and generator loss are 0.6171706914901733,  1.0896949768066406 respectively \n",
      "epoch 273 done and the discriminator loss and generator loss are 0.608723521232605,  0.9980992078781128 respectively \n",
      "epoch 274 done and the discriminator loss and generator loss are 0.5553971529006958,  1.1517466306686401 respectively \n",
      "epoch 275 done and the discriminator loss and generator loss are 0.5986568927764893,  1.0349314212799072 respectively \n",
      "epoch 276 done and the discriminator loss and generator loss are 0.5890771746635437,  1.1093316078186035 respectively \n",
      "epoch 277 done and the discriminator loss and generator loss are 0.6031292676925659,  0.9006768465042114 respectively \n",
      "epoch 278 done and the discriminator loss and generator loss are 0.5979099869728088,  0.8621984124183655 respectively \n",
      "epoch 279 done and the discriminator loss and generator loss are 0.5409167408943176,  1.1011183261871338 respectively \n",
      "epoch 280 done and the discriminator loss and generator loss are 0.6736088991165161,  1.042299509048462 respectively \n",
      "epoch 281 done and the discriminator loss and generator loss are 0.5333133935928345,  1.0936579704284668 respectively \n",
      "epoch 282 done and the discriminator loss and generator loss are 0.5864437222480774,  0.8191866874694824 respectively \n",
      "epoch 283 done and the discriminator loss and generator loss are 0.6469812393188477,  1.061576247215271 respectively \n",
      "epoch 284 done and the discriminator loss and generator loss are 0.6306610107421875,  1.0081478357315063 respectively \n",
      "epoch 285 done and the discriminator loss and generator loss are 0.5952745079994202,  1.1041827201843262 respectively \n",
      "epoch 286 done and the discriminator loss and generator loss are 0.6362180709838867,  1.0426255464553833 respectively \n",
      "epoch 287 done and the discriminator loss and generator loss are 0.6672173738479614,  0.9606563448905945 respectively \n",
      "epoch 288 done and the discriminator loss and generator loss are 0.6360092163085938,  0.9742719531059265 respectively \n",
      "epoch 289 done and the discriminator loss and generator loss are 0.5916879177093506,  1.0639028549194336 respectively \n",
      "epoch 290 done and the discriminator loss and generator loss are 0.5675674080848694,  0.9608623385429382 respectively \n",
      "epoch 291 done and the discriminator loss and generator loss are 0.6152529120445251,  1.0125133991241455 respectively \n",
      "epoch 292 done and the discriminator loss and generator loss are 0.6057686805725098,  1.0308363437652588 respectively \n",
      "epoch 293 done and the discriminator loss and generator loss are 0.6121448278427124,  1.0799421072006226 respectively \n",
      "epoch 294 done and the discriminator loss and generator loss are 0.6904705166816711,  0.9731950163841248 respectively \n",
      "epoch 295 done and the discriminator loss and generator loss are 0.5967451930046082,  0.9558525085449219 respectively \n",
      "epoch 296 done and the discriminator loss and generator loss are 0.5683078765869141,  0.9068089127540588 respectively \n",
      "epoch 297 done and the discriminator loss and generator loss are 0.6340224742889404,  0.9307166337966919 respectively \n",
      "epoch 298 done and the discriminator loss and generator loss are 0.5569551587104797,  1.0562037229537964 respectively \n",
      "epoch 299 done and the discriminator loss and generator loss are 0.5569295883178711,  1.0478051900863647 respectively \n"
     ]
    }
   ],
   "source": [
    "\n",
    "no_of_epochs=300\n",
    "\n",
    "\n",
    "real_acc_list=[]\n",
    "fake_acc_list=[]\n",
    "\n",
    "for i in range(no_of_epochs):\n",
    "  length1=0\n",
    "  length2=0\n",
    "  acc_fake=0\n",
    "  acc_real=0\n",
    "  for num,dat in enumerate(trainc):\n",
    "    dis.train()\n",
    "    noise_input=torch.randn(50,100).cuda()\n",
    "    noise_labels=torch.randint(0,10,(50,)).cuda()\n",
    "    gen_output=gen.forward(noise_input,noise_labels)\n",
    "    im,la=dat\n",
    "    dis_input=im.view(50,784).cuda()\n",
    "    dis_labels=la.cuda()\n",
    "    t_labels=torch.ones(50).cuda()\n",
    "    dis_optim.zero_grad()\n",
    "    dis_output_t=dis.forward(dis_input,dis_labels).view(50)\n",
    "    acc_re=torch.round(dis_output_t)\n",
    "    length2+=dis_labels.size(0)\n",
    "    acc_real+=(torch.sum(acc_re).item())\n",
    "    dis_loss_t=loss(dis_output_t,t_labels)\n",
    "    dis_output_g=dis.forward(gen_output,noise_labels).view(50)\n",
    "    acc_fa=torch.round(dis_output_g)\n",
    "    acc_fake+=(torch.sum(acc_fa).item())\n",
    "    length1+=noise_labels.size(0)\n",
    "    dis_loss_g=loss(dis_output_g,torch.zeros(50).cuda())\n",
    "    dis_total_loss=(dis_loss_t+dis_loss_g)/2\n",
    "\n",
    "\n",
    "    dis_total_loss.backward()\n",
    "    dis_optim.step()\n",
    "    \n",
    "\n",
    "    gen.train()\n",
    "    gen_optim.zero_grad()\n",
    "    gen_output=gen.forward(noise_input,noise_labels)\n",
    "    dis_output_g=dis.forward(gen_output,noise_labels).view(50)\n",
    "    gen_loss=loss(dis_output_g,t_labels)\n",
    "    gen_loss.backward()\n",
    "    gen_optim.step()\n",
    "\n",
    "  real_acc_list.append(acc_real/length2)\n",
    "  fake_acc_list.append(acc_fake/length1)  \n",
    "\n",
    "\n",
    "\n",
    "\n",
    "  print(\"epoch {} done and the discriminator loss and generator loss are {},  {} respectively \".format(i,dis_total_loss,gen_loss))"
   ]
  },
  {
   "cell_type": "code",
   "execution_count": null,
   "metadata": {
    "id": "7P8oDe649X-F"
   },
   "outputs": [],
   "source": [
    "\n",
    "with torch.no_grad():\n",
    "  noise = torch.randn(100,100).cuda()\n",
    "  noise_labels = torch.LongTensor([i for i in range(10) for j in range(10)]).cuda()\n",
    "  generated_data = gen(noise, noise_labels).cpu().view(100, 28, 28)"
   ]
  },
  {
   "cell_type": "code",
   "execution_count": null,
   "metadata": {
    "colab": {
     "base_uri": "https://localhost:8080/",
     "height": 265
    },
    "id": "Deqwb4gULswz",
    "outputId": "9c4e2182-1241-4ef8-bf04-e7db72e9377a"
   },
   "outputs": [
    {
     "name": "stdout",
     "output_type": "stream",
     "text": [
      "Generated Images\n"
     ]
    },
    {
     "data": {
      "image/png": "[encoded data removed]",
      "text/plain": [
       "<Figure size 432x288 with 100 Axes>"
      ]
     },
     "metadata": {
      "needs_background": "light",
      "tags": []
     },
     "output_type": "display_data"
    }
   ],
   "source": [
    "print(\"Generated Images\")\n",
    "ind=0\n",
    "f,a=plt.subplots(10,10)\n",
    "for i in range(10):\n",
    " for j in range(10):\n",
    "    a[i][j].imshow(generated_data[ind,:,:],cmap='gray')\n",
    "    a[i][j].axis('off')\n",
    "    ind+=1\n"
   ]
  },
  {
   "cell_type": "code",
   "execution_count": null,
   "metadata": {
    "colab": {
     "base_uri": "https://localhost:8080/",
     "height": 265
    },
    "id": "qnoql9BfWeVa",
    "outputId": "3fd28f93-a160-440d-cee1-8e5890cbb3f8"
   },
   "outputs": [
    {
     "data": {
      "image/png": "[encoded data removed]",
      "text/plain": [
       "<Figure size 432x288 with 1 Axes>"
      ]
     },
     "metadata": {
      "needs_background": "light",
      "tags": []
     },
     "output_type": "display_data"
    }
   ],
   "source": [
    "plt.plot(range(300),real_acc_list)\n",
    "plt.plot(range(300),fake_acc_list)\n",
    "plt.legend(['Real Images Accuracy','Fake Images Accuracy'])\n",
    "plt.show()"
   ]
  },
  {
   "cell_type": "code",
   "execution_count": null,
   "metadata": {
    "id": "iUKD3apQde74"
   },
   "outputs": [],
   "source": []
  }
 ],
 "metadata": {
  "accelerator": "GPU",
  "colab": {
   "collapsed_sections": [],
   "machine_shape": "hm",
   "name": "HW4 Part 3.ipynb",
   "provenance": []
  },
  "kernelspec": {
   "display_name": "Python 3",
   "language": "python",
   "name": "python3"
  },
  "language_info": {
   "codemirror_mode": {
    "name": "ipython",
    "version": 3
   },
   "file_extension": ".py",
   "mimetype": "text/x-python",
   "name": "python",
   "nbconvert_exporter": "python",
   "pygments_lexer": "ipython3",
   "version": "3.7.3"
  }
 },
 "nbformat": 4,
 "nbformat_minor": 1
}
