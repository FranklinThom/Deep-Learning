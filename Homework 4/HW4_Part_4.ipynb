{
 "cells": [
  {
   "cell_type": "markdown",
   "metadata": {},
   "source": [
    "## frathom\n",
    "## Homework 4 Part 4"
   ]
  },
  {
   "cell_type": "code",
   "execution_count": null,
   "metadata": {
    "id": "43yr9nByEWPO"
   },
   "outputs": [],
   "source": [
    "import torch\n",
    "import torch.nn as nn\n",
    "import torch.nn.functional as F\n",
    "import torchvision.transforms as transforms\n",
    "import torchvision.transforms.functional as tf\n",
    "import torchvision\n",
    "from torch.autograd import Variable\n",
    "import matplotlib.pyplot as plt\n",
    "import numpy as np\n",
    "from google.colab import drive\n",
    "import helper\n",
    "from torch.utils.data.sampler import SubsetRandomSampler\n",
    "from torch.utils.data import TensorDataset\n",
    "import glob\n",
    "import librosa\n",
    "import math\n",
    "from torch import optim as optim\n",
    "import torchvision"
   ]
  },
  {
   "cell_type": "code",
   "execution_count": null,
   "metadata": {
    "id": "a8CcbmvmEclA"
   },
   "outputs": [],
   "source": [
    "mnist_train=torchvision.datasets.MNIST('mnist',train=True,download=True,transform=torchvision.transforms.Compose([torchvision.transforms.ToTensor(),torchvision.transforms.Normalize((0.5,), (0.5,))]))"
   ]
  },
  {
   "cell_type": "code",
   "execution_count": null,
   "metadata": {
    "id": "4jDVSUufEflh"
   },
   "outputs": [],
   "source": [
    "trainc=torch.utils.data.DataLoader(mnist_train,batch_size=50,shuffle=True)"
   ]
  },
  {
   "cell_type": "code",
   "execution_count": null,
   "metadata": {
    "colab": {
     "base_uri": "https://localhost:8080/"
    },
    "id": "AiFz2VONElLP",
    "outputId": "41f07efd-088b-4ad1-e2a7-a68da51facda"
   },
   "outputs": [
    {
     "name": "stdout",
     "output_type": "stream",
     "text": [
      "torch.Size([50, 1, 28, 28])\n",
      "torch.Size([50, 28, 28])\n",
      "torch.Size([50, 10, 10])\n",
      "torch.Size([50, 100])\n",
      "torch.Size([50, 200])\n"
     ]
    }
   ],
   "source": [
    "#experiment\n",
    "for i,val in enumerate(trainc):\n",
    "  #print(v[0].shape)\n",
    "  v,l=val\n",
    "  print(v.shape)\n",
    "  v=v.view(50,28,28)\n",
    "  print(v.shape)\n",
    "  v=v[:,9:19,9:19]\n",
    "  print(v.shape)\n",
    "  v=v.flatten(1,2)\n",
    "  print(v.shape)\n",
    "  noise_input=torch.randn(50,100)\n",
    "  inp=torch.cat([v,noise_input],axis=1)\n",
    "  print(inp.shape)\n",
    "  break"
   ]
  },
  {
   "cell_type": "code",
   "execution_count": null,
   "metadata": {
    "colab": {
     "base_uri": "https://localhost:8080/"
    },
    "id": "E7ALCfqcTz7t",
    "outputId": "f4aa9040-acc0-46a3-80bd-ecf5d91e0dc0"
   },
   "outputs": [
    {
     "data": {
      "text/plain": [
       "tensor([1., 0., 0., 0., 0., 0., 0., 0., 0., 0.], device='cuda:0')"
      ]
     },
     "execution_count": 5,
     "metadata": {
      "tags": []
     },
     "output_type": "execute_result"
    }
   ],
   "source": [
    "onehot = torch.FloatTensor(np.eye(10)).cuda()\n",
    "onehot[0]"
   ]
  },
  {
   "cell_type": "code",
   "execution_count": null,
   "metadata": {
    "id": "NEDeo3KFFMak"
   },
   "outputs": [],
   "source": [
    "class generator_m(nn.Module):\n",
    "  def __init__(self,input_units,out):\n",
    "    self.input_units=input_units\n",
    "    super(generator_m,self).__init__()\n",
    "    #self.embedding=nn.Embedding(10,10)\n",
    "    self.inp=nn.Sequential(nn.Linear(input_units,512),nn.LeakyReLU(0.2))\n",
    "    self.l1=nn.Sequential(nn.Linear(512,1024),nn.LeakyReLU(0.2))\n",
    "    self.l2=nn.Sequential(nn.Linear(1024,2048),nn.LeakyReLU(0.2))\n",
    "    #self.l3=nn.Sequential(nn.Linear(2048,4096),nn.ReLU(),nn.Dropout(0.2))\n",
    "    self.l4=nn.Sequential(nn.Linear(2048,out),nn.Tanh())\n",
    "  \n",
    "  def forward(self,x):\n",
    "    #x=x.view(-1,self.input_units)\n",
    "    self.x=x\n",
    "    #self.label=label\n",
    "    #o=onehot[self.label]\n",
    "    #x=torch.cat([x,o],1)\n",
    "    self.x1=self.inp(x)\n",
    "    self.x2=self.l1(self.x1)\n",
    "    self.x3=self.l2(self.x2)\n",
    "    #self.x4=self.l3(self.x3)\n",
    "    self.out=self.l4(self.x3)\n",
    "\n",
    "    #self.softmax=F.log_softmax(self.x6,dim=1) \n",
    "    return self.out"
   ]
  },
  {
   "cell_type": "code",
   "execution_count": null,
   "metadata": {
    "id": "v9RoavMdH0sQ"
   },
   "outputs": [],
   "source": [
    "class discriminator_m(nn.Module):\n",
    "  def __init__(self,input_units,out):\n",
    "    self.input_units=input_units\n",
    "    super(discriminator_m,self).__init__()\n",
    "    #self.embedding=nn.Embedding(10,10)\n",
    "    self.inp=nn.Sequential(nn.Linear(input_units,2048),nn.LeakyReLU(0.2),nn.Dropout(0.3))\n",
    "    self.l1=nn.Sequential(nn.Linear(2048,1024),nn.LeakyReLU(0.2),nn.Dropout(0.3))\n",
    "    self.l2=nn.Sequential(nn.Linear(1024,512),nn.LeakyReLU(0.2),nn.Dropout(0.3))\n",
    "    #self.l3=nn.Sequential(nn.Linear(512,256),nn.ReLU(),nn.Dropout(0.3))\n",
    "    self.l4=nn.Sequential(nn.Linear(512,out),nn.Sigmoid())\n",
    "  \n",
    "  def forward(self,x):\n",
    "    #x=x.view(-1,self.input_units)\n",
    "    self.x=x\n",
    "    #self.label=label\n",
    "    #o=onehot[self.label]\n",
    "    #x=torch.cat([x,o],1)\n",
    "    self.x1=self.inp(x)\n",
    "    self.x2=self.l1(self.x1)\n",
    "    self.x3=self.l2(self.x2)\n",
    "    #self.x4=self.l3(self.x3)\n",
    "    self.out=self.l4(self.x3)\n",
    "\n",
    "    #self.softmax=F.log_softmax(self.x6,dim=1) \n",
    "    return self.out"
   ]
  },
  {
   "cell_type": "code",
   "execution_count": null,
   "metadata": {
    "id": "wiRJMc-JH45k"
   },
   "outputs": [],
   "source": [
    "gen=generator_m(200,784).cuda()"
   ]
  },
  {
   "cell_type": "code",
   "execution_count": null,
   "metadata": {
    "id": "-iaGS0ISH7Us"
   },
   "outputs": [],
   "source": [
    "dis=discriminator_m(784,1).cuda()"
   ]
  },
  {
   "cell_type": "code",
   "execution_count": null,
   "metadata": {
    "id": "tAjvn3YFIK31"
   },
   "outputs": [],
   "source": [
    "dis_optim = optim.Adam(dis.parameters(), lr=0.00003)\n",
    "gen_optim = optim.Adam(gen.parameters(), lr=0.00003)\n",
    "\n",
    "loss = nn.BCELoss()"
   ]
  },
  {
   "cell_type": "code",
   "execution_count": null,
   "metadata": {
    "colab": {
     "base_uri": "https://localhost:8080/"
    },
    "id": "8EFC45NBIN7f",
    "outputId": "6bb11dde-d846-48b3-b762-6dbe93bdd4d4"
   },
   "outputs": [
    {
     "name": "stdout",
     "output_type": "stream",
     "text": [
      "epoch 0 done and the discriminator loss and generator loss are 0.18476133048534393,  2.0757734775543213 respectively \n",
      "epoch 1 done and the discriminator loss and generator loss are 0.1551971435546875,  4.486780166625977 respectively \n",
      "epoch 2 done and the discriminator loss and generator loss are 0.08497463166713715,  5.664766788482666 respectively \n",
      "epoch 3 done and the discriminator loss and generator loss are 0.07762669026851654,  5.616028785705566 respectively \n",
      "epoch 4 done and the discriminator loss and generator loss are 0.1265692114830017,  3.971071481704712 respectively \n",
      "epoch 5 done and the discriminator loss and generator loss are 0.08947387337684631,  4.554834365844727 respectively \n",
      "epoch 6 done and the discriminator loss and generator loss are 0.24289703369140625,  2.6950926780700684 respectively \n",
      "epoch 7 done and the discriminator loss and generator loss are 0.1723274290561676,  3.0255019664764404 respectively \n",
      "epoch 8 done and the discriminator loss and generator loss are 0.25090470910072327,  2.149674654006958 respectively \n",
      "epoch 9 done and the discriminator loss and generator loss are 0.2720864713191986,  2.6464619636535645 respectively \n",
      "epoch 10 done and the discriminator loss and generator loss are 0.2988646626472473,  2.614004373550415 respectively \n",
      "epoch 11 done and the discriminator loss and generator loss are 0.1563088744878769,  2.517446279525757 respectively \n",
      "epoch 12 done and the discriminator loss and generator loss are 0.13803891837596893,  2.918288230895996 respectively \n",
      "epoch 13 done and the discriminator loss and generator loss are 0.12826263904571533,  2.4066543579101562 respectively \n",
      "epoch 14 done and the discriminator loss and generator loss are 0.3276374936103821,  1.9989265203475952 respectively \n",
      "epoch 15 done and the discriminator loss and generator loss are 0.25464722514152527,  2.0909066200256348 respectively \n",
      "epoch 16 done and the discriminator loss and generator loss are 0.3037835657596588,  2.2694079875946045 respectively \n",
      "epoch 17 done and the discriminator loss and generator loss are 0.388043612241745,  2.5695793628692627 respectively \n",
      "epoch 18 done and the discriminator loss and generator loss are 0.350256085395813,  1.829100489616394 respectively \n",
      "epoch 19 done and the discriminator loss and generator loss are 0.30893245339393616,  2.150860071182251 respectively \n",
      "epoch 20 done and the discriminator loss and generator loss are 0.30695587396621704,  2.1133744716644287 respectively \n",
      "epoch 21 done and the discriminator loss and generator loss are 0.32122308015823364,  1.8820006847381592 respectively \n",
      "epoch 22 done and the discriminator loss and generator loss are 0.2899378836154938,  1.7091611623764038 respectively \n",
      "epoch 23 done and the discriminator loss and generator loss are 0.4142821431159973,  1.6366723775863647 respectively \n",
      "epoch 24 done and the discriminator loss and generator loss are 0.3833118677139282,  1.5892225503921509 respectively \n",
      "epoch 25 done and the discriminator loss and generator loss are 0.4707030951976776,  1.4526885747909546 respectively \n",
      "epoch 26 done and the discriminator loss and generator loss are 0.3847661316394806,  1.9269506931304932 respectively \n",
      "epoch 27 done and the discriminator loss and generator loss are 0.40436193346977234,  1.2714622020721436 respectively \n",
      "epoch 28 done and the discriminator loss and generator loss are 0.34050485491752625,  1.503553032875061 respectively \n",
      "epoch 29 done and the discriminator loss and generator loss are 0.4284493625164032,  1.3609496355056763 respectively \n",
      "epoch 30 done and the discriminator loss and generator loss are 0.4646400809288025,  1.4427818059921265 respectively \n",
      "epoch 31 done and the discriminator loss and generator loss are 0.4353107213973999,  1.5512384176254272 respectively \n",
      "epoch 32 done and the discriminator loss and generator loss are 0.41961878538131714,  1.4100085496902466 respectively \n",
      "epoch 33 done and the discriminator loss and generator loss are 0.4807150959968567,  1.398031234741211 respectively \n",
      "epoch 34 done and the discriminator loss and generator loss are 0.5089454650878906,  1.5082348585128784 respectively \n",
      "epoch 35 done and the discriminator loss and generator loss are 0.559717059135437,  1.3082636594772339 respectively \n",
      "epoch 36 done and the discriminator loss and generator loss are 0.49281319975852966,  1.3220241069793701 respectively \n",
      "epoch 37 done and the discriminator loss and generator loss are 0.39600956439971924,  1.401275873184204 respectively \n",
      "epoch 38 done and the discriminator loss and generator loss are 0.471541166305542,  1.192697525024414 respectively \n",
      "epoch 39 done and the discriminator loss and generator loss are 0.4444585144519806,  1.5876619815826416 respectively \n",
      "epoch 40 done and the discriminator loss and generator loss are 0.46675851941108704,  1.3787647485733032 respectively \n",
      "epoch 41 done and the discriminator loss and generator loss are 0.529747486114502,  1.270815134048462 respectively \n",
      "epoch 42 done and the discriminator loss and generator loss are 0.45786622166633606,  1.5285108089447021 respectively \n",
      "epoch 43 done and the discriminator loss and generator loss are 0.48243534564971924,  1.2013636827468872 respectively \n",
      "epoch 44 done and the discriminator loss and generator loss are 0.641152024269104,  1.346304178237915 respectively \n",
      "epoch 45 done and the discriminator loss and generator loss are 0.4871835708618164,  1.5436787605285645 respectively \n",
      "epoch 46 done and the discriminator loss and generator loss are 0.48479071259498596,  1.0268205404281616 respectively \n",
      "epoch 47 done and the discriminator loss and generator loss are 0.5709927082061768,  1.3607540130615234 respectively \n",
      "epoch 48 done and the discriminator loss and generator loss are 0.471548855304718,  1.3930352926254272 respectively \n",
      "epoch 49 done and the discriminator loss and generator loss are 0.5985997915267944,  1.2678495645523071 respectively \n",
      "epoch 50 done and the discriminator loss and generator loss are 0.49319595098495483,  1.3983203172683716 respectively \n",
      "epoch 51 done and the discriminator loss and generator loss are 0.5313365459442139,  1.0522853136062622 respectively \n",
      "epoch 52 done and the discriminator loss and generator loss are 0.5897247791290283,  1.1527099609375 respectively \n",
      "epoch 53 done and the discriminator loss and generator loss are 0.562193751335144,  1.2560124397277832 respectively \n",
      "epoch 54 done and the discriminator loss and generator loss are 0.4922548532485962,  1.4535638093948364 respectively \n",
      "epoch 55 done and the discriminator loss and generator loss are 0.512751579284668,  1.1438730955123901 respectively \n",
      "epoch 56 done and the discriminator loss and generator loss are 0.5947007536888123,  1.0838513374328613 respectively \n",
      "epoch 57 done and the discriminator loss and generator loss are 0.5460020899772644,  1.2663897275924683 respectively \n",
      "epoch 58 done and the discriminator loss and generator loss are 0.47372350096702576,  1.1621159315109253 respectively \n",
      "epoch 59 done and the discriminator loss and generator loss are 0.6745408177375793,  1.358949065208435 respectively \n",
      "epoch 60 done and the discriminator loss and generator loss are 0.5132033228874207,  1.150786280632019 respectively \n",
      "epoch 61 done and the discriminator loss and generator loss are 0.5116926431655884,  1.0243946313858032 respectively \n",
      "epoch 62 done and the discriminator loss and generator loss are 0.48318785429000854,  1.2128039598464966 respectively \n",
      "epoch 63 done and the discriminator loss and generator loss are 0.560566782951355,  1.0406965017318726 respectively \n",
      "epoch 64 done and the discriminator loss and generator loss are 0.56038898229599,  1.0028159618377686 respectively \n",
      "epoch 65 done and the discriminator loss and generator loss are 0.5578188896179199,  0.9699651598930359 respectively \n",
      "epoch 66 done and the discriminator loss and generator loss are 0.6520965695381165,  1.0134241580963135 respectively \n",
      "epoch 67 done and the discriminator loss and generator loss are 0.5540227890014648,  0.9568411111831665 respectively \n",
      "epoch 68 done and the discriminator loss and generator loss are 0.5708603262901306,  1.1274077892303467 respectively \n",
      "epoch 69 done and the discriminator loss and generator loss are 0.5449139475822449,  1.2160131931304932 respectively \n",
      "epoch 70 done and the discriminator loss and generator loss are 0.5283815860748291,  1.1730536222457886 respectively \n",
      "epoch 71 done and the discriminator loss and generator loss are 0.5039954781532288,  1.3433327674865723 respectively \n",
      "epoch 72 done and the discriminator loss and generator loss are 0.5328900218009949,  1.0768482685089111 respectively \n",
      "epoch 73 done and the discriminator loss and generator loss are 0.6071668863296509,  0.9282220005989075 respectively \n",
      "epoch 74 done and the discriminator loss and generator loss are 0.6442779302597046,  1.1181511878967285 respectively \n",
      "epoch 75 done and the discriminator loss and generator loss are 0.5894661545753479,  0.925597071647644 respectively \n",
      "epoch 76 done and the discriminator loss and generator loss are 0.4563363194465637,  1.052850604057312 respectively \n",
      "epoch 77 done and the discriminator loss and generator loss are 0.5443667769432068,  1.1871027946472168 respectively \n",
      "epoch 78 done and the discriminator loss and generator loss are 0.5385141968727112,  0.9801271557807922 respectively \n",
      "epoch 79 done and the discriminator loss and generator loss are 0.5472586154937744,  1.141143798828125 respectively \n",
      "epoch 80 done and the discriminator loss and generator loss are 0.549176037311554,  1.049254298210144 respectively \n",
      "epoch 81 done and the discriminator loss and generator loss are 0.6674458384513855,  0.9921276569366455 respectively \n",
      "epoch 82 done and the discriminator loss and generator loss are 0.5455604791641235,  1.1835203170776367 respectively \n",
      "epoch 83 done and the discriminator loss and generator loss are 0.6405524015426636,  1.0877113342285156 respectively \n",
      "epoch 84 done and the discriminator loss and generator loss are 0.5985198020935059,  1.0983762741088867 respectively \n",
      "epoch 85 done and the discriminator loss and generator loss are 0.6085578203201294,  1.0345301628112793 respectively \n",
      "epoch 86 done and the discriminator loss and generator loss are 0.5344303250312805,  0.9502384662628174 respectively \n",
      "epoch 87 done and the discriminator loss and generator loss are 0.5445560812950134,  1.0419673919677734 respectively \n",
      "epoch 88 done and the discriminator loss and generator loss are 0.4952167272567749,  1.2745312452316284 respectively \n",
      "epoch 89 done and the discriminator loss and generator loss are 0.5660077929496765,  1.022474765777588 respectively \n",
      "epoch 90 done and the discriminator loss and generator loss are 0.5107933282852173,  0.9711410403251648 respectively \n",
      "epoch 91 done and the discriminator loss and generator loss are 0.5481376647949219,  1.009064793586731 respectively \n",
      "epoch 92 done and the discriminator loss and generator loss are 0.6543840765953064,  0.8359437584877014 respectively \n",
      "epoch 93 done and the discriminator loss and generator loss are 0.5440559983253479,  1.1854302883148193 respectively \n",
      "epoch 94 done and the discriminator loss and generator loss are 0.6012717485427856,  0.8510679602622986 respectively \n",
      "epoch 95 done and the discriminator loss and generator loss are 0.5925657749176025,  0.9926908612251282 respectively \n",
      "epoch 96 done and the discriminator loss and generator loss are 0.5408239364624023,  1.0525065660476685 respectively \n",
      "epoch 97 done and the discriminator loss and generator loss are 0.585686981678009,  0.9585103988647461 respectively \n",
      "epoch 98 done and the discriminator loss and generator loss are 0.6080216765403748,  1.0283408164978027 respectively \n",
      "epoch 99 done and the discriminator loss and generator loss are 0.5414438247680664,  1.0376156568527222 respectively \n",
      "epoch 100 done and the discriminator loss and generator loss are 0.5780169367790222,  1.0637571811676025 respectively \n",
      "epoch 101 done and the discriminator loss and generator loss are 0.6432288289070129,  0.843178927898407 respectively \n",
      "epoch 102 done and the discriminator loss and generator loss are 0.5503848791122437,  1.1044654846191406 respectively \n",
      "epoch 103 done and the discriminator loss and generator loss are 0.6400331854820251,  1.07537043094635 respectively \n",
      "epoch 104 done and the discriminator loss and generator loss are 0.6778857707977295,  0.9618306756019592 respectively \n",
      "epoch 105 done and the discriminator loss and generator loss are 0.5297605991363525,  1.0317763090133667 respectively \n",
      "epoch 106 done and the discriminator loss and generator loss are 0.5951449871063232,  1.0815775394439697 respectively \n",
      "epoch 107 done and the discriminator loss and generator loss are 0.6241834163665771,  0.9494528770446777 respectively \n",
      "epoch 108 done and the discriminator loss and generator loss are 0.5663024187088013,  1.1546194553375244 respectively \n",
      "epoch 109 done and the discriminator loss and generator loss are 0.5623642802238464,  0.8109294176101685 respectively \n",
      "epoch 110 done and the discriminator loss and generator loss are 0.5526667833328247,  1.1514219045639038 respectively \n",
      "epoch 111 done and the discriminator loss and generator loss are 0.6916158199310303,  1.1551204919815063 respectively \n",
      "epoch 112 done and the discriminator loss and generator loss are 0.5960028171539307,  1.047357439994812 respectively \n",
      "epoch 113 done and the discriminator loss and generator loss are 0.6080963015556335,  1.1851667165756226 respectively \n",
      "epoch 114 done and the discriminator loss and generator loss are 0.6842184066772461,  1.3107410669326782 respectively \n",
      "epoch 115 done and the discriminator loss and generator loss are 0.5714552998542786,  0.8594409227371216 respectively \n",
      "epoch 116 done and the discriminator loss and generator loss are 0.5827534198760986,  0.9727990627288818 respectively \n",
      "epoch 117 done and the discriminator loss and generator loss are 0.6317273378372192,  1.052483320236206 respectively \n",
      "epoch 118 done and the discriminator loss and generator loss are 0.5586947202682495,  0.9457162022590637 respectively \n",
      "epoch 119 done and the discriminator loss and generator loss are 0.6429344415664673,  0.8827711343765259 respectively \n",
      "epoch 120 done and the discriminator loss and generator loss are 0.5931991338729858,  0.9682337641716003 respectively \n",
      "epoch 121 done and the discriminator loss and generator loss are 0.6524413824081421,  1.0106209516525269 respectively \n",
      "epoch 122 done and the discriminator loss and generator loss are 0.5921149253845215,  1.0309873819351196 respectively \n",
      "epoch 123 done and the discriminator loss and generator loss are 0.515882134437561,  1.053170084953308 respectively \n",
      "epoch 124 done and the discriminator loss and generator loss are 0.5982756614685059,  0.9587672352790833 respectively \n",
      "epoch 125 done and the discriminator loss and generator loss are 0.6018601655960083,  0.9479283690452576 respectively \n",
      "epoch 126 done and the discriminator loss and generator loss are 0.6103383898735046,  1.0125718116760254 respectively \n",
      "epoch 127 done and the discriminator loss and generator loss are 0.5491763353347778,  1.0438376665115356 respectively \n",
      "epoch 128 done and the discriminator loss and generator loss are 0.571988582611084,  1.0482319593429565 respectively \n",
      "epoch 129 done and the discriminator loss and generator loss are 0.6033890843391418,  1.0447041988372803 respectively \n",
      "epoch 130 done and the discriminator loss and generator loss are 0.5557999610900879,  1.0395394563674927 respectively \n",
      "epoch 131 done and the discriminator loss and generator loss are 0.587709903717041,  1.0702944993972778 respectively \n",
      "epoch 132 done and the discriminator loss and generator loss are 0.6372789144515991,  1.1222349405288696 respectively \n",
      "epoch 133 done and the discriminator loss and generator loss are 0.6175503730773926,  0.8853933811187744 respectively \n",
      "epoch 134 done and the discriminator loss and generator loss are 0.6434916853904724,  1.1779954433441162 respectively \n",
      "epoch 135 done and the discriminator loss and generator loss are 0.5956254005432129,  0.887753963470459 respectively \n",
      "epoch 136 done and the discriminator loss and generator loss are 0.5589743256568909,  0.9931944608688354 respectively \n",
      "epoch 137 done and the discriminator loss and generator loss are 0.587289571762085,  0.923276960849762 respectively \n",
      "epoch 138 done and the discriminator loss and generator loss are 0.6051463484764099,  1.0066450834274292 respectively \n",
      "epoch 139 done and the discriminator loss and generator loss are 0.582176148891449,  0.9514933824539185 respectively \n",
      "epoch 140 done and the discriminator loss and generator loss are 0.6152375936508179,  0.9882851839065552 respectively \n",
      "epoch 141 done and the discriminator loss and generator loss are 0.5962131023406982,  1.0697252750396729 respectively \n",
      "epoch 142 done and the discriminator loss and generator loss are 0.6652116775512695,  0.9410318732261658 respectively \n",
      "epoch 143 done and the discriminator loss and generator loss are 0.5689413547515869,  0.929993748664856 respectively \n",
      "epoch 144 done and the discriminator loss and generator loss are 0.5988564491271973,  0.851966142654419 respectively \n",
      "epoch 145 done and the discriminator loss and generator loss are 0.6215380430221558,  0.9869301915168762 respectively \n",
      "epoch 146 done and the discriminator loss and generator loss are 0.5828858613967896,  1.2301734685897827 respectively \n",
      "epoch 147 done and the discriminator loss and generator loss are 0.5858995318412781,  1.06819486618042 respectively \n",
      "epoch 148 done and the discriminator loss and generator loss are 0.6134622097015381,  0.7663041353225708 respectively \n",
      "epoch 149 done and the discriminator loss and generator loss are 0.6677960157394409,  0.9609219431877136 respectively \n",
      "epoch 150 done and the discriminator loss and generator loss are 0.5713975429534912,  1.0004991292953491 respectively \n",
      "epoch 151 done and the discriminator loss and generator loss are 0.7194948196411133,  0.8066514134407043 respectively \n",
      "epoch 152 done and the discriminator loss and generator loss are 0.5294758081436157,  1.0303083658218384 respectively \n",
      "epoch 153 done and the discriminator loss and generator loss are 0.5783995389938354,  0.8680905103683472 respectively \n",
      "epoch 154 done and the discriminator loss and generator loss are 0.6726189851760864,  0.9148843884468079 respectively \n",
      "epoch 155 done and the discriminator loss and generator loss are 0.6015893816947937,  1.0122454166412354 respectively \n",
      "epoch 156 done and the discriminator loss and generator loss are 0.5851409435272217,  0.9335746765136719 respectively \n",
      "epoch 157 done and the discriminator loss and generator loss are 0.5675164461135864,  1.0245774984359741 respectively \n",
      "epoch 158 done and the discriminator loss and generator loss are 0.5811507701873779,  0.9502227306365967 respectively \n",
      "epoch 159 done and the discriminator loss and generator loss are 0.6100074052810669,  1.0420594215393066 respectively \n",
      "epoch 160 done and the discriminator loss and generator loss are 0.5979557037353516,  0.9209612011909485 respectively \n",
      "epoch 161 done and the discriminator loss and generator loss are 0.6475818157196045,  0.9119561314582825 respectively \n",
      "epoch 162 done and the discriminator loss and generator loss are 0.5627962350845337,  1.0939967632293701 respectively \n",
      "epoch 163 done and the discriminator loss and generator loss are 0.6550127267837524,  0.8069210648536682 respectively \n",
      "epoch 164 done and the discriminator loss and generator loss are 0.5944870114326477,  1.0504664182662964 respectively \n",
      "epoch 165 done and the discriminator loss and generator loss are 0.6627100706100464,  1.0083149671554565 respectively \n",
      "epoch 166 done and the discriminator loss and generator loss are 0.568604588508606,  1.0866447687149048 respectively \n",
      "epoch 167 done and the discriminator loss and generator loss are 0.6040856242179871,  1.0053092241287231 respectively \n",
      "epoch 168 done and the discriminator loss and generator loss are 0.5569777488708496,  0.968970537185669 respectively \n",
      "epoch 169 done and the discriminator loss and generator loss are 0.5902791023254395,  0.9250725507736206 respectively \n",
      "epoch 170 done and the discriminator loss and generator loss are 0.6022778153419495,  0.8498231172561646 respectively \n",
      "epoch 171 done and the discriminator loss and generator loss are 0.5734915733337402,  1.0713189840316772 respectively \n",
      "epoch 172 done and the discriminator loss and generator loss are 0.6049237847328186,  0.8926059007644653 respectively \n",
      "epoch 173 done and the discriminator loss and generator loss are 0.6204607486724854,  1.012395977973938 respectively \n",
      "epoch 174 done and the discriminator loss and generator loss are 0.6063449382781982,  0.9859411120414734 respectively \n",
      "epoch 175 done and the discriminator loss and generator loss are 0.5468270778656006,  1.1151542663574219 respectively \n",
      "epoch 176 done and the discriminator loss and generator loss are 0.6824368238449097,  0.8750143051147461 respectively \n",
      "epoch 177 done and the discriminator loss and generator loss are 0.5976779460906982,  1.0667585134506226 respectively \n",
      "epoch 178 done and the discriminator loss and generator loss are 0.5752137899398804,  0.9561523199081421 respectively \n",
      "epoch 179 done and the discriminator loss and generator loss are 0.5733728408813477,  1.1899287700653076 respectively \n",
      "epoch 180 done and the discriminator loss and generator loss are 0.6372648477554321,  0.8562939167022705 respectively \n",
      "epoch 181 done and the discriminator loss and generator loss are 0.6078367233276367,  1.0458441972732544 respectively \n",
      "epoch 182 done and the discriminator loss and generator loss are 0.5695464611053467,  0.8878484964370728 respectively \n",
      "epoch 183 done and the discriminator loss and generator loss are 0.6182408332824707,  0.8833604454994202 respectively \n",
      "epoch 184 done and the discriminator loss and generator loss are 0.6307270526885986,  0.8876596093177795 respectively \n",
      "epoch 185 done and the discriminator loss and generator loss are 0.6352166533470154,  0.9577134251594543 respectively \n",
      "epoch 186 done and the discriminator loss and generator loss are 0.6830663681030273,  1.0317851305007935 respectively \n",
      "epoch 187 done and the discriminator loss and generator loss are 0.5790241956710815,  0.9348436594009399 respectively \n",
      "epoch 188 done and the discriminator loss and generator loss are 0.6289474964141846,  0.9773542284965515 respectively \n",
      "epoch 189 done and the discriminator loss and generator loss are 0.6004748344421387,  1.0889614820480347 respectively \n",
      "epoch 190 done and the discriminator loss and generator loss are 0.5837931036949158,  1.070223093032837 respectively \n",
      "epoch 191 done and the discriminator loss and generator loss are 0.4998109042644501,  0.9224720597267151 respectively \n",
      "epoch 192 done and the discriminator loss and generator loss are 0.5606892108917236,  1.0891294479370117 respectively \n",
      "epoch 193 done and the discriminator loss and generator loss are 0.5818291306495667,  0.8665081858634949 respectively \n",
      "epoch 194 done and the discriminator loss and generator loss are 0.6231828927993774,  0.9372711777687073 respectively \n",
      "epoch 195 done and the discriminator loss and generator loss are 0.584600567817688,  0.8670849204063416 respectively \n",
      "epoch 196 done and the discriminator loss and generator loss are 0.6072255373001099,  0.9720717668533325 respectively \n",
      "epoch 197 done and the discriminator loss and generator loss are 0.6185839176177979,  0.9496136903762817 respectively \n",
      "epoch 198 done and the discriminator loss and generator loss are 0.5650123357772827,  0.900050163269043 respectively \n",
      "epoch 199 done and the discriminator loss and generator loss are 0.5950013399124146,  1.153613567352295 respectively \n",
      "epoch 200 done and the discriminator loss and generator loss are 0.5760750770568848,  0.9416796565055847 respectively \n",
      "epoch 201 done and the discriminator loss and generator loss are 0.5943366885185242,  0.9393339157104492 respectively \n",
      "epoch 202 done and the discriminator loss and generator loss are 0.6169658899307251,  1.1229522228240967 respectively \n",
      "epoch 203 done and the discriminator loss and generator loss are 0.6559669375419617,  0.931847333908081 respectively \n",
      "epoch 204 done and the discriminator loss and generator loss are 0.559402346611023,  1.0396002531051636 respectively \n",
      "epoch 205 done and the discriminator loss and generator loss are 0.5712908506393433,  0.8359248638153076 respectively \n",
      "epoch 206 done and the discriminator loss and generator loss are 0.5909737348556519,  0.9278380274772644 respectively \n",
      "epoch 207 done and the discriminator loss and generator loss are 0.5881459712982178,  1.0398656129837036 respectively \n",
      "epoch 208 done and the discriminator loss and generator loss are 0.651613712310791,  0.9445338249206543 respectively \n",
      "epoch 209 done and the discriminator loss and generator loss are 0.6646937131881714,  1.0569528341293335 respectively \n",
      "epoch 210 done and the discriminator loss and generator loss are 0.5323556065559387,  1.0127253532409668 respectively \n",
      "epoch 211 done and the discriminator loss and generator loss are 0.5909905433654785,  0.9758592247962952 respectively \n",
      "epoch 212 done and the discriminator loss and generator loss are 0.5964245796203613,  1.0783100128173828 respectively \n",
      "epoch 213 done and the discriminator loss and generator loss are 0.5385664105415344,  0.9673689007759094 respectively \n",
      "epoch 214 done and the discriminator loss and generator loss are 0.5568793416023254,  1.1176668405532837 respectively \n",
      "epoch 215 done and the discriminator loss and generator loss are 0.6264607906341553,  1.1014771461486816 respectively \n",
      "epoch 216 done and the discriminator loss and generator loss are 0.6052002310752869,  0.9676198959350586 respectively \n",
      "epoch 217 done and the discriminator loss and generator loss are 0.6105697154998779,  1.1302905082702637 respectively \n",
      "epoch 218 done and the discriminator loss and generator loss are 0.6141153573989868,  1.0162909030914307 respectively \n",
      "epoch 219 done and the discriminator loss and generator loss are 0.6426693201065063,  0.9316643476486206 respectively \n",
      "epoch 220 done and the discriminator loss and generator loss are 0.6731343865394592,  1.0457648038864136 respectively \n",
      "epoch 221 done and the discriminator loss and generator loss are 0.7070187330245972,  0.9382848739624023 respectively \n",
      "epoch 222 done and the discriminator loss and generator loss are 0.5940661430358887,  0.9466689229011536 respectively \n",
      "epoch 223 done and the discriminator loss and generator loss are 0.5732775926589966,  0.9780213832855225 respectively \n",
      "epoch 224 done and the discriminator loss and generator loss are 0.6445307731628418,  0.9691400527954102 respectively \n",
      "epoch 225 done and the discriminator loss and generator loss are 0.6007633209228516,  1.0198038816452026 respectively \n",
      "epoch 226 done and the discriminator loss and generator loss are 0.5337294340133667,  1.1094003915786743 respectively \n",
      "epoch 227 done and the discriminator loss and generator loss are 0.5701432228088379,  0.9204508662223816 respectively \n",
      "epoch 228 done and the discriminator loss and generator loss are 0.6040626764297485,  0.9724102020263672 respectively \n",
      "epoch 229 done and the discriminator loss and generator loss are 0.6031805276870728,  0.8365601301193237 respectively \n",
      "epoch 230 done and the discriminator loss and generator loss are 0.6634821891784668,  0.8707922101020813 respectively \n",
      "epoch 231 done and the discriminator loss and generator loss are 0.5967267751693726,  1.0008718967437744 respectively \n",
      "epoch 232 done and the discriminator loss and generator loss are 0.5489007234573364,  1.0096718072891235 respectively \n",
      "epoch 233 done and the discriminator loss and generator loss are 0.5765137672424316,  0.9306225180625916 respectively \n",
      "epoch 234 done and the discriminator loss and generator loss are 0.5489040017127991,  1.0405226945877075 respectively \n",
      "epoch 235 done and the discriminator loss and generator loss are 0.5421772599220276,  1.1239765882492065 respectively \n",
      "epoch 236 done and the discriminator loss and generator loss are 0.6056886911392212,  0.8450263738632202 respectively \n",
      "epoch 237 done and the discriminator loss and generator loss are 0.5845077037811279,  1.0056132078170776 respectively \n",
      "epoch 238 done and the discriminator loss and generator loss are 0.5507411956787109,  0.9245619177818298 respectively \n",
      "epoch 239 done and the discriminator loss and generator loss are 0.5724286437034607,  1.0591520071029663 respectively \n",
      "epoch 240 done and the discriminator loss and generator loss are 0.6116336584091187,  0.8718717694282532 respectively \n",
      "epoch 241 done and the discriminator loss and generator loss are 0.6481052041053772,  0.9540397524833679 respectively \n",
      "epoch 242 done and the discriminator loss and generator loss are 0.610454797744751,  1.042072057723999 respectively \n",
      "epoch 243 done and the discriminator loss and generator loss are 0.6004053354263306,  0.9005869626998901 respectively \n",
      "epoch 244 done and the discriminator loss and generator loss are 0.5890911221504211,  0.9997375011444092 respectively \n",
      "epoch 245 done and the discriminator loss and generator loss are 0.6540631055831909,  0.8193671703338623 respectively \n",
      "epoch 246 done and the discriminator loss and generator loss are 0.5056262016296387,  1.044877290725708 respectively \n",
      "epoch 247 done and the discriminator loss and generator loss are 0.6132513284683228,  1.0797538757324219 respectively \n",
      "epoch 248 done and the discriminator loss and generator loss are 0.5598086714744568,  0.9523124694824219 respectively \n",
      "epoch 249 done and the discriminator loss and generator loss are 0.5739758014678955,  0.979019820690155 respectively \n",
      "epoch 250 done and the discriminator loss and generator loss are 0.6607013940811157,  0.9580076336860657 respectively \n",
      "epoch 251 done and the discriminator loss and generator loss are 0.6615254878997803,  0.9681428074836731 respectively \n",
      "epoch 252 done and the discriminator loss and generator loss are 0.6128889918327332,  0.9979797005653381 respectively \n",
      "epoch 253 done and the discriminator loss and generator loss are 0.6196475028991699,  0.9339416027069092 respectively \n",
      "epoch 254 done and the discriminator loss and generator loss are 0.6600641012191772,  0.9542389512062073 respectively \n",
      "epoch 255 done and the discriminator loss and generator loss are 0.5642854571342468,  0.9386379718780518 respectively \n",
      "epoch 256 done and the discriminator loss and generator loss are 0.6709595918655396,  0.9331693053245544 respectively \n",
      "epoch 257 done and the discriminator loss and generator loss are 0.6052725315093994,  0.9167916774749756 respectively \n",
      "epoch 258 done and the discriminator loss and generator loss are 0.656090259552002,  0.9995557069778442 respectively \n",
      "epoch 259 done and the discriminator loss and generator loss are 0.6090947389602661,  0.919044017791748 respectively \n",
      "epoch 260 done and the discriminator loss and generator loss are 0.621999204158783,  1.041722059249878 respectively \n",
      "epoch 261 done and the discriminator loss and generator loss are 0.611671507358551,  1.202569603919983 respectively \n",
      "epoch 262 done and the discriminator loss and generator loss are 0.5594863891601562,  0.9045969843864441 respectively \n",
      "epoch 263 done and the discriminator loss and generator loss are 0.6327334642410278,  0.9303702116012573 respectively \n",
      "epoch 264 done and the discriminator loss and generator loss are 0.6454858779907227,  1.0730810165405273 respectively \n",
      "epoch 265 done and the discriminator loss and generator loss are 0.5926928520202637,  0.9240650534629822 respectively \n",
      "epoch 266 done and the discriminator loss and generator loss are 0.623590886592865,  0.862898588180542 respectively \n",
      "epoch 267 done and the discriminator loss and generator loss are 0.5541128516197205,  1.1331819295883179 respectively \n",
      "epoch 268 done and the discriminator loss and generator loss are 0.534974217414856,  1.1828460693359375 respectively \n",
      "epoch 269 done and the discriminator loss and generator loss are 0.6159292459487915,  0.9507780075073242 respectively \n",
      "epoch 270 done and the discriminator loss and generator loss are 0.5608581304550171,  1.0760326385498047 respectively \n",
      "epoch 271 done and the discriminator loss and generator loss are 0.5329623222351074,  1.1222208738327026 respectively \n",
      "epoch 272 done and the discriminator loss and generator loss are 0.5944339036941528,  0.8222489953041077 respectively \n",
      "epoch 273 done and the discriminator loss and generator loss are 0.5628459453582764,  1.1948933601379395 respectively \n",
      "epoch 274 done and the discriminator loss and generator loss are 0.6688615083694458,  0.958881139755249 respectively \n",
      "epoch 275 done and the discriminator loss and generator loss are 0.6308525204658508,  1.1620662212371826 respectively \n",
      "epoch 276 done and the discriminator loss and generator loss are 0.6186914443969727,  1.0204108953475952 respectively \n",
      "epoch 277 done and the discriminator loss and generator loss are 0.6079075336456299,  0.9712849259376526 respectively \n",
      "epoch 278 done and the discriminator loss and generator loss are 0.5871953368186951,  0.9658612608909607 respectively \n",
      "epoch 279 done and the discriminator loss and generator loss are 0.5595564842224121,  1.0329946279525757 respectively \n",
      "epoch 280 done and the discriminator loss and generator loss are 0.5785062313079834,  1.2116963863372803 respectively \n",
      "epoch 281 done and the discriminator loss and generator loss are 0.5869238376617432,  1.1124242544174194 respectively \n",
      "epoch 282 done and the discriminator loss and generator loss are 0.6535202860832214,  0.928450882434845 respectively \n",
      "epoch 283 done and the discriminator loss and generator loss are 0.6974142789840698,  0.9190142750740051 respectively \n",
      "epoch 284 done and the discriminator loss and generator loss are 0.6335662007331848,  1.007222294807434 respectively \n",
      "epoch 285 done and the discriminator loss and generator loss are 0.6257239580154419,  1.0415821075439453 respectively \n",
      "epoch 286 done and the discriminator loss and generator loss are 0.5407136678695679,  0.8715876340866089 respectively \n",
      "epoch 287 done and the discriminator loss and generator loss are 0.6585632562637329,  0.8787772059440613 respectively \n",
      "epoch 288 done and the discriminator loss and generator loss are 0.6013747453689575,  0.82399982213974 respectively \n",
      "epoch 289 done and the discriminator loss and generator loss are 0.5526866912841797,  1.0657187700271606 respectively \n",
      "epoch 290 done and the discriminator loss and generator loss are 0.5623935461044312,  1.306043267250061 respectively \n",
      "epoch 291 done and the discriminator loss and generator loss are 0.5823391675949097,  1.0183329582214355 respectively \n",
      "epoch 292 done and the discriminator loss and generator loss are 0.5280040502548218,  0.924713134765625 respectively \n",
      "epoch 293 done and the discriminator loss and generator loss are 0.6317901611328125,  0.9881883859634399 respectively \n",
      "epoch 294 done and the discriminator loss and generator loss are 0.6246940493583679,  1.0525351762771606 respectively \n",
      "epoch 295 done and the discriminator loss and generator loss are 0.5832794308662415,  1.1767852306365967 respectively \n",
      "epoch 296 done and the discriminator loss and generator loss are 0.5998385548591614,  0.8909676671028137 respectively \n",
      "epoch 297 done and the discriminator loss and generator loss are 0.6350196599960327,  0.8692026138305664 respectively \n",
      "epoch 298 done and the discriminator loss and generator loss are 0.6373394727706909,  0.9638545513153076 respectively \n",
      "epoch 299 done and the discriminator loss and generator loss are 0.6617348194122314,  0.9646418690681458 respectively \n"
     ]
    }
   ],
   "source": [
    "\n",
    "no_of_epochs=300\n",
    "\n",
    "\n",
    "real_acc_list=[]\n",
    "fake_acc_list=[]\n",
    "\n",
    "for i in range(no_of_epochs):\n",
    "  length1=0\n",
    "  length2=0\n",
    "  acc_fake=0\n",
    "  acc_real=0\n",
    "  for num,dat in enumerate(trainc):\n",
    "    dis.train()\n",
    "    noise_input=torch.randn(50,100).cuda()\n",
    "    val,ind=dat\n",
    "    val=val.cuda()\n",
    "    ind=ind.cuda()\n",
    "    val=val.view(50,28,28)\n",
    "    val=val[:,9:19,9:19]\n",
    "    val=val.flatten(1,2)\n",
    "    noise_inp=torch.cat([noise_input,val],dim=1)\n",
    "    noise_labels=torch.randint(0,10,(50,)).cuda()\n",
    "    gen_output=gen.forward(noise_inp)\n",
    "    im,la=dat\n",
    "    dis_input=im.view(50,784).cuda()\n",
    "    dis_labels=la.cuda()\n",
    "    t_labels=torch.ones(50).cuda()\n",
    "    dis_optim.zero_grad()\n",
    "    dis_output_t=dis.forward(dis_input).view(50)\n",
    "    acc_re=torch.round(dis_output_t)\n",
    "    length2+=dis_labels.size(0)\n",
    "    acc_real+=(torch.sum(acc_re).item())\n",
    "    dis_loss_t=loss(dis_output_t,t_labels)\n",
    "    dis_output_g=dis.forward(gen_output).view(50)\n",
    "    acc_fa=torch.round(dis_output_g)\n",
    "    acc_fake+=(torch.sum(acc_fa).item())\n",
    "    length1+=noise_labels.size(0)\n",
    "    dis_loss_g=loss(dis_output_g,torch.zeros(50).cuda())\n",
    "    dis_total_loss=(dis_loss_t+dis_loss_g)/2\n",
    "\n",
    "\n",
    "    dis_total_loss.backward()\n",
    "    dis_optim.step()\n",
    "    \n",
    "\n",
    "    gen.train()\n",
    "    gen_optim.zero_grad()\n",
    "    gen_output=gen.forward(noise_inp)\n",
    "    dis_output_g=dis.forward(gen_output).view(50)\n",
    "    gen_loss=loss(dis_output_g,t_labels)\n",
    "    gen_loss.backward()\n",
    "    gen_optim.step()\n",
    "\n",
    "  real_acc_list.append(acc_real/length2)\n",
    "  fake_acc_list.append(acc_fake/length1)  \n",
    "\n",
    "\n",
    "\n",
    "\n",
    "  print(\"epoch {} done and the discriminator loss and generator loss are {},  {} respectively \".format(i,dis_total_loss,gen_loss))"
   ]
  },
  {
   "cell_type": "code",
   "execution_count": null,
   "metadata": {
    "id": "UJQrmkf-VE29"
   },
   "outputs": [],
   "source": [
    "value=[]\n",
    "for v,tar in mnist_train:\n",
    "  value.append(v)"
   ]
  },
  {
   "cell_type": "code",
   "execution_count": null,
   "metadata": {
    "colab": {
     "base_uri": "https://localhost:8080/"
    },
    "id": "gi24FZFooWIo",
    "outputId": "21adfb25-0490-4940-9565-9eadfe13dc24"
   },
   "outputs": [
    {
     "data": {
      "text/plain": [
       "torch.Size([100])"
      ]
     },
     "execution_count": 15,
     "metadata": {
      "tags": []
     },
     "output_type": "execute_result"
    }
   ],
   "source": [
    "val[0].shape"
   ]
  },
  {
   "cell_type": "code",
   "execution_count": null,
   "metadata": {
    "id": "28WfRsu8VKEK"
   },
   "outputs": [],
   "source": [
    "list_of_imgs=[]\n",
    "list_of_dims=[i for i in range(10)]\n",
    "for j in list_of_dims:\n",
    "  l=[]\n",
    "  for i,v in enumerate(mnist_train):\n",
    "    val,tar=v\n",
    "    if(tar==j):\n",
    "      l.append(i)\n",
    "  list_of_imgs.append(l[:10])"
   ]
  },
  {
   "cell_type": "code",
   "execution_count": null,
   "metadata": {
    "colab": {
     "base_uri": "https://localhost:8080/"
    },
    "id": "nHBwELsFVlN4",
    "outputId": "5fb6b234-fc37-4cfa-b1a7-9e2d2aff54b5"
   },
   "outputs": [
    {
     "data": {
      "text/plain": [
       "[[1, 21, 34, 37, 51, 56, 63, 68, 69, 75],\n",
       " [3, 6, 8, 14, 23, 24, 40, 59, 67, 70],\n",
       " [5, 16, 25, 28, 76, 82, 109, 117, 120, 122],\n",
       " [7, 10, 12, 27, 30, 44, 49, 50, 74, 86],\n",
       " [2, 9, 20, 26, 53, 58, 60, 61, 64, 89],\n",
       " [0, 11, 35, 47, 65, 100, 132, 138, 145, 173],\n",
       " [13, 18, 32, 36, 39, 62, 66, 73, 83, 90],\n",
       " [15, 29, 38, 42, 52, 71, 79, 84, 91, 96],\n",
       " [17, 31, 41, 46, 55, 85, 94, 97, 125, 137],\n",
       " [4, 19, 22, 33, 43, 45, 48, 54, 57, 80]]"
      ]
     },
     "execution_count": 17,
     "metadata": {
      "tags": []
     },
     "output_type": "execute_result"
    }
   ],
   "source": [
    "list_of_imgs"
   ]
  },
  {
   "cell_type": "code",
   "execution_count": null,
   "metadata": {
    "colab": {
     "base_uri": "https://localhost:8080/",
     "height": 265
    },
    "id": "-G9L75khBXRH",
    "outputId": "c63ece3a-4644-4fd5-ff73-9b5adcc01796"
   },
   "outputs": [
    {
     "name": "stdout",
     "output_type": "stream",
     "text": [
      "Original images\n"
     ]
    },
    {
     "data": {
      "image/png": "[encoded data removed]",
      "text/plain": [
       "<Figure size 432x288 with 100 Axes>"
      ]
     },
     "metadata": {
      "needs_background": "light",
      "tags": []
     },
     "output_type": "display_data"
    }
   ],
   "source": [
    "print('Original images')\n",
    "f,a=plt.subplots(10,10)\n",
    "for i in range(10):\n",
    " for j in range(10):\n",
    "    a[i][j].imshow(value[list_of_imgs[i][j]].reshape(28,28),cmap='gray')\n",
    "    a[i][j].axis('off')\n",
    "plt.show()"
   ]
  },
  {
   "cell_type": "code",
   "execution_count": null,
   "metadata": {
    "id": "sHtnKgYpnr7o"
   },
   "outputs": [],
   "source": [
    "flat_inp=[]\n",
    "for i in range(10):\n",
    "  for j in range(10):\n",
    "    v=value[list_of_imgs[i][j]][:,9:19,9:19]\n",
    "    v=v.flatten(start_dim=1)\n",
    "    flat_inp.append(v)\n",
    "\n"
   ]
  },
  {
   "cell_type": "code",
   "execution_count": null,
   "metadata": {
    "id": "Oi6JYyoTp6Qx"
   },
   "outputs": [],
   "source": [
    "flat_inp=torch.cat(flat_inp)"
   ]
  },
  {
   "cell_type": "code",
   "execution_count": null,
   "metadata": {
    "colab": {
     "base_uri": "https://localhost:8080/"
    },
    "id": "ATjUbfRptEHF",
    "outputId": "7d050d8a-acf9-4fd1-d8e4-99496afa6aaf"
   },
   "outputs": [
    {
     "data": {
      "text/plain": [
       "torch.Size([100, 100])"
      ]
     },
     "execution_count": 21,
     "metadata": {
      "tags": []
     },
     "output_type": "execute_result"
    }
   ],
   "source": [
    "flat_inp.shape"
   ]
  },
  {
   "cell_type": "code",
   "execution_count": null,
   "metadata": {
    "colab": {
     "base_uri": "https://localhost:8080/"
    },
    "id": "qlJfr3uzW05u",
    "outputId": "7eb82542-84ba-4846-d249-f28caae588cd"
   },
   "outputs": [
    {
     "data": {
      "text/plain": [
       "tensor([[-1.0000, -0.6000,  0.8667,  ..., -0.6235,  0.2941,  0.9765],\n",
       "        [-1.0000, -0.2784,  0.9843,  ..., -1.0000, -0.6863,  0.7020],\n",
       "        [-1.0000, -1.0000, -1.0000,  ...,  0.9686,  0.9686,  0.9686],\n",
       "        ...,\n",
       "        [ 0.9843,  0.6706, -0.7490,  ...,  0.6863, -0.8275, -1.0000],\n",
       "        [-1.0000, -0.8353,  0.0353,  ..., -0.4510, -1.0000, -1.0000],\n",
       "        [-0.0902,  1.0000,  0.8196,  ..., -1.0000, -1.0000, -1.0000]])"
      ]
     },
     "execution_count": 22,
     "metadata": {
      "tags": []
     },
     "output_type": "execute_result"
    }
   ],
   "source": [
    "flat_inp"
   ]
  },
  {
   "cell_type": "code",
   "execution_count": null,
   "metadata": {
    "colab": {
     "base_uri": "https://localhost:8080/"
    },
    "id": "rp5TRo2AtNSS",
    "outputId": "5d538fbe-3a23-445d-e74a-f7c067d1aa6e"
   },
   "outputs": [
    {
     "data": {
      "text/plain": [
       "torch.Size([100, 100])"
      ]
     },
     "execution_count": 23,
     "metadata": {
      "tags": []
     },
     "output_type": "execute_result"
    }
   ],
   "source": [
    "#flat_inp=flat_inp.view(100,100)\n",
    "flat_inp.shape"
   ]
  },
  {
   "cell_type": "code",
   "execution_count": null,
   "metadata": {
    "id": "83x1pybmuVCT"
   },
   "outputs": [],
   "source": [
    "flat_inp=flat_inp.cuda()"
   ]
  },
  {
   "cell_type": "code",
   "execution_count": null,
   "metadata": {
    "id": "17i6D856lgCu"
   },
   "outputs": [],
   "source": []
  },
  {
   "cell_type": "code",
   "execution_count": null,
   "metadata": {
    "id": "VqeyM2wxv_Gy"
   },
   "outputs": [],
   "source": [
    "with torch.no_grad():\n",
    "  noise = torch.randn(100,100).cuda()\n",
    "  inp=torch.cat([noise,flat_inp],axis=1)\n",
    "  generated_data = gen.forward(inp).cpu().view(100, 28, 28)\n"
   ]
  },
  {
   "cell_type": "code",
   "execution_count": null,
   "metadata": {
    "colab": {
     "base_uri": "https://localhost:8080/",
     "height": 265
    },
    "id": "c0ZVCZvFu9_C",
    "outputId": "5650e4a5-9dad-4973-a7d8-7f4232d79b5b"
   },
   "outputs": [
    {
     "name": "stdout",
     "output_type": "stream",
     "text": [
      "Without Regularization\n"
     ]
    },
    {
     "data": {
      "image/png": "[encoded data removed]",
      "text/plain": [
       "<Figure size 432x288 with 100 Axes>"
      ]
     },
     "metadata": {
      "needs_background": "light",
      "tags": []
     },
     "output_type": "display_data"
    }
   ],
   "source": [
    "print(\"Without Regularization\")\n",
    "ind=0\n",
    "f,a=plt.subplots(10,10)\n",
    "for i in range(10):\n",
    " for j in range(10):\n",
    "    a[i][j].imshow(generated_data[ind,:,:],cmap='gray')\n",
    "    a[i][j].axis('off')\n",
    "    ind+=1"
   ]
  },
  {
   "cell_type": "code",
   "execution_count": null,
   "metadata": {
    "id": "LNcLARt_Q5xk"
   },
   "outputs": [],
   "source": [
    "mse=nn.MSELoss()"
   ]
  },
  {
   "cell_type": "code",
   "execution_count": null,
   "metadata": {
    "colab": {
     "base_uri": "https://localhost:8080/"
    },
    "id": "b1jQrAsKWNyB",
    "outputId": "777e6024-3b49-4f74-ae06-03edb517f41b"
   },
   "outputs": [
    {
     "name": "stdout",
     "output_type": "stream",
     "text": [
      "epoch 0 done and the discriminator loss and generator loss are 0.5030685067176819,  1.3621611595153809 respectively \n",
      "epoch 1 done and the discriminator loss and generator loss are 0.4244987964630127,  1.6815141439437866 respectively \n",
      "epoch 2 done and the discriminator loss and generator loss are 0.45412391424179077,  1.8064223527908325 respectively \n",
      "epoch 3 done and the discriminator loss and generator loss are 0.4528846740722656,  1.4395581483840942 respectively \n",
      "epoch 4 done and the discriminator loss and generator loss are 0.6449612379074097,  1.5808074474334717 respectively \n",
      "epoch 5 done and the discriminator loss and generator loss are 0.5285340547561646,  1.556243658065796 respectively \n",
      "epoch 6 done and the discriminator loss and generator loss are 0.4159180223941803,  1.4025119543075562 respectively \n",
      "epoch 7 done and the discriminator loss and generator loss are 0.5116946697235107,  1.5089279413223267 respectively \n",
      "epoch 8 done and the discriminator loss and generator loss are 0.4878445267677307,  1.5228632688522339 respectively \n",
      "epoch 9 done and the discriminator loss and generator loss are 0.45446068048477173,  1.4295974969863892 respectively \n",
      "epoch 10 done and the discriminator loss and generator loss are 0.5370817184448242,  1.4937211275100708 respectively \n",
      "epoch 11 done and the discriminator loss and generator loss are 0.5097108483314514,  1.1673911809921265 respectively \n",
      "epoch 12 done and the discriminator loss and generator loss are 0.4389573633670807,  1.7681593894958496 respectively \n",
      "epoch 13 done and the discriminator loss and generator loss are 0.5736266374588013,  1.4256807565689087 respectively \n",
      "epoch 14 done and the discriminator loss and generator loss are 0.4548031687736511,  1.3274462223052979 respectively \n",
      "epoch 15 done and the discriminator loss and generator loss are 0.398105651140213,  1.4870100021362305 respectively \n",
      "epoch 16 done and the discriminator loss and generator loss are 0.46018272638320923,  1.5010204315185547 respectively \n",
      "epoch 17 done and the discriminator loss and generator loss are 0.5324546694755554,  1.4474624395370483 respectively \n",
      "epoch 18 done and the discriminator loss and generator loss are 0.5936954617500305,  1.2988455295562744 respectively \n",
      "epoch 19 done and the discriminator loss and generator loss are 0.48596811294555664,  1.630763053894043 respectively \n",
      "epoch 20 done and the discriminator loss and generator loss are 0.45327210426330566,  1.3059386014938354 respectively \n",
      "epoch 21 done and the discriminator loss and generator loss are 0.5095971822738647,  1.4006805419921875 respectively \n",
      "epoch 22 done and the discriminator loss and generator loss are 0.5290396809577942,  1.4136582612991333 respectively \n",
      "epoch 23 done and the discriminator loss and generator loss are 0.4194813370704651,  1.4816230535507202 respectively \n",
      "epoch 24 done and the discriminator loss and generator loss are 0.554841935634613,  1.354753017425537 respectively \n",
      "epoch 25 done and the discriminator loss and generator loss are 0.5749561786651611,  1.364462971687317 respectively \n",
      "epoch 26 done and the discriminator loss and generator loss are 0.5679017305374146,  1.3774380683898926 respectively \n",
      "epoch 27 done and the discriminator loss and generator loss are 0.5012005567550659,  1.4509245157241821 respectively \n",
      "epoch 28 done and the discriminator loss and generator loss are 0.53962242603302,  1.1602436304092407 respectively \n",
      "epoch 29 done and the discriminator loss and generator loss are 0.4860454499721527,  1.310479760169983 respectively \n",
      "epoch 30 done and the discriminator loss and generator loss are 0.5474965572357178,  1.181128978729248 respectively \n",
      "epoch 31 done and the discriminator loss and generator loss are 0.47058844566345215,  1.5660747289657593 respectively \n",
      "epoch 32 done and the discriminator loss and generator loss are 0.533169150352478,  1.2845745086669922 respectively \n",
      "epoch 33 done and the discriminator loss and generator loss are 0.5131270885467529,  1.5011885166168213 respectively \n",
      "epoch 34 done and the discriminator loss and generator loss are 0.5280992388725281,  1.4034565687179565 respectively \n",
      "epoch 35 done and the discriminator loss and generator loss are 0.6337926983833313,  1.3070083856582642 respectively \n",
      "epoch 36 done and the discriminator loss and generator loss are 0.5693880915641785,  1.3902112245559692 respectively \n",
      "epoch 37 done and the discriminator loss and generator loss are 0.5389078855514526,  1.2871900796890259 respectively \n",
      "epoch 38 done and the discriminator loss and generator loss are 0.5449288487434387,  1.5539497137069702 respectively \n",
      "epoch 39 done and the discriminator loss and generator loss are 0.5717278122901917,  1.116817831993103 respectively \n",
      "epoch 40 done and the discriminator loss and generator loss are 0.4574621021747589,  1.652603030204773 respectively \n",
      "epoch 41 done and the discriminator loss and generator loss are 0.5104787349700928,  1.1463671922683716 respectively \n",
      "epoch 42 done and the discriminator loss and generator loss are 0.41743335127830505,  1.5683835744857788 respectively \n",
      "epoch 43 done and the discriminator loss and generator loss are 0.4652683734893799,  1.3023898601531982 respectively \n",
      "epoch 44 done and the discriminator loss and generator loss are 0.5293301343917847,  1.1337525844573975 respectively \n",
      "epoch 45 done and the discriminator loss and generator loss are 0.5880345106124878,  1.297300934791565 respectively \n",
      "epoch 46 done and the discriminator loss and generator loss are 0.5345034599304199,  1.253371238708496 respectively \n",
      "epoch 47 done and the discriminator loss and generator loss are 0.5297671556472778,  1.2813140153884888 respectively \n",
      "epoch 48 done and the discriminator loss and generator loss are 0.42828047275543213,  1.1394144296646118 respectively \n",
      "epoch 49 done and the discriminator loss and generator loss are 0.5943018198013306,  1.2962355613708496 respectively \n",
      "epoch 50 done and the discriminator loss and generator loss are 0.5976945161819458,  1.1962928771972656 respectively \n",
      "epoch 51 done and the discriminator loss and generator loss are 0.5425750613212585,  1.1170659065246582 respectively \n",
      "epoch 52 done and the discriminator loss and generator loss are 0.4920393228530884,  1.1729850769042969 respectively \n",
      "epoch 53 done and the discriminator loss and generator loss are 0.4480501711368561,  1.4356518983840942 respectively \n",
      "epoch 54 done and the discriminator loss and generator loss are 0.5124467015266418,  1.2657603025436401 respectively \n",
      "epoch 55 done and the discriminator loss and generator loss are 0.5650067329406738,  1.2462003231048584 respectively \n",
      "epoch 56 done and the discriminator loss and generator loss are 0.50483238697052,  1.4278379678726196 respectively \n",
      "epoch 57 done and the discriminator loss and generator loss are 0.5516908168792725,  1.330429196357727 respectively \n",
      "epoch 58 done and the discriminator loss and generator loss are 0.5621011257171631,  1.2545720338821411 respectively \n",
      "epoch 59 done and the discriminator loss and generator loss are 0.45514625310897827,  1.3363800048828125 respectively \n",
      "epoch 60 done and the discriminator loss and generator loss are 0.5854839086532593,  1.3079683780670166 respectively \n",
      "epoch 61 done and the discriminator loss and generator loss are 0.4910311996936798,  1.2815059423446655 respectively \n",
      "epoch 62 done and the discriminator loss and generator loss are 0.502809464931488,  1.1032606363296509 respectively \n",
      "epoch 63 done and the discriminator loss and generator loss are 0.5196976065635681,  1.384108304977417 respectively \n",
      "epoch 64 done and the discriminator loss and generator loss are 0.6014257073402405,  1.0608065128326416 respectively \n",
      "epoch 65 done and the discriminator loss and generator loss are 0.49140143394470215,  1.1040217876434326 respectively \n",
      "epoch 66 done and the discriminator loss and generator loss are 0.5031067132949829,  1.320890188217163 respectively \n",
      "epoch 67 done and the discriminator loss and generator loss are 0.5324741005897522,  1.3465642929077148 respectively \n",
      "epoch 68 done and the discriminator loss and generator loss are 0.5861973166465759,  1.3645302057266235 respectively \n",
      "epoch 69 done and the discriminator loss and generator loss are 0.5744483470916748,  1.151380181312561 respectively \n",
      "epoch 70 done and the discriminator loss and generator loss are 0.5147632360458374,  1.1941637992858887 respectively \n",
      "epoch 71 done and the discriminator loss and generator loss are 0.5517418384552002,  1.2255113124847412 respectively \n",
      "epoch 72 done and the discriminator loss and generator loss are 0.5745106935501099,  1.2445331811904907 respectively \n",
      "epoch 73 done and the discriminator loss and generator loss are 0.6451150178909302,  1.2182921171188354 respectively \n",
      "epoch 74 done and the discriminator loss and generator loss are 0.4780958294868469,  1.2343592643737793 respectively \n",
      "epoch 75 done and the discriminator loss and generator loss are 0.4571194350719452,  1.1193878650665283 respectively \n",
      "epoch 76 done and the discriminator loss and generator loss are 0.4257584512233734,  1.4651423692703247 respectively \n",
      "epoch 77 done and the discriminator loss and generator loss are 0.6429840326309204,  1.2360376119613647 respectively \n",
      "epoch 78 done and the discriminator loss and generator loss are 0.5327917337417603,  1.3041260242462158 respectively \n",
      "epoch 79 done and the discriminator loss and generator loss are 0.5498567223548889,  1.3630220890045166 respectively \n",
      "epoch 80 done and the discriminator loss and generator loss are 0.5379985570907593,  1.2159652709960938 respectively \n",
      "epoch 81 done and the discriminator loss and generator loss are 0.5980489253997803,  1.2343207597732544 respectively \n",
      "epoch 82 done and the discriminator loss and generator loss are 0.531373918056488,  1.4070478677749634 respectively \n",
      "epoch 83 done and the discriminator loss and generator loss are 0.5482956171035767,  1.2400004863739014 respectively \n",
      "epoch 84 done and the discriminator loss and generator loss are 0.5694557428359985,  1.1067663431167603 respectively \n",
      "epoch 85 done and the discriminator loss and generator loss are 0.5390323996543884,  1.379215121269226 respectively \n",
      "epoch 86 done and the discriminator loss and generator loss are 0.46014079451560974,  1.1476984024047852 respectively \n",
      "epoch 87 done and the discriminator loss and generator loss are 0.44346892833709717,  1.3517800569534302 respectively \n",
      "epoch 88 done and the discriminator loss and generator loss are 0.6050046682357788,  1.0892870426177979 respectively \n",
      "epoch 89 done and the discriminator loss and generator loss are 0.5771350860595703,  1.1456414461135864 respectively \n",
      "epoch 90 done and the discriminator loss and generator loss are 0.5134096741676331,  1.442673683166504 respectively \n",
      "epoch 91 done and the discriminator loss and generator loss are 0.504557728767395,  1.3252848386764526 respectively \n",
      "epoch 92 done and the discriminator loss and generator loss are 0.5979835987091064,  1.3448500633239746 respectively \n",
      "epoch 93 done and the discriminator loss and generator loss are 0.5520235300064087,  1.1018136739730835 respectively \n",
      "epoch 94 done and the discriminator loss and generator loss are 0.5527538061141968,  1.478772759437561 respectively \n",
      "epoch 95 done and the discriminator loss and generator loss are 0.5755869150161743,  1.2576452493667603 respectively \n",
      "epoch 96 done and the discriminator loss and generator loss are 0.6119848489761353,  1.265015959739685 respectively \n",
      "epoch 97 done and the discriminator loss and generator loss are 0.5847727060317993,  1.320447564125061 respectively \n",
      "epoch 98 done and the discriminator loss and generator loss are 0.5335885286331177,  1.2633758783340454 respectively \n",
      "epoch 99 done and the discriminator loss and generator loss are 0.5719851851463318,  1.4895128011703491 respectively \n",
      "epoch 100 done and the discriminator loss and generator loss are 0.6120521426200867,  1.1667910814285278 respectively \n",
      "epoch 101 done and the discriminator loss and generator loss are 0.6057387590408325,  1.158111572265625 respectively \n",
      "epoch 102 done and the discriminator loss and generator loss are 0.5161588191986084,  1.1831135749816895 respectively \n",
      "epoch 103 done and the discriminator loss and generator loss are 0.4634860157966614,  1.0983237028121948 respectively \n",
      "epoch 104 done and the discriminator loss and generator loss are 0.5812554359436035,  1.1539758443832397 respectively \n",
      "epoch 105 done and the discriminator loss and generator loss are 0.5429369211196899,  1.1797683238983154 respectively \n",
      "epoch 106 done and the discriminator loss and generator loss are 0.5655112266540527,  1.2287451028823853 respectively \n",
      "epoch 107 done and the discriminator loss and generator loss are 0.5930160284042358,  1.2102715969085693 respectively \n",
      "epoch 108 done and the discriminator loss and generator loss are 0.611432671546936,  1.3802160024642944 respectively \n",
      "epoch 109 done and the discriminator loss and generator loss are 0.6644086837768555,  1.0585569143295288 respectively \n",
      "epoch 110 done and the discriminator loss and generator loss are 0.46887385845184326,  1.0823469161987305 respectively \n",
      "epoch 111 done and the discriminator loss and generator loss are 0.5466967821121216,  1.1251169443130493 respectively \n",
      "epoch 112 done and the discriminator loss and generator loss are 0.6156284213066101,  1.2558444738388062 respectively \n",
      "epoch 113 done and the discriminator loss and generator loss are 0.4907996654510498,  1.2464885711669922 respectively \n",
      "epoch 114 done and the discriminator loss and generator loss are 0.6190974712371826,  0.9869284629821777 respectively \n",
      "epoch 115 done and the discriminator loss and generator loss are 0.5125507712364197,  1.2241989374160767 respectively \n",
      "epoch 116 done and the discriminator loss and generator loss are 0.5591953992843628,  1.2804200649261475 respectively \n",
      "epoch 117 done and the discriminator loss and generator loss are 0.5491670370101929,  1.2185951471328735 respectively \n",
      "epoch 118 done and the discriminator loss and generator loss are 0.5529346466064453,  1.2521138191223145 respectively \n",
      "epoch 119 done and the discriminator loss and generator loss are 0.5528721809387207,  1.1443705558776855 respectively \n",
      "epoch 120 done and the discriminator loss and generator loss are 0.5636286735534668,  1.186329960823059 respectively \n",
      "epoch 121 done and the discriminator loss and generator loss are 0.5779762268066406,  1.2394423484802246 respectively \n",
      "epoch 122 done and the discriminator loss and generator loss are 0.5696477890014648,  1.1912442445755005 respectively \n",
      "epoch 123 done and the discriminator loss and generator loss are 0.6067061424255371,  1.1300829648971558 respectively \n",
      "epoch 124 done and the discriminator loss and generator loss are 0.5506936311721802,  1.1136714220046997 respectively \n",
      "epoch 125 done and the discriminator loss and generator loss are 0.5596910715103149,  1.1640076637268066 respectively \n",
      "epoch 126 done and the discriminator loss and generator loss are 0.5667244791984558,  1.258754014968872 respectively \n",
      "epoch 127 done and the discriminator loss and generator loss are 0.5290982723236084,  1.4677191972732544 respectively \n",
      "epoch 128 done and the discriminator loss and generator loss are 0.5804088711738586,  0.9905010461807251 respectively \n",
      "epoch 129 done and the discriminator loss and generator loss are 0.518011212348938,  1.1914331912994385 respectively \n",
      "epoch 130 done and the discriminator loss and generator loss are 0.5859937071800232,  1.1695352792739868 respectively \n",
      "epoch 131 done and the discriminator loss and generator loss are 0.5801881551742554,  0.9832103848457336 respectively \n",
      "epoch 132 done and the discriminator loss and generator loss are 0.5448415279388428,  1.0663422346115112 respectively \n",
      "epoch 133 done and the discriminator loss and generator loss are 0.5914954543113708,  1.1019477844238281 respectively \n",
      "epoch 134 done and the discriminator loss and generator loss are 0.4996154010295868,  1.2220410108566284 respectively \n",
      "epoch 135 done and the discriminator loss and generator loss are 0.49036744236946106,  1.1686053276062012 respectively \n",
      "epoch 136 done and the discriminator loss and generator loss are 0.5190392732620239,  1.1514638662338257 respectively \n",
      "epoch 137 done and the discriminator loss and generator loss are 0.4975101351737976,  1.3366541862487793 respectively \n",
      "epoch 138 done and the discriminator loss and generator loss are 0.5587843060493469,  1.2717454433441162 respectively \n",
      "epoch 139 done and the discriminator loss and generator loss are 0.5635124444961548,  1.2828773260116577 respectively \n",
      "epoch 140 done and the discriminator loss and generator loss are 0.646679162979126,  1.123961091041565 respectively \n",
      "epoch 141 done and the discriminator loss and generator loss are 0.6344214677810669,  1.059786319732666 respectively \n",
      "epoch 142 done and the discriminator loss and generator loss are 0.64357590675354,  1.2321863174438477 respectively \n",
      "epoch 143 done and the discriminator loss and generator loss are 0.5440596342086792,  1.3624628782272339 respectively \n",
      "epoch 144 done and the discriminator loss and generator loss are 0.47548383474349976,  1.2069168090820312 respectively \n",
      "epoch 145 done and the discriminator loss and generator loss are 0.5052655339241028,  1.1343392133712769 respectively \n",
      "epoch 146 done and the discriminator loss and generator loss are 0.5639525651931763,  0.986137866973877 respectively \n",
      "epoch 147 done and the discriminator loss and generator loss are 0.49956122040748596,  1.278369426727295 respectively \n",
      "epoch 148 done and the discriminator loss and generator loss are 0.5246404409408569,  1.0900863409042358 respectively \n",
      "epoch 149 done and the discriminator loss and generator loss are 0.5456448197364807,  1.1383811235427856 respectively \n",
      "epoch 150 done and the discriminator loss and generator loss are 0.6766180992126465,  1.2354735136032104 respectively \n",
      "epoch 151 done and the discriminator loss and generator loss are 0.611224889755249,  1.221804141998291 respectively \n",
      "epoch 152 done and the discriminator loss and generator loss are 0.5191332697868347,  1.13788902759552 respectively \n",
      "epoch 153 done and the discriminator loss and generator loss are 0.5693888664245605,  1.3400912284851074 respectively \n",
      "epoch 154 done and the discriminator loss and generator loss are 0.5273014307022095,  1.1370059251785278 respectively \n",
      "epoch 155 done and the discriminator loss and generator loss are 0.5132155418395996,  1.2855303287506104 respectively \n",
      "epoch 156 done and the discriminator loss and generator loss are 0.5175739526748657,  1.2010338306427002 respectively \n",
      "epoch 157 done and the discriminator loss and generator loss are 0.4908143877983093,  1.0361790657043457 respectively \n",
      "epoch 158 done and the discriminator loss and generator loss are 0.5251668095588684,  1.0494561195373535 respectively \n",
      "epoch 159 done and the discriminator loss and generator loss are 0.6256604790687561,  1.0025935173034668 respectively \n",
      "epoch 160 done and the discriminator loss and generator loss are 0.5774182081222534,  1.1671953201293945 respectively \n",
      "epoch 161 done and the discriminator loss and generator loss are 0.5528649091720581,  1.2115391492843628 respectively \n",
      "epoch 162 done and the discriminator loss and generator loss are 0.49007242918014526,  1.3080761432647705 respectively \n",
      "epoch 163 done and the discriminator loss and generator loss are 0.5821450352668762,  1.1862232685089111 respectively \n",
      "epoch 164 done and the discriminator loss and generator loss are 0.57401442527771,  1.3269511461257935 respectively \n",
      "epoch 165 done and the discriminator loss and generator loss are 0.6148141622543335,  1.1669039726257324 respectively \n",
      "epoch 166 done and the discriminator loss and generator loss are 0.5334604382514954,  1.3732208013534546 respectively \n",
      "epoch 167 done and the discriminator loss and generator loss are 0.5609550476074219,  1.3194854259490967 respectively \n",
      "epoch 168 done and the discriminator loss and generator loss are 0.5782825350761414,  1.387407898902893 respectively \n",
      "epoch 169 done and the discriminator loss and generator loss are 0.5812679529190063,  1.0557442903518677 respectively \n",
      "epoch 170 done and the discriminator loss and generator loss are 0.532878041267395,  1.2756311893463135 respectively \n",
      "epoch 171 done and the discriminator loss and generator loss are 0.5366555452346802,  1.0786250829696655 respectively \n",
      "epoch 172 done and the discriminator loss and generator loss are 0.5744554996490479,  1.224793553352356 respectively \n",
      "epoch 173 done and the discriminator loss and generator loss are 0.5425216555595398,  1.1030949354171753 respectively \n",
      "epoch 174 done and the discriminator loss and generator loss are 0.459037184715271,  1.2123149633407593 respectively \n",
      "epoch 175 done and the discriminator loss and generator loss are 0.6022616624832153,  1.0421011447906494 respectively \n",
      "epoch 176 done and the discriminator loss and generator loss are 0.5251991748809814,  1.2344846725463867 respectively \n",
      "epoch 177 done and the discriminator loss and generator loss are 0.5574235916137695,  1.1848080158233643 respectively \n",
      "epoch 178 done and the discriminator loss and generator loss are 0.5541162490844727,  1.314241647720337 respectively \n",
      "epoch 179 done and the discriminator loss and generator loss are 0.6130273938179016,  1.1649874448776245 respectively \n",
      "epoch 180 done and the discriminator loss and generator loss are 0.5735781192779541,  1.089219570159912 respectively \n",
      "epoch 181 done and the discriminator loss and generator loss are 0.5064977407455444,  1.0718063116073608 respectively \n",
      "epoch 182 done and the discriminator loss and generator loss are 0.5412711501121521,  1.1097444295883179 respectively \n",
      "epoch 183 done and the discriminator loss and generator loss are 0.5256856679916382,  1.2656645774841309 respectively \n",
      "epoch 184 done and the discriminator loss and generator loss are 0.5968025922775269,  1.3358336687088013 respectively \n",
      "epoch 185 done and the discriminator loss and generator loss are 0.5812169909477234,  1.159924864768982 respectively \n",
      "epoch 186 done and the discriminator loss and generator loss are 0.5386826395988464,  1.2796449661254883 respectively \n",
      "epoch 187 done and the discriminator loss and generator loss are 0.5629130601882935,  1.3507214784622192 respectively \n",
      "epoch 188 done and the discriminator loss and generator loss are 0.5659034252166748,  1.2725462913513184 respectively \n",
      "epoch 189 done and the discriminator loss and generator loss are 0.580981969833374,  1.4547382593154907 respectively \n",
      "epoch 190 done and the discriminator loss and generator loss are 0.429149866104126,  1.1977195739746094 respectively \n",
      "epoch 191 done and the discriminator loss and generator loss are 0.5265540480613708,  1.158879280090332 respectively \n",
      "epoch 192 done and the discriminator loss and generator loss are 0.4767800271511078,  0.9787198305130005 respectively \n",
      "epoch 193 done and the discriminator loss and generator loss are 0.5071538090705872,  1.2567232847213745 respectively \n",
      "epoch 194 done and the discriminator loss and generator loss are 0.6334706544876099,  1.2579329013824463 respectively \n",
      "epoch 195 done and the discriminator loss and generator loss are 0.5517699718475342,  1.131131887435913 respectively \n",
      "epoch 196 done and the discriminator loss and generator loss are 0.6098662614822388,  1.0241163969039917 respectively \n",
      "epoch 197 done and the discriminator loss and generator loss are 0.5193862318992615,  1.2416845560073853 respectively \n",
      "epoch 198 done and the discriminator loss and generator loss are 0.5235986113548279,  1.4547353982925415 respectively \n",
      "epoch 199 done and the discriminator loss and generator loss are 0.5652336478233337,  1.1693190336227417 respectively \n",
      "epoch 200 done and the discriminator loss and generator loss are 0.5564971566200256,  1.3544337749481201 respectively \n",
      "epoch 201 done and the discriminator loss and generator loss are 0.5106145143508911,  1.126935601234436 respectively \n",
      "epoch 202 done and the discriminator loss and generator loss are 0.5635573267936707,  1.3207478523254395 respectively \n",
      "epoch 203 done and the discriminator loss and generator loss are 0.4492778480052948,  1.2743674516677856 respectively \n",
      "epoch 204 done and the discriminator loss and generator loss are 0.5796499252319336,  1.339741587638855 respectively \n",
      "epoch 205 done and the discriminator loss and generator loss are 0.5519238114356995,  1.236419677734375 respectively \n",
      "epoch 206 done and the discriminator loss and generator loss are 0.5868136882781982,  1.3552671670913696 respectively \n",
      "epoch 207 done and the discriminator loss and generator loss are 0.5631270408630371,  1.367698311805725 respectively \n",
      "epoch 208 done and the discriminator loss and generator loss are 0.5139196515083313,  1.132438063621521 respectively \n",
      "epoch 209 done and the discriminator loss and generator loss are 0.5826688408851624,  0.9731807708740234 respectively \n",
      "epoch 210 done and the discriminator loss and generator loss are 0.49166715145111084,  1.4359108209609985 respectively \n",
      "epoch 211 done and the discriminator loss and generator loss are 0.4772094786167145,  1.221602439880371 respectively \n",
      "epoch 212 done and the discriminator loss and generator loss are 0.5806039571762085,  0.9145954847335815 respectively \n",
      "epoch 213 done and the discriminator loss and generator loss are 0.48615479469299316,  1.2064729928970337 respectively \n",
      "epoch 214 done and the discriminator loss and generator loss are 0.5639084577560425,  1.2928054332733154 respectively \n",
      "epoch 215 done and the discriminator loss and generator loss are 0.5408727526664734,  1.1970797777175903 respectively \n",
      "epoch 216 done and the discriminator loss and generator loss are 0.49675416946411133,  1.152860164642334 respectively \n",
      "epoch 217 done and the discriminator loss and generator loss are 0.5579284429550171,  1.22640860080719 respectively \n",
      "epoch 218 done and the discriminator loss and generator loss are 0.5521944165229797,  1.1668235063552856 respectively \n",
      "epoch 219 done and the discriminator loss and generator loss are 0.5679836273193359,  1.3217837810516357 respectively \n",
      "epoch 220 done and the discriminator loss and generator loss are 0.5296627283096313,  1.210357427597046 respectively \n",
      "epoch 221 done and the discriminator loss and generator loss are 0.6155929565429688,  1.2854210138320923 respectively \n",
      "epoch 222 done and the discriminator loss and generator loss are 0.5106561779975891,  1.0723414421081543 respectively \n",
      "epoch 223 done and the discriminator loss and generator loss are 0.540804386138916,  1.1081105470657349 respectively \n",
      "epoch 224 done and the discriminator loss and generator loss are 0.577430009841919,  1.3156392574310303 respectively \n",
      "epoch 225 done and the discriminator loss and generator loss are 0.5403292775154114,  1.109360694885254 respectively \n",
      "epoch 226 done and the discriminator loss and generator loss are 0.517806887626648,  1.1933226585388184 respectively \n",
      "epoch 227 done and the discriminator loss and generator loss are 0.5177083015441895,  1.1894265413284302 respectively \n",
      "epoch 228 done and the discriminator loss and generator loss are 0.5654201507568359,  1.1510562896728516 respectively \n",
      "epoch 229 done and the discriminator loss and generator loss are 0.5482690930366516,  1.0427491664886475 respectively \n",
      "epoch 230 done and the discriminator loss and generator loss are 0.5540800094604492,  1.040038824081421 respectively \n",
      "epoch 231 done and the discriminator loss and generator loss are 0.5081251263618469,  1.298117756843567 respectively \n",
      "epoch 232 done and the discriminator loss and generator loss are 0.5946112275123596,  1.0169416666030884 respectively \n",
      "epoch 233 done and the discriminator loss and generator loss are 0.4892241060733795,  1.141344428062439 respectively \n",
      "epoch 234 done and the discriminator loss and generator loss are 0.4754068851470947,  1.0198454856872559 respectively \n",
      "epoch 235 done and the discriminator loss and generator loss are 0.5393552780151367,  1.2691584825515747 respectively \n",
      "epoch 236 done and the discriminator loss and generator loss are 0.5601973533630371,  1.2997584342956543 respectively \n",
      "epoch 237 done and the discriminator loss and generator loss are 0.5688940286636353,  1.076871395111084 respectively \n",
      "epoch 238 done and the discriminator loss and generator loss are 0.6323642134666443,  0.970960795879364 respectively \n",
      "epoch 239 done and the discriminator loss and generator loss are 0.5356972217559814,  0.9531697034835815 respectively \n",
      "epoch 240 done and the discriminator loss and generator loss are 0.5084214210510254,  1.178845763206482 respectively \n",
      "epoch 241 done and the discriminator loss and generator loss are 0.5978860855102539,  1.3934047222137451 respectively \n",
      "epoch 242 done and the discriminator loss and generator loss are 0.5355063676834106,  1.1580743789672852 respectively \n",
      "epoch 243 done and the discriminator loss and generator loss are 0.646148681640625,  1.2506821155548096 respectively \n",
      "epoch 244 done and the discriminator loss and generator loss are 0.5573087930679321,  1.1747301816940308 respectively \n",
      "epoch 245 done and the discriminator loss and generator loss are 0.4819961488246918,  1.0259300470352173 respectively \n",
      "epoch 246 done and the discriminator loss and generator loss are 0.5627841949462891,  1.173486351966858 respectively \n",
      "epoch 247 done and the discriminator loss and generator loss are 0.5112556219100952,  1.1413687467575073 respectively \n",
      "epoch 248 done and the discriminator loss and generator loss are 0.6161686182022095,  1.0963795185089111 respectively \n",
      "epoch 249 done and the discriminator loss and generator loss are 0.5394247770309448,  1.2898362874984741 respectively \n",
      "epoch 250 done and the discriminator loss and generator loss are 0.5620096921920776,  1.0743688344955444 respectively \n",
      "epoch 251 done and the discriminator loss and generator loss are 0.4637358784675598,  1.354554533958435 respectively \n",
      "epoch 252 done and the discriminator loss and generator loss are 0.6193021535873413,  1.0670392513275146 respectively \n",
      "epoch 253 done and the discriminator loss and generator loss are 0.6466100811958313,  1.2083128690719604 respectively \n",
      "epoch 254 done and the discriminator loss and generator loss are 0.5187979340553284,  1.2960724830627441 respectively \n",
      "epoch 255 done and the discriminator loss and generator loss are 0.5101044774055481,  1.36726975440979 respectively \n",
      "epoch 256 done and the discriminator loss and generator loss are 0.5482156872749329,  1.2085145711898804 respectively \n",
      "epoch 257 done and the discriminator loss and generator loss are 0.5673036575317383,  1.3321213722229004 respectively \n",
      "epoch 258 done and the discriminator loss and generator loss are 0.6452736258506775,  1.1371862888336182 respectively \n",
      "epoch 259 done and the discriminator loss and generator loss are 0.5969600081443787,  1.0493156909942627 respectively \n",
      "epoch 260 done and the discriminator loss and generator loss are 0.5199615955352783,  1.1924225091934204 respectively \n",
      "epoch 261 done and the discriminator loss and generator loss are 0.5887991786003113,  0.9377674460411072 respectively \n",
      "epoch 262 done and the discriminator loss and generator loss are 0.566430926322937,  1.1421314477920532 respectively \n",
      "epoch 263 done and the discriminator loss and generator loss are 0.5037749409675598,  1.0555652379989624 respectively \n",
      "epoch 264 done and the discriminator loss and generator loss are 0.49822998046875,  1.3328278064727783 respectively \n",
      "epoch 265 done and the discriminator loss and generator loss are 0.569839596748352,  1.1409741640090942 respectively \n",
      "epoch 266 done and the discriminator loss and generator loss are 0.4855319857597351,  0.9795145988464355 respectively \n",
      "epoch 267 done and the discriminator loss and generator loss are 0.5707696676254272,  1.04120934009552 respectively \n",
      "epoch 268 done and the discriminator loss and generator loss are 0.5212056636810303,  1.3282899856567383 respectively \n",
      "epoch 269 done and the discriminator loss and generator loss are 0.528754472732544,  1.3832826614379883 respectively \n",
      "epoch 270 done and the discriminator loss and generator loss are 0.5822484493255615,  1.3683521747589111 respectively \n",
      "epoch 271 done and the discriminator loss and generator loss are 0.621465802192688,  1.3327059745788574 respectively \n",
      "epoch 272 done and the discriminator loss and generator loss are 0.5242245197296143,  1.4159563779830933 respectively \n",
      "epoch 273 done and the discriminator loss and generator loss are 0.5152772068977356,  1.3498958349227905 respectively \n",
      "epoch 274 done and the discriminator loss and generator loss are 0.488577663898468,  1.4042346477508545 respectively \n",
      "epoch 275 done and the discriminator loss and generator loss are 0.5788000226020813,  1.0620781183242798 respectively \n",
      "epoch 276 done and the discriminator loss and generator loss are 0.530077338218689,  1.5201143026351929 respectively \n",
      "epoch 277 done and the discriminator loss and generator loss are 0.5108933448791504,  1.239614486694336 respectively \n",
      "epoch 278 done and the discriminator loss and generator loss are 0.506123423576355,  1.312953233718872 respectively \n",
      "epoch 279 done and the discriminator loss and generator loss are 0.6710604429244995,  1.1415539979934692 respectively \n",
      "epoch 280 done and the discriminator loss and generator loss are 0.5752772092819214,  1.1815932989120483 respectively \n",
      "epoch 281 done and the discriminator loss and generator loss are 0.5812970995903015,  1.3201029300689697 respectively \n",
      "epoch 282 done and the discriminator loss and generator loss are 0.5579589605331421,  1.1878149509429932 respectively \n",
      "epoch 283 done and the discriminator loss and generator loss are 0.5606008768081665,  1.221305251121521 respectively \n",
      "epoch 284 done and the discriminator loss and generator loss are 0.5919207334518433,  1.2825736999511719 respectively \n",
      "epoch 285 done and the discriminator loss and generator loss are 0.5233997702598572,  1.1181286573410034 respectively \n",
      "epoch 286 done and the discriminator loss and generator loss are 0.5801351070404053,  1.0974889993667603 respectively \n",
      "epoch 287 done and the discriminator loss and generator loss are 0.6629005670547485,  1.448460578918457 respectively \n",
      "epoch 288 done and the discriminator loss and generator loss are 0.5414767861366272,  1.2080053091049194 respectively \n",
      "epoch 289 done and the discriminator loss and generator loss are 0.5686472654342651,  1.2933038473129272 respectively \n",
      "epoch 290 done and the discriminator loss and generator loss are 0.4859175682067871,  1.4253149032592773 respectively \n",
      "epoch 291 done and the discriminator loss and generator loss are 0.5468666553497314,  1.4417188167572021 respectively \n",
      "epoch 292 done and the discriminator loss and generator loss are 0.5272912383079529,  1.1291347742080688 respectively \n",
      "epoch 293 done and the discriminator loss and generator loss are 0.5429890155792236,  1.3002790212631226 respectively \n",
      "epoch 294 done and the discriminator loss and generator loss are 0.47862905263900757,  1.314718246459961 respectively \n",
      "epoch 295 done and the discriminator loss and generator loss are 0.4745612144470215,  1.2570302486419678 respectively \n",
      "epoch 296 done and the discriminator loss and generator loss are 0.5157680511474609,  1.316230297088623 respectively \n",
      "epoch 297 done and the discriminator loss and generator loss are 0.5585530400276184,  1.318604588508606 respectively \n",
      "epoch 298 done and the discriminator loss and generator loss are 0.5602120161056519,  1.280255913734436 respectively \n",
      "epoch 299 done and the discriminator loss and generator loss are 0.6062854528427124,  1.28659188747406 respectively \n"
     ]
    }
   ],
   "source": [
    "\n",
    "no_of_epochs=300\n",
    "\n",
    "\n",
    "real_acc_list=[]\n",
    "fake_acc_list=[]\n",
    "\n",
    "for i in range(no_of_epochs):\n",
    "  length1=0\n",
    "  length2=0\n",
    "  acc_fake=0\n",
    "  acc_real=0\n",
    "  for num,dat in enumerate(trainc):\n",
    "    dis.train()\n",
    "    noise_input=torch.randn(50,100).cuda()\n",
    "    val,ind=dat\n",
    "    val=val.cuda()\n",
    "    ind=ind.cuda()\n",
    "    val=val.view(50,28,28)\n",
    "    val=val[:,9:19,9:19]\n",
    "    val=val.flatten(1,2)\n",
    "    noise_inp=torch.cat([noise_input,val],dim=1)\n",
    "    noise_labels=torch.randint(0,10,(50,)).cuda()\n",
    "    gen_output=gen.forward(noise_inp)\n",
    "    im,la=dat\n",
    "    dis_input=im.view(50,784).cuda()\n",
    "    dis_labels=la.cuda()\n",
    "    t_labels=torch.ones(50).cuda()\n",
    "    dis_optim.zero_grad()\n",
    "    dis_output_t=dis.forward(dis_input).view(50)\n",
    "    acc_re=torch.round(dis_output_t)\n",
    "    length2+=dis_labels.size(0)\n",
    "    acc_real+=(torch.sum(acc_re).item())\n",
    "    dis_loss_t=loss(dis_output_t,t_labels)\n",
    "    dis_output_g=dis.forward(gen_output).view(50)\n",
    "    acc_fa=torch.round(dis_output_g)\n",
    "    acc_fake+=(torch.sum(acc_fa).item())\n",
    "    length1+=noise_labels.size(0)\n",
    "    dis_loss_g=loss(dis_output_g,torch.zeros(50).cuda())\n",
    "    dis_total_loss=(dis_loss_t+dis_loss_g)/2\n",
    "\n",
    "\n",
    "    dis_total_loss.backward()\n",
    "    dis_optim.step()\n",
    "    \n",
    "\n",
    "    gen.train()\n",
    "    gen_optim.zero_grad()\n",
    "    gen_output=gen.forward(noise_inp)\n",
    "    #print(gen_output.shape)\n",
    "    unflattened_gen=gen_output.unflatten(1,(28,28))\n",
    "    unflattened_gen=unflattened_gen[:,9:19,9:19]\n",
    "    flat_gen=unflattened_gen.flatten()\n",
    "    v=val.flatten()\n",
    "    #print(val.shape)\n",
    "    #print(flat_gen.shape)h\n",
    "    lambda_reg=0.1\n",
    "    centre_patch_loss=mse(flat_gen,v)\n",
    "\n",
    "    dis_output_g=dis.forward(gen_output).view(50)\n",
    "    gen_loss=loss(dis_output_g,t_labels) + lambda_reg*centre_patch_loss\n",
    "    gen_loss.backward()\n",
    "    gen_optim.step()\n",
    "\n",
    "  real_acc_list.append(acc_real/length2)\n",
    "  fake_acc_list.append(acc_fake/length1)  \n",
    "\n",
    "\n",
    "\n",
    "\n",
    "  print(\"epoch {} done and the discriminator loss and generator loss are {},  {} respectively \".format(i,dis_total_loss,gen_loss))"
   ]
  },
  {
   "cell_type": "code",
   "execution_count": null,
   "metadata": {
    "id": "qWkmEH44WR80"
   },
   "outputs": [],
   "source": [
    "with torch.no_grad():\n",
    "  noise = torch.randn(100,100).cuda()\n",
    "  inp=torch.cat([noise,flat_inp],axis=1)\n",
    "  generated_data1 = gen(inp).cpu().view(100, 28, 28)\n"
   ]
  },
  {
   "cell_type": "code",
   "execution_count": null,
   "metadata": {
    "colab": {
     "base_uri": "https://localhost:8080/",
     "height": 265
    },
    "id": "L992_cKPOHqr",
    "outputId": "16c11959-1a36-43d8-e7a8-4b9015f1628f"
   },
   "outputs": [
    {
     "name": "stdout",
     "output_type": "stream",
     "text": [
      "With Regularization, lambda=0.1\n"
     ]
    },
    {
     "data": {
      "image/png": "[encoded data removed]",
      "text/plain": [
       "<Figure size 432x288 with 100 Axes>"
      ]
     },
     "metadata": {
      "needs_background": "light",
      "tags": []
     },
     "output_type": "display_data"
    }
   ],
   "source": [
    "print(\"With Regularization, lambda=0.1\")\n",
    "ind=0\n",
    "f,a=plt.subplots(10,10)\n",
    "for i in range(10):\n",
    " for j in range(10):\n",
    "    a[i][j].imshow(generated_data1  [ind,:,:],cmap='gray')\n",
    "    a[i][j].axis('off')\n",
    "    ind+=1"
   ]
  },
  {
   "cell_type": "code",
   "execution_count": null,
   "metadata": {
    "colab": {
     "base_uri": "https://localhost:8080/"
    },
    "id": "LxMPy6Fog2lc",
    "outputId": "8f0774f0-99a1-4dcc-94f9-73a2155ed159"
   },
   "outputs": [
    {
     "name": "stdout",
     "output_type": "stream",
     "text": [
      "epoch 0 done and the discriminator loss and generator loss are 0.4267483949661255,  2.8829002380371094 respectively \n",
      "epoch 1 done and the discriminator loss and generator loss are 0.5060283541679382,  2.423503875732422 respectively \n",
      "epoch 2 done and the discriminator loss and generator loss are 0.5319535732269287,  2.194270372390747 respectively \n",
      "epoch 3 done and the discriminator loss and generator loss are 0.39884865283966064,  2.094973564147949 respectively \n",
      "epoch 4 done and the discriminator loss and generator loss are 0.5114378333091736,  2.490424394607544 respectively \n",
      "epoch 5 done and the discriminator loss and generator loss are 0.42263486981391907,  2.2262048721313477 respectively \n",
      "epoch 6 done and the discriminator loss and generator loss are 0.43868160247802734,  2.3931736946105957 respectively \n",
      "epoch 7 done and the discriminator loss and generator loss are 0.40767449140548706,  2.390526533126831 respectively \n",
      "epoch 8 done and the discriminator loss and generator loss are 0.43746066093444824,  2.335017681121826 respectively \n",
      "epoch 9 done and the discriminator loss and generator loss are 0.5309284329414368,  2.041196823120117 respectively \n",
      "epoch 10 done and the discriminator loss and generator loss are 0.4542625844478607,  1.9705801010131836 respectively \n",
      "epoch 11 done and the discriminator loss and generator loss are 0.5011775493621826,  2.244171619415283 respectively \n",
      "epoch 12 done and the discriminator loss and generator loss are 0.4520764946937561,  2.34163236618042 respectively \n",
      "epoch 13 done and the discriminator loss and generator loss are 0.48347145318984985,  1.849294900894165 respectively \n",
      "epoch 14 done and the discriminator loss and generator loss are 0.4635133743286133,  2.3494744300842285 respectively \n",
      "epoch 15 done and the discriminator loss and generator loss are 0.5072327852249146,  2.048360824584961 respectively \n",
      "epoch 16 done and the discriminator loss and generator loss are 0.4145069122314453,  1.7103817462921143 respectively \n",
      "epoch 17 done and the discriminator loss and generator loss are 0.5210885405540466,  2.092017650604248 respectively \n",
      "epoch 18 done and the discriminator loss and generator loss are 0.48400449752807617,  1.7703728675842285 respectively \n",
      "epoch 19 done and the discriminator loss and generator loss are 0.5605210065841675,  1.7849308252334595 respectively \n",
      "epoch 20 done and the discriminator loss and generator loss are 0.4212048053741455,  2.146301507949829 respectively \n",
      "epoch 21 done and the discriminator loss and generator loss are 0.5110732316970825,  1.7941453456878662 respectively \n",
      "epoch 22 done and the discriminator loss and generator loss are 0.5378365516662598,  2.0092525482177734 respectively \n",
      "epoch 23 done and the discriminator loss and generator loss are 0.48720377683639526,  1.9218730926513672 respectively \n",
      "epoch 24 done and the discriminator loss and generator loss are 0.4109427034854889,  2.2593894004821777 respectively \n",
      "epoch 25 done and the discriminator loss and generator loss are 0.5607156753540039,  2.025109052658081 respectively \n",
      "epoch 26 done and the discriminator loss and generator loss are 0.547629714012146,  2.1342015266418457 respectively \n",
      "epoch 27 done and the discriminator loss and generator loss are 0.4622671902179718,  1.7393802404403687 respectively \n",
      "epoch 28 done and the discriminator loss and generator loss are 0.4580576717853546,  1.7456603050231934 respectively \n",
      "epoch 29 done and the discriminator loss and generator loss are 0.46999800205230713,  2.0559511184692383 respectively \n",
      "epoch 30 done and the discriminator loss and generator loss are 0.5017789006233215,  1.6133285760879517 respectively \n",
      "epoch 31 done and the discriminator loss and generator loss are 0.4493231773376465,  2.0488834381103516 respectively \n",
      "epoch 32 done and the discriminator loss and generator loss are 0.41238880157470703,  1.766377568244934 respectively \n",
      "epoch 33 done and the discriminator loss and generator loss are 0.48260265588760376,  1.6764750480651855 respectively \n",
      "epoch 34 done and the discriminator loss and generator loss are 0.5266609787940979,  1.7278972864151 respectively \n",
      "epoch 35 done and the discriminator loss and generator loss are 0.6171759366989136,  1.692886471748352 respectively \n",
      "epoch 36 done and the discriminator loss and generator loss are 0.49355536699295044,  1.8902084827423096 respectively \n",
      "epoch 37 done and the discriminator loss and generator loss are 0.4592287838459015,  1.8118560314178467 respectively \n",
      "epoch 38 done and the discriminator loss and generator loss are 0.5445337891578674,  1.5173759460449219 respectively \n",
      "epoch 39 done and the discriminator loss and generator loss are 0.5045483112335205,  1.4740339517593384 respectively \n",
      "epoch 40 done and the discriminator loss and generator loss are 0.4188714623451233,  1.7328382730484009 respectively \n",
      "epoch 41 done and the discriminator loss and generator loss are 0.5714194774627686,  2.005836009979248 respectively \n",
      "epoch 42 done and the discriminator loss and generator loss are 0.5555142760276794,  1.6792305707931519 respectively \n",
      "epoch 43 done and the discriminator loss and generator loss are 0.5518859624862671,  1.789261817932129 respectively \n",
      "epoch 44 done and the discriminator loss and generator loss are 0.4141644835472107,  1.8033157587051392 respectively \n",
      "epoch 45 done and the discriminator loss and generator loss are 0.48185479640960693,  1.8737549781799316 respectively \n",
      "epoch 46 done and the discriminator loss and generator loss are 0.5580785870552063,  1.8208963871002197 respectively \n",
      "epoch 47 done and the discriminator loss and generator loss are 0.45364952087402344,  1.9093438386917114 respectively \n",
      "epoch 48 done and the discriminator loss and generator loss are 0.5076214671134949,  1.811282992362976 respectively \n",
      "epoch 49 done and the discriminator loss and generator loss are 0.5419113636016846,  1.8292230367660522 respectively \n",
      "epoch 50 done and the discriminator loss and generator loss are 0.5202631950378418,  1.6745314598083496 respectively \n",
      "epoch 51 done and the discriminator loss and generator loss are 0.5023108124732971,  1.7044262886047363 respectively \n",
      "epoch 52 done and the discriminator loss and generator loss are 0.5079102516174316,  1.6273541450500488 respectively \n",
      "epoch 53 done and the discriminator loss and generator loss are 0.5533351898193359,  1.8678507804870605 respectively \n",
      "epoch 54 done and the discriminator loss and generator loss are 0.6069596409797668,  1.6052324771881104 respectively \n",
      "epoch 55 done and the discriminator loss and generator loss are 0.5734908580780029,  1.6831181049346924 respectively \n",
      "epoch 56 done and the discriminator loss and generator loss are 0.5203316807746887,  1.7209200859069824 respectively \n",
      "epoch 57 done and the discriminator loss and generator loss are 0.48303520679473877,  1.7832392454147339 respectively \n",
      "epoch 58 done and the discriminator loss and generator loss are 0.5133609771728516,  1.4873980283737183 respectively \n",
      "epoch 59 done and the discriminator loss and generator loss are 0.5178275108337402,  1.485305905342102 respectively \n",
      "epoch 60 done and the discriminator loss and generator loss are 0.5005112886428833,  1.5201287269592285 respectively \n",
      "epoch 61 done and the discriminator loss and generator loss are 0.4701697826385498,  1.5685057640075684 respectively \n",
      "epoch 62 done and the discriminator loss and generator loss are 0.4899630546569824,  1.5384761095046997 respectively \n",
      "epoch 63 done and the discriminator loss and generator loss are 0.45200085639953613,  1.8248183727264404 respectively \n",
      "epoch 64 done and the discriminator loss and generator loss are 0.476068377494812,  1.8652472496032715 respectively \n",
      "epoch 65 done and the discriminator loss and generator loss are 0.48326557874679565,  1.8977549076080322 respectively \n",
      "epoch 66 done and the discriminator loss and generator loss are 0.5216809511184692,  1.7160927057266235 respectively \n",
      "epoch 67 done and the discriminator loss and generator loss are 0.5147190093994141,  1.5225244760513306 respectively \n",
      "epoch 68 done and the discriminator loss and generator loss are 0.46854448318481445,  1.7603157758712769 respectively \n",
      "epoch 69 done and the discriminator loss and generator loss are 0.5587499141693115,  1.7411105632781982 respectively \n",
      "epoch 70 done and the discriminator loss and generator loss are 0.4609145224094391,  1.9051809310913086 respectively \n",
      "epoch 71 done and the discriminator loss and generator loss are 0.4368070662021637,  1.4343211650848389 respectively \n",
      "epoch 72 done and the discriminator loss and generator loss are 0.4462149739265442,  2.1063051223754883 respectively \n",
      "epoch 73 done and the discriminator loss and generator loss are 0.4798550307750702,  1.907468318939209 respectively \n",
      "epoch 74 done and the discriminator loss and generator loss are 0.4384668469429016,  1.9811315536499023 respectively \n",
      "epoch 75 done and the discriminator loss and generator loss are 0.4549441337585449,  1.865027666091919 respectively \n",
      "epoch 76 done and the discriminator loss and generator loss are 0.4678439795970917,  1.5557520389556885 respectively \n",
      "epoch 77 done and the discriminator loss and generator loss are 0.49619144201278687,  1.642141580581665 respectively \n",
      "epoch 78 done and the discriminator loss and generator loss are 0.5632259249687195,  1.7681214809417725 respectively \n",
      "epoch 79 done and the discriminator loss and generator loss are 0.513404130935669,  1.5181825160980225 respectively \n",
      "epoch 80 done and the discriminator loss and generator loss are 0.41826605796813965,  1.4605664014816284 respectively \n",
      "epoch 81 done and the discriminator loss and generator loss are 0.539035439491272,  1.4490920305252075 respectively \n",
      "epoch 82 done and the discriminator loss and generator loss are 0.4893173575401306,  1.4382047653198242 respectively \n",
      "epoch 83 done and the discriminator loss and generator loss are 0.6019171476364136,  1.4222886562347412 respectively \n",
      "epoch 84 done and the discriminator loss and generator loss are 0.5049916505813599,  1.6282694339752197 respectively \n",
      "epoch 85 done and the discriminator loss and generator loss are 0.6056102514266968,  1.6642366647720337 respectively \n",
      "epoch 86 done and the discriminator loss and generator loss are 0.5538934469223022,  1.8016784191131592 respectively \n",
      "epoch 87 done and the discriminator loss and generator loss are 0.508989691734314,  1.6108641624450684 respectively \n",
      "epoch 88 done and the discriminator loss and generator loss are 0.4443180561065674,  1.986526608467102 respectively \n",
      "epoch 89 done and the discriminator loss and generator loss are 0.5132193565368652,  1.783625602722168 respectively \n",
      "epoch 90 done and the discriminator loss and generator loss are 0.44902050495147705,  1.7435156106948853 respectively \n",
      "epoch 91 done and the discriminator loss and generator loss are 0.5355196595191956,  1.5494192838668823 respectively \n",
      "epoch 92 done and the discriminator loss and generator loss are 0.4990508258342743,  1.7131893634796143 respectively \n",
      "epoch 93 done and the discriminator loss and generator loss are 0.5253005027770996,  1.5180492401123047 respectively \n",
      "epoch 94 done and the discriminator loss and generator loss are 0.6001104116439819,  1.4597008228302002 respectively \n",
      "epoch 95 done and the discriminator loss and generator loss are 0.5120999813079834,  1.7829995155334473 respectively \n",
      "epoch 96 done and the discriminator loss and generator loss are 0.5828152894973755,  1.618188500404358 respectively \n",
      "epoch 97 done and the discriminator loss and generator loss are 0.6125677227973938,  1.6277836561203003 respectively \n",
      "epoch 98 done and the discriminator loss and generator loss are 0.6533454656600952,  1.4221442937850952 respectively \n",
      "epoch 99 done and the discriminator loss and generator loss are 0.5680317282676697,  1.9138137102127075 respectively \n",
      "epoch 100 done and the discriminator loss and generator loss are 0.5531072020530701,  1.4017106294631958 respectively \n",
      "epoch 101 done and the discriminator loss and generator loss are 0.621565043926239,  1.3296587467193604 respectively \n",
      "epoch 102 done and the discriminator loss and generator loss are 0.5697362422943115,  1.6076220273971558 respectively \n",
      "epoch 103 done and the discriminator loss and generator loss are 0.4669033885002136,  1.5271248817443848 respectively \n",
      "epoch 104 done and the discriminator loss and generator loss are 0.4966887831687927,  1.776246190071106 respectively \n",
      "epoch 105 done and the discriminator loss and generator loss are 0.5640902519226074,  1.451527714729309 respectively \n",
      "epoch 106 done and the discriminator loss and generator loss are 0.4911857843399048,  1.551607370376587 respectively \n",
      "epoch 107 done and the discriminator loss and generator loss are 0.516022801399231,  1.6405736207962036 respectively \n",
      "epoch 108 done and the discriminator loss and generator loss are 0.45553886890411377,  1.850669264793396 respectively \n",
      "epoch 109 done and the discriminator loss and generator loss are 0.5141019821166992,  1.517202615737915 respectively \n",
      "epoch 110 done and the discriminator loss and generator loss are 0.4451337456703186,  2.2051148414611816 respectively \n",
      "epoch 111 done and the discriminator loss and generator loss are 0.46445232629776,  1.6493961811065674 respectively \n",
      "epoch 112 done and the discriminator loss and generator loss are 0.505603551864624,  1.5571887493133545 respectively \n",
      "epoch 113 done and the discriminator loss and generator loss are 0.6352920532226562,  1.7281651496887207 respectively \n",
      "epoch 114 done and the discriminator loss and generator loss are 0.5667233467102051,  1.507441520690918 respectively \n",
      "epoch 115 done and the discriminator loss and generator loss are 0.454647958278656,  1.8554142713546753 respectively \n",
      "epoch 116 done and the discriminator loss and generator loss are 0.4558756649494171,  1.5032529830932617 respectively \n",
      "epoch 117 done and the discriminator loss and generator loss are 0.5786160826683044,  1.5006208419799805 respectively \n",
      "epoch 118 done and the discriminator loss and generator loss are 0.5320699214935303,  1.5252209901809692 respectively \n",
      "epoch 119 done and the discriminator loss and generator loss are 0.5228252410888672,  1.5023685693740845 respectively \n",
      "epoch 120 done and the discriminator loss and generator loss are 0.5146967172622681,  1.6657301187515259 respectively \n",
      "epoch 121 done and the discriminator loss and generator loss are 0.5565024614334106,  1.6282554864883423 respectively \n",
      "epoch 122 done and the discriminator loss and generator loss are 0.5476478338241577,  1.4313410520553589 respectively \n",
      "epoch 123 done and the discriminator loss and generator loss are 0.48520031571388245,  1.5933504104614258 respectively \n",
      "epoch 124 done and the discriminator loss and generator loss are 0.6157188415527344,  1.263235092163086 respectively \n",
      "epoch 125 done and the discriminator loss and generator loss are 0.5603287816047668,  1.842081069946289 respectively \n",
      "epoch 126 done and the discriminator loss and generator loss are 0.497968852519989,  1.623826503753662 respectively \n",
      "epoch 127 done and the discriminator loss and generator loss are 0.5589500665664673,  1.2055567502975464 respectively \n",
      "epoch 128 done and the discriminator loss and generator loss are 0.5658403635025024,  1.4465320110321045 respectively \n",
      "epoch 129 done and the discriminator loss and generator loss are 0.5655407905578613,  1.7152354717254639 respectively \n",
      "epoch 130 done and the discriminator loss and generator loss are 0.5535649061203003,  1.511080265045166 respectively \n",
      "epoch 131 done and the discriminator loss and generator loss are 0.5698528289794922,  1.5868347883224487 respectively \n",
      "epoch 132 done and the discriminator loss and generator loss are 0.5617239475250244,  1.5760151147842407 respectively \n",
      "epoch 133 done and the discriminator loss and generator loss are 0.46472597122192383,  1.7985618114471436 respectively \n",
      "epoch 134 done and the discriminator loss and generator loss are 0.48287224769592285,  1.684518814086914 respectively \n",
      "epoch 135 done and the discriminator loss and generator loss are 0.49688804149627686,  1.6756823062896729 respectively \n",
      "epoch 136 done and the discriminator loss and generator loss are 0.5832322835922241,  1.6788033246994019 respectively \n",
      "epoch 137 done and the discriminator loss and generator loss are 0.5281851887702942,  1.5726113319396973 respectively \n",
      "epoch 138 done and the discriminator loss and generator loss are 0.5317584276199341,  1.3973703384399414 respectively \n",
      "epoch 139 done and the discriminator loss and generator loss are 0.474833220243454,  1.6533257961273193 respectively \n",
      "epoch 140 done and the discriminator loss and generator loss are 0.5734844207763672,  1.6639556884765625 respectively \n",
      "epoch 141 done and the discriminator loss and generator loss are 0.5170431137084961,  1.4646153450012207 respectively \n",
      "epoch 142 done and the discriminator loss and generator loss are 0.47037893533706665,  1.559948444366455 respectively \n",
      "epoch 143 done and the discriminator loss and generator loss are 0.5489561557769775,  1.3355990648269653 respectively \n",
      "epoch 144 done and the discriminator loss and generator loss are 0.5300742983818054,  1.7084052562713623 respectively \n",
      "epoch 145 done and the discriminator loss and generator loss are 0.5476651191711426,  1.6758465766906738 respectively \n",
      "epoch 146 done and the discriminator loss and generator loss are 0.5602082014083862,  1.5252591371536255 respectively \n",
      "epoch 147 done and the discriminator loss and generator loss are 0.5235995054244995,  1.7575470209121704 respectively \n",
      "epoch 148 done and the discriminator loss and generator loss are 0.5110465884208679,  1.5960527658462524 respectively \n",
      "epoch 149 done and the discriminator loss and generator loss are 0.5412803292274475,  1.6150236129760742 respectively \n",
      "epoch 150 done and the discriminator loss and generator loss are 0.5317809581756592,  1.490094542503357 respectively \n",
      "epoch 151 done and the discriminator loss and generator loss are 0.5591471195220947,  1.739801287651062 respectively \n",
      "epoch 152 done and the discriminator loss and generator loss are 0.5400464534759521,  1.5596458911895752 respectively \n",
      "epoch 153 done and the discriminator loss and generator loss are 0.5438623428344727,  1.4908344745635986 respectively \n",
      "epoch 154 done and the discriminator loss and generator loss are 0.5292656421661377,  1.5164093971252441 respectively \n",
      "epoch 155 done and the discriminator loss and generator loss are 0.5277954339981079,  1.4537034034729004 respectively \n",
      "epoch 156 done and the discriminator loss and generator loss are 0.5543233752250671,  1.407753586769104 respectively \n",
      "epoch 157 done and the discriminator loss and generator loss are 0.4880971312522888,  1.754610300064087 respectively \n",
      "epoch 158 done and the discriminator loss and generator loss are 0.5533895492553711,  1.3282599449157715 respectively \n",
      "epoch 159 done and the discriminator loss and generator loss are 0.5220553874969482,  1.7580615282058716 respectively \n",
      "epoch 160 done and the discriminator loss and generator loss are 0.4909674823284149,  1.936949610710144 respectively \n",
      "epoch 161 done and the discriminator loss and generator loss are 0.5031306743621826,  1.5794109106063843 respectively \n",
      "epoch 162 done and the discriminator loss and generator loss are 0.5765303373336792,  1.5289678573608398 respectively \n",
      "epoch 163 done and the discriminator loss and generator loss are 0.45008981227874756,  1.3207883834838867 respectively \n",
      "epoch 164 done and the discriminator loss and generator loss are 0.5286989212036133,  1.5920332670211792 respectively \n",
      "epoch 165 done and the discriminator loss and generator loss are 0.5117434859275818,  1.5089528560638428 respectively \n",
      "epoch 166 done and the discriminator loss and generator loss are 0.5032645463943481,  1.391710638999939 respectively \n",
      "epoch 167 done and the discriminator loss and generator loss are 0.5543456077575684,  1.3619751930236816 respectively \n",
      "epoch 168 done and the discriminator loss and generator loss are 0.43838274478912354,  1.9393311738967896 respectively \n",
      "epoch 169 done and the discriminator loss and generator loss are 0.4528055787086487,  1.5816090106964111 respectively \n",
      "epoch 170 done and the discriminator loss and generator loss are 0.4809603691101074,  1.484808325767517 respectively \n",
      "epoch 171 done and the discriminator loss and generator loss are 0.5409698486328125,  1.5621408224105835 respectively \n",
      "epoch 172 done and the discriminator loss and generator loss are 0.49328678846359253,  1.682026982307434 respectively \n",
      "epoch 173 done and the discriminator loss and generator loss are 0.5109375715255737,  1.5253621339797974 respectively \n",
      "epoch 174 done and the discriminator loss and generator loss are 0.5354019999504089,  1.7349313497543335 respectively \n",
      "epoch 175 done and the discriminator loss and generator loss are 0.5443511009216309,  1.1969960927963257 respectively \n",
      "epoch 176 done and the discriminator loss and generator loss are 0.5584920644760132,  1.6829942464828491 respectively \n",
      "epoch 177 done and the discriminator loss and generator loss are 0.5360303521156311,  2.184084177017212 respectively \n",
      "epoch 178 done and the discriminator loss and generator loss are 0.57740718126297,  1.1930254697799683 respectively \n",
      "epoch 179 done and the discriminator loss and generator loss are 0.4835370182991028,  1.5963807106018066 respectively \n",
      "epoch 180 done and the discriminator loss and generator loss are 0.5000617504119873,  1.8857331275939941 respectively \n",
      "epoch 181 done and the discriminator loss and generator loss are 0.5340971946716309,  1.3930816650390625 respectively \n",
      "epoch 182 done and the discriminator loss and generator loss are 0.5329469442367554,  1.8642328977584839 respectively \n",
      "epoch 183 done and the discriminator loss and generator loss are 0.5553218722343445,  1.6530590057373047 respectively \n",
      "epoch 184 done and the discriminator loss and generator loss are 0.4942643940448761,  1.4765208959579468 respectively \n",
      "epoch 185 done and the discriminator loss and generator loss are 0.5305637121200562,  1.3491257429122925 respectively \n",
      "epoch 186 done and the discriminator loss and generator loss are 0.5392717719078064,  1.4852474927902222 respectively \n",
      "epoch 187 done and the discriminator loss and generator loss are 0.5100515484809875,  1.4233628511428833 respectively \n",
      "epoch 188 done and the discriminator loss and generator loss are 0.5492160320281982,  1.5958837270736694 respectively \n",
      "epoch 189 done and the discriminator loss and generator loss are 0.535594642162323,  1.4035483598709106 respectively \n",
      "epoch 190 done and the discriminator loss and generator loss are 0.48163527250289917,  1.3890894651412964 respectively \n",
      "epoch 191 done and the discriminator loss and generator loss are 0.5423986911773682,  1.6703280210494995 respectively \n",
      "epoch 192 done and the discriminator loss and generator loss are 0.5476052165031433,  1.408566951751709 respectively \n",
      "epoch 193 done and the discriminator loss and generator loss are 0.48993295431137085,  1.8748717308044434 respectively \n",
      "epoch 194 done and the discriminator loss and generator loss are 0.5295471549034119,  1.4869179725646973 respectively \n",
      "epoch 195 done and the discriminator loss and generator loss are 0.5031926035881042,  1.636457920074463 respectively \n",
      "epoch 196 done and the discriminator loss and generator loss are 0.5676668882369995,  1.6177054643630981 respectively \n",
      "epoch 197 done and the discriminator loss and generator loss are 0.5667316913604736,  1.542075514793396 respectively \n",
      "epoch 198 done and the discriminator loss and generator loss are 0.6162655353546143,  1.4627282619476318 respectively \n",
      "epoch 199 done and the discriminator loss and generator loss are 0.4957044720649719,  1.3531103134155273 respectively \n",
      "epoch 200 done and the discriminator loss and generator loss are 0.4298408031463623,  1.7102586030960083 respectively \n",
      "epoch 201 done and the discriminator loss and generator loss are 0.48894673585891724,  1.6501946449279785 respectively \n",
      "epoch 202 done and the discriminator loss and generator loss are 0.5727502703666687,  1.638416051864624 respectively \n",
      "epoch 203 done and the discriminator loss and generator loss are 0.47399985790252686,  1.3868563175201416 respectively \n",
      "epoch 204 done and the discriminator loss and generator loss are 0.5112133622169495,  1.6890380382537842 respectively \n",
      "epoch 205 done and the discriminator loss and generator loss are 0.6149104833602905,  1.4408199787139893 respectively \n",
      "epoch 206 done and the discriminator loss and generator loss are 0.49400490522384644,  1.6403393745422363 respectively \n",
      "epoch 207 done and the discriminator loss and generator loss are 0.5271161794662476,  1.3147754669189453 respectively \n",
      "epoch 208 done and the discriminator loss and generator loss are 0.4989292621612549,  1.8513736724853516 respectively \n",
      "epoch 209 done and the discriminator loss and generator loss are 0.4835340976715088,  1.32566499710083 respectively \n",
      "epoch 210 done and the discriminator loss and generator loss are 0.4851836860179901,  1.4858441352844238 respectively \n",
      "epoch 211 done and the discriminator loss and generator loss are 0.5335427522659302,  1.53401780128479 respectively \n",
      "epoch 212 done and the discriminator loss and generator loss are 0.5547419190406799,  1.872856855392456 respectively \n",
      "epoch 213 done and the discriminator loss and generator loss are 0.6164214015007019,  1.901551365852356 respectively \n",
      "epoch 214 done and the discriminator loss and generator loss are 0.49201011657714844,  1.8834490776062012 respectively \n",
      "epoch 215 done and the discriminator loss and generator loss are 0.5392593741416931,  1.7838494777679443 respectively \n",
      "epoch 216 done and the discriminator loss and generator loss are 0.45356595516204834,  1.5963444709777832 respectively \n",
      "epoch 217 done and the discriminator loss and generator loss are 0.5062662363052368,  1.5979790687561035 respectively \n",
      "epoch 218 done and the discriminator loss and generator loss are 0.640353798866272,  1.2424585819244385 respectively \n",
      "epoch 219 done and the discriminator loss and generator loss are 0.5488401651382446,  1.4084060192108154 respectively \n",
      "epoch 220 done and the discriminator loss and generator loss are 0.4585556983947754,  2.0386061668395996 respectively \n",
      "epoch 221 done and the discriminator loss and generator loss are 0.5079715251922607,  1.9452335834503174 respectively \n",
      "epoch 222 done and the discriminator loss and generator loss are 0.47020167112350464,  1.5340770483016968 respectively \n",
      "epoch 223 done and the discriminator loss and generator loss are 0.48320290446281433,  1.6327240467071533 respectively \n",
      "epoch 224 done and the discriminator loss and generator loss are 0.6055727005004883,  1.4191087484359741 respectively \n",
      "epoch 225 done and the discriminator loss and generator loss are 0.5178560018539429,  1.5897958278656006 respectively \n",
      "epoch 226 done and the discriminator loss and generator loss are 0.5380381345748901,  1.485766887664795 respectively \n",
      "epoch 227 done and the discriminator loss and generator loss are 0.5475817322731018,  1.834928035736084 respectively \n",
      "epoch 228 done and the discriminator loss and generator loss are 0.4905377924442291,  1.4073635339736938 respectively \n",
      "epoch 229 done and the discriminator loss and generator loss are 0.5739989280700684,  1.6813559532165527 respectively \n",
      "epoch 230 done and the discriminator loss and generator loss are 0.5893962383270264,  1.778339147567749 respectively \n",
      "epoch 231 done and the discriminator loss and generator loss are 0.5434866547584534,  1.7518279552459717 respectively \n",
      "epoch 232 done and the discriminator loss and generator loss are 0.46999987959861755,  1.6488027572631836 respectively \n",
      "epoch 233 done and the discriminator loss and generator loss are 0.5633304119110107,  1.6265342235565186 respectively \n",
      "epoch 234 done and the discriminator loss and generator loss are 0.4069240987300873,  1.5009510517120361 respectively \n",
      "epoch 235 done and the discriminator loss and generator loss are 0.5253669619560242,  1.6707215309143066 respectively \n",
      "epoch 236 done and the discriminator loss and generator loss are 0.44667139649391174,  1.548203706741333 respectively \n",
      "epoch 237 done and the discriminator loss and generator loss are 0.5552551746368408,  1.4152097702026367 respectively \n",
      "epoch 238 done and the discriminator loss and generator loss are 0.47701454162597656,  1.294198989868164 respectively \n",
      "epoch 239 done and the discriminator loss and generator loss are 0.4397309422492981,  1.7011581659317017 respectively \n",
      "epoch 240 done and the discriminator loss and generator loss are 0.5268036127090454,  1.485830545425415 respectively \n",
      "epoch 241 done and the discriminator loss and generator loss are 0.5780032873153687,  1.7846235036849976 respectively \n",
      "epoch 242 done and the discriminator loss and generator loss are 0.5015863180160522,  1.5300236940383911 respectively \n",
      "epoch 243 done and the discriminator loss and generator loss are 0.4877387285232544,  1.7678624391555786 respectively \n",
      "epoch 244 done and the discriminator loss and generator loss are 0.4984577000141144,  1.5437895059585571 respectively \n",
      "epoch 245 done and the discriminator loss and generator loss are 0.5382722020149231,  1.5838959217071533 respectively \n",
      "epoch 246 done and the discriminator loss and generator loss are 0.518651008605957,  1.362138032913208 respectively \n",
      "epoch 247 done and the discriminator loss and generator loss are 0.4779340922832489,  1.793461561203003 respectively \n",
      "epoch 248 done and the discriminator loss and generator loss are 0.5158222913742065,  1.835094928741455 respectively \n",
      "epoch 249 done and the discriminator loss and generator loss are 0.545076847076416,  1.518792748451233 respectively \n",
      "epoch 250 done and the discriminator loss and generator loss are 0.500929594039917,  1.6924899816513062 respectively \n",
      "epoch 251 done and the discriminator loss and generator loss are 0.47929632663726807,  1.4496358633041382 respectively \n",
      "epoch 252 done and the discriminator loss and generator loss are 0.5116026997566223,  1.5361183881759644 respectively \n",
      "epoch 253 done and the discriminator loss and generator loss are 0.5429877638816833,  1.7086198329925537 respectively \n",
      "epoch 254 done and the discriminator loss and generator loss are 0.4744725227355957,  1.5668418407440186 respectively \n",
      "epoch 255 done and the discriminator loss and generator loss are 0.5132170915603638,  1.5707733631134033 respectively \n",
      "epoch 256 done and the discriminator loss and generator loss are 0.5778454542160034,  1.3926023244857788 respectively \n",
      "epoch 257 done and the discriminator loss and generator loss are 0.5601774454116821,  1.7052996158599854 respectively \n",
      "epoch 258 done and the discriminator loss and generator loss are 0.5568328499794006,  1.8056448698043823 respectively \n",
      "epoch 259 done and the discriminator loss and generator loss are 0.45774152874946594,  1.8880796432495117 respectively \n",
      "epoch 260 done and the discriminator loss and generator loss are 0.5512142181396484,  1.4028345346450806 respectively \n",
      "epoch 261 done and the discriminator loss and generator loss are 0.4826025068759918,  1.5254499912261963 respectively \n",
      "epoch 262 done and the discriminator loss and generator loss are 0.5303364396095276,  1.8199834823608398 respectively \n",
      "epoch 263 done and the discriminator loss and generator loss are 0.5783487558364868,  1.6356679201126099 respectively \n",
      "epoch 264 done and the discriminator loss and generator loss are 0.5168454647064209,  1.531897783279419 respectively \n",
      "epoch 265 done and the discriminator loss and generator loss are 0.5728752613067627,  1.680465817451477 respectively \n",
      "epoch 266 done and the discriminator loss and generator loss are 0.48108193278312683,  1.555680751800537 respectively \n",
      "epoch 267 done and the discriminator loss and generator loss are 0.5791133642196655,  1.7429441213607788 respectively \n",
      "epoch 268 done and the discriminator loss and generator loss are 0.5069206953048706,  1.7701796293258667 respectively \n",
      "epoch 269 done and the discriminator loss and generator loss are 0.6208255887031555,  1.440971851348877 respectively \n",
      "epoch 270 done and the discriminator loss and generator loss are 0.5158337354660034,  1.4771723747253418 respectively \n",
      "epoch 271 done and the discriminator loss and generator loss are 0.5445089340209961,  1.5530359745025635 respectively \n",
      "epoch 272 done and the discriminator loss and generator loss are 0.47367364168167114,  1.4366368055343628 respectively \n",
      "epoch 273 done and the discriminator loss and generator loss are 0.4640898108482361,  1.7617439031600952 respectively \n",
      "epoch 274 done and the discriminator loss and generator loss are 0.5279208421707153,  1.40845787525177 respectively \n",
      "epoch 275 done and the discriminator loss and generator loss are 0.5058271884918213,  1.4437190294265747 respectively \n",
      "epoch 276 done and the discriminator loss and generator loss are 0.45330744981765747,  1.4996349811553955 respectively \n",
      "epoch 277 done and the discriminator loss and generator loss are 0.490847647190094,  1.4669651985168457 respectively \n",
      "epoch 278 done and the discriminator loss and generator loss are 0.44127005338668823,  1.3783314228057861 respectively \n",
      "epoch 279 done and the discriminator loss and generator loss are 0.5421248078346252,  1.449767827987671 respectively \n",
      "epoch 280 done and the discriminator loss and generator loss are 0.5088733434677124,  1.5967243909835815 respectively \n",
      "epoch 281 done and the discriminator loss and generator loss are 0.5261536240577698,  1.418653130531311 respectively \n",
      "epoch 282 done and the discriminator loss and generator loss are 0.4679277539253235,  1.44205641746521 respectively \n",
      "epoch 283 done and the discriminator loss and generator loss are 0.533455491065979,  1.4834342002868652 respectively \n",
      "epoch 284 done and the discriminator loss and generator loss are 0.5545457601547241,  1.9453675746917725 respectively \n",
      "epoch 285 done and the discriminator loss and generator loss are 0.5269392132759094,  1.4067095518112183 respectively \n",
      "epoch 286 done and the discriminator loss and generator loss are 0.5776106119155884,  1.4413843154907227 respectively \n",
      "epoch 287 done and the discriminator loss and generator loss are 0.5571856498718262,  1.666703462600708 respectively \n",
      "epoch 288 done and the discriminator loss and generator loss are 0.48781514167785645,  1.3647282123565674 respectively \n",
      "epoch 289 done and the discriminator loss and generator loss are 0.48667240142822266,  1.9865802526474 respectively \n",
      "epoch 290 done and the discriminator loss and generator loss are 0.49204838275909424,  1.7363649606704712 respectively \n",
      "epoch 291 done and the discriminator loss and generator loss are 0.6037248373031616,  1.7519490718841553 respectively \n",
      "epoch 292 done and the discriminator loss and generator loss are 0.509414792060852,  1.531921625137329 respectively \n",
      "epoch 293 done and the discriminator loss and generator loss are 0.5140358209609985,  1.866808533668518 respectively \n",
      "epoch 294 done and the discriminator loss and generator loss are 0.5417616367340088,  1.6428446769714355 respectively \n",
      "epoch 295 done and the discriminator loss and generator loss are 0.4682719111442566,  1.7717798948287964 respectively \n",
      "epoch 296 done and the discriminator loss and generator loss are 0.5291516184806824,  1.5896472930908203 respectively \n",
      "epoch 297 done and the discriminator loss and generator loss are 0.5040315389633179,  1.7140109539031982 respectively \n",
      "epoch 298 done and the discriminator loss and generator loss are 0.5424743890762329,  1.7344411611557007 respectively \n",
      "epoch 299 done and the discriminator loss and generator loss are 0.5184764266014099,  1.4231681823730469 respectively \n"
     ]
    }
   ],
   "source": [
    "\n",
    "no_of_epochs=300\n",
    "\n",
    "\n",
    "real_acc_list=[]\n",
    "fake_acc_list=[]\n",
    "\n",
    "for i in range(no_of_epochs):\n",
    "  length1=0\n",
    "  length2=0\n",
    "  acc_fake=0\n",
    "  acc_real=0\n",
    "  for num,dat in enumerate(trainc):\n",
    "    dis.train()\n",
    "    noise_input=torch.randn(50,100).cuda()\n",
    "    val,ind=dat\n",
    "    val=val.cuda()\n",
    "    ind=ind.cuda()\n",
    "    val=val.view(50,28,28)\n",
    "    val=val[:,9:19,9:19]\n",
    "    val=val.flatten(1,2)\n",
    "    noise_inp=torch.cat([noise_input,val],dim=1)\n",
    "    noise_labels=torch.randint(0,10,(50,)).cuda()\n",
    "    gen_output=gen.forward(noise_inp)\n",
    "    im,la=dat\n",
    "    dis_input=im.view(50,784).cuda()\n",
    "    dis_labels=la.cuda()\n",
    "    t_labels=torch.ones(50).cuda()\n",
    "    dis_optim.zero_grad()\n",
    "    dis_output_t=dis.forward(dis_input).view(50)\n",
    "    acc_re=torch.round(dis_output_t)\n",
    "    length2+=dis_labels.size(0)\n",
    "    acc_real+=(torch.sum(acc_re).item())\n",
    "    dis_loss_t=loss(dis_output_t,t_labels)\n",
    "    dis_output_g=dis.forward(gen_output).view(50)\n",
    "    acc_fa=torch.round(dis_output_g)\n",
    "    acc_fake+=(torch.sum(acc_fa).item())\n",
    "    length1+=noise_labels.size(0)\n",
    "    dis_loss_g=loss(dis_output_g,torch.zeros(50).cuda())\n",
    "    dis_total_loss=(dis_loss_t+dis_loss_g)/2\n",
    "\n",
    "\n",
    "    dis_total_loss.backward()\n",
    "    dis_optim.step()\n",
    "    \n",
    "\n",
    "    gen.train()\n",
    "    gen_optim.zero_grad()\n",
    "    gen_output=gen.forward(noise_inp)\n",
    "    #print(gen_output.shape)\n",
    "    unflattened_gen=gen_output.unflatten(1,(28,28))\n",
    "    unflattened_gen=unflattened_gen[:,9:19,9:19]\n",
    "    flat_gen=unflattened_gen.flatten()\n",
    "    v=val.flatten()\n",
    "    #print(val.shape)\n",
    "    #print(flat_gen.shape)h\n",
    "    lambda_reg=10\n",
    "    centre_patch_loss=mse(flat_gen,v)\n",
    "\n",
    "    dis_output_g=dis.forward(gen_output).view(50)\n",
    "    gen_loss=loss(dis_output_g,t_labels) + lambda_reg*centre_patch_loss\n",
    "    gen_loss.backward()\n",
    "    gen_optim.step()\n",
    "\n",
    "  real_acc_list.append(acc_real/length2)\n",
    "  fake_acc_list.append(acc_fake/length1)  \n",
    "\n",
    "\n",
    "\n",
    "\n",
    "  print(\"epoch {} done and the discriminator loss and generator loss are {},  {} respectively \".format(i,dis_total_loss,gen_loss))"
   ]
  },
  {
   "cell_type": "code",
   "execution_count": null,
   "metadata": {
    "id": "0V68rRI_2WgT"
   },
   "outputs": [],
   "source": [
    "with torch.no_grad():\n",
    "  noise = torch.randn(100,100).cuda()\n",
    "  inp=torch.cat([noise,flat_inp],axis=1)\n",
    "  generated_data2 = gen(inp).cpu().view(100, 28, 28)"
   ]
  },
  {
   "cell_type": "code",
   "execution_count": null,
   "metadata": {
    "colab": {
     "base_uri": "https://localhost:8080/",
     "height": 265
    },
    "id": "TuUZTUKU672G",
    "outputId": "95a2e50d-3501-4050-d75a-93c595f38d85"
   },
   "outputs": [
    {
     "name": "stdout",
     "output_type": "stream",
     "text": [
      "With Regularization, lambda=10\n"
     ]
    },
    {
     "data": {
      "image/png": "[encoded data removed]",
      "text/plain": [
       "<Figure size 432x288 with 100 Axes>"
      ]
     },
     "metadata": {
      "needs_background": "light",
      "tags": []
     },
     "output_type": "display_data"
    }
   ],
   "source": [
    "print(\"With Regularization, lambda=10\")\n",
    "ind=0\n",
    "f,a=plt.subplots(10,10)\n",
    "for i in range(10):\n",
    " for j in range(10):\n",
    "    a[i][j].imshow(generated_data2 [ind,:,:],cmap='gray')\n",
    "    a[i][j].axis('off')\n",
    "    ind+=1"
   ]
  },
  {
   "cell_type": "code",
   "execution_count": null,
   "metadata": {
    "id": "vzi-jhStPeUI"
   },
   "outputs": [],
   "source": []
  }
 ],
 "metadata": {
  "accelerator": "GPU",
  "colab": {
   "collapsed_sections": [],
   "machine_shape": "hm",
   "name": "HW Part 4.ipynb",
   "provenance": []
  },
  "kernelspec": {
   "display_name": "Python 3",
   "language": "python",
   "name": "python3"
  },
  "language_info": {
   "codemirror_mode": {
    "name": "ipython",
    "version": 3
   },
   "file_extension": ".py",
   "mimetype": "text/x-python",
   "name": "python",
   "nbconvert_exporter": "python",
   "pygments_lexer": "ipython3",
   "version": "3.7.3"
  }
 },
 "nbformat": 4,
 "nbformat_minor": 1
}
