{
 "cells": [
  {
   "cell_type": "code",
   "execution_count": 1,
   "metadata": {
    "id": "Wv4MJRFwHY7i"
   },
   "outputs": [],
   "source": [
    "import torch\n",
    "import torch.nn as nn\n",
    "import torch.nn.functional as F\n",
    "import torchvision.transforms as transforms\n",
    "import torchvision.transforms.functional as tf\n",
    "import torchvision\n",
    "from torch.autograd import Variable\n",
    "import matplotlib.pyplot as plt\n",
    "import numpy as np\n",
    "from google.colab import drive\n",
    "import helper\n",
    "from torch.utils.data.sampler import SubsetRandomSampler\n",
    "from torch.utils.data import TensorDataset\n",
    "import glob\n",
    "import librosa\n",
    "import math"
   ]
  },
  {
   "cell_type": "code",
   "execution_count": 2,
   "metadata": {
    "id": "WyhtgLxHHlWQ"
   },
   "outputs": [],
   "source": [
    "import IPython.display as ipd"
   ]
  },
  {
   "cell_type": "code",
   "execution_count": 4,
   "metadata": {
    "id": "4MSdLqYCHojx"
   },
   "outputs": [],
   "source": [
    "if torch.cuda.is_available():\n",
    "  device = torch.device(\"cuda\")\n",
    "else:\n",
    "  device = torch.device(\"cpu\")"
   ]
  },
  {
   "cell_type": "code",
   "execution_count": 5,
   "metadata": {
    "colab": {
     "base_uri": "https://localhost:8080/",
     "height": 34
    },
    "id": "iLWo8Ji2Hq_g",
    "outputId": "ca9ccbba-591a-4c8c-aec2-d0b52eb305d4"
   },
   "outputs": [
    {
     "name": "stdout",
     "output_type": "stream",
     "text": [
      "True\n"
     ]
    }
   ],
   "source": [
    "print(torch.cuda.is_available())"
   ]
  },
  {
   "cell_type": "code",
   "execution_count": 6,
   "metadata": {
    "colab": {
     "base_uri": "https://localhost:8080/",
     "height": 50
    },
    "id": "eCFyAlWBHthQ",
    "outputId": "7accab71-328b-4019-f6cd-27ccfb62498d"
   },
   "outputs": [
    {
     "name": "stdout",
     "output_type": "stream",
     "text": [
      "Files already downloaded and verified\n",
      "Files already downloaded and verified\n"
     ]
    }
   ],
   "source": [
    "transform = transforms.Compose(\n",
    "    [\n",
    "     transforms.ToTensor(),\n",
    "     transforms.Normalize((0.5, 0.5, 0.5), (0.5, 0.5, 0.5))\n",
    "     ])\n",
    "xtrain = torchvision.datasets.CIFAR10(root='./data', train=True,\n",
    "                                        download=True, transform=transform)\n",
    "\n",
    "xtest = torchvision.datasets.CIFAR10(root='./data', train=False,\n",
    "                                       download=True, transform=transform)"
   ]
  },
  {
   "cell_type": "code",
   "execution_count": 7,
   "metadata": {
    "id": "BqPR1fToHtnV"
   },
   "outputs": [],
   "source": [
    "len_train = len(xtrain)\n",
    "index = list(range(len_train))\n",
    "size=500"
   ]
  },
  {
   "cell_type": "code",
   "execution_count": 8,
   "metadata": {
    "id": "k8Pesni0Ht4k"
   },
   "outputs": [],
   "source": [
    "xtr_fi,xtr_li=index[:len_train-size],index[len_train-size:]\n",
    "xtr_f=torch.utils.data.Subset(xtrain, xtr_fi)\n",
    "xtr_l=torch.utils.data.Subset(xtrain,xtr_li)"
   ]
  },
  {
   "cell_type": "code",
   "execution_count": 9,
   "metadata": {
    "id": "s32FbgdnHt1V"
   },
   "outputs": [],
   "source": [
    "xtr_o=[]\n",
    "for i,v in xtr_f:\n",
    "  xtr_o.append([i,0])"
   ]
  },
  {
   "cell_type": "code",
   "execution_count": 10,
   "metadata": {
    "colab": {
     "base_uri": "https://localhost:8080/",
     "height": 34
    },
    "id": "y71amBlQHtyu",
    "outputId": "cfaa0202-a7af-40cf-9360-eeacc6ad6aa0"
   },
   "outputs": [
    {
     "data": {
      "text/plain": [
       "49500"
      ]
     },
     "execution_count": 10,
     "metadata": {
      "tags": []
     },
     "output_type": "execute_result"
    }
   ],
   "source": [
    "len(xtr_o)"
   ]
  },
  {
   "cell_type": "code",
   "execution_count": 11,
   "metadata": {
    "colab": {
     "base_uri": "https://localhost:8080/",
     "height": 34
    },
    "id": "v_n_yuiAHtv9",
    "outputId": "e62d4d2e-1cdf-4bbc-88d4-d8cef88bcb81"
   },
   "outputs": [
    {
     "name": "stdout",
     "output_type": "stream",
     "text": [
      "Files already downloaded and verified\n"
     ]
    }
   ],
   "source": [
    "transformv = transforms.Compose(\n",
    "    [\n",
    "     transforms.Resize(32,32),\n",
    "     torchvision.transforms.RandomVerticalFlip(p=1),\n",
    "     transforms.ToTensor(),\n",
    "     transforms.Normalize((0.5, 0.5, 0.5), (0.5, 0.5, 0.5))\n",
    "     ])\n",
    "vflipped_train = torchvision.datasets.CIFAR10(root='./data', train=True,\n",
    "                                        download=True, transform=transformv)"
   ]
  },
  {
   "cell_type": "code",
   "execution_count": 12,
   "metadata": {
    "id": "Xy5OIHRbHtk4"
   },
   "outputs": [],
   "source": [
    "xtr_fi,xtr_li=index[:len_train-size],index[len_train-size:]\n",
    "xtr_v=torch.utils.data.Subset(vflipped_train, xtr_fi)"
   ]
  },
  {
   "cell_type": "code",
   "execution_count": 13,
   "metadata": {
    "id": "U3RsM81DH_96"
   },
   "outputs": [],
   "source": [
    "xtr_ver=[]\n",
    "for i,v in xtr_v:\n",
    "  xtr_ver.append([i,1])"
   ]
  },
  {
   "cell_type": "code",
   "execution_count": 14,
   "metadata": {
    "colab": {
     "base_uri": "https://localhost:8080/",
     "height": 34
    },
    "id": "lMlJMdSgIADn",
    "outputId": "c250114d-8934-44c9-c780-4bd136aa5356"
   },
   "outputs": [
    {
     "data": {
      "text/plain": [
       "49500"
      ]
     },
     "execution_count": 14,
     "metadata": {
      "tags": []
     },
     "output_type": "execute_result"
    }
   ],
   "source": [
    "len(xtr_ver)"
   ]
  },
  {
   "cell_type": "code",
   "execution_count": 15,
   "metadata": {
    "id": "6UmhtVC2IAKh"
   },
   "outputs": [],
   "source": [
    "class rotate90():\n",
    "    def __init__(self, angle):\n",
    "        self.angle = angle\n",
    "\n",
    "    def __call__(self, x):\n",
    "        a = self.angle\n",
    "        return tf.rotate(x, a)\n"
   ]
  },
  {
   "cell_type": "code",
   "execution_count": 16,
   "metadata": {
    "id": "i8drCt8HIAIA"
   },
   "outputs": [],
   "source": [
    "rotation_transform=rotate90(90)"
   ]
  },
  {
   "cell_type": "code",
   "execution_count": 17,
   "metadata": {
    "colab": {
     "base_uri": "https://localhost:8080/",
     "height": 34
    },
    "id": "hpyemf2aIKIi",
    "outputId": "b75a5078-4003-4ffc-da97-ac700ba2195c"
   },
   "outputs": [
    {
     "name": "stdout",
     "output_type": "stream",
     "text": [
      "Files already downloaded and verified\n"
     ]
    }
   ],
   "source": [
    "transform90 = transforms.Compose(\n",
    "    [\n",
    "     transforms.Resize(32,32),\n",
    "     rotation_transform,\n",
    "     transforms.ToTensor(),\n",
    "     transforms.Normalize((0.5, 0.5, 0.5), (0.5, 0.5, 0.5))\n",
    "     ])\n",
    "rotated_train = torchvision.datasets.CIFAR10(root='./data', train=True,\n",
    "                                        download=True, transform=transform90)"
   ]
  },
  {
   "cell_type": "code",
   "execution_count": 18,
   "metadata": {
    "id": "CLLDusHxIKOX"
   },
   "outputs": [],
   "source": [
    "xtr_fi,xtr_li=index[:len_train-size],index[len_train-size:]\n",
    "xtr_rt=torch.utils.data.Subset(rotated_train, xtr_fi)"
   ]
  },
  {
   "cell_type": "code",
   "execution_count": 19,
   "metadata": {
    "id": "IwKsYNyBIKS9"
   },
   "outputs": [],
   "source": [
    "xtr_rot=[]\n",
    "for i,v in xtr_rt:\n",
    "  xtr_rot.append([i,2])"
   ]
  },
  {
   "cell_type": "code",
   "execution_count": 73,
   "metadata": {
    "id": "OBfarRko1UCZ"
   },
   "outputs": [],
   "source": [
    "o = torch.utils.data.DataLoader(xtr_o, batch_size=2, num_workers=2)\n",
    "v = torch.utils.data.DataLoader(xtr_ver, batch_size=2, num_workers=2)\n",
    "r = torch.utils.data.DataLoader(xtr_rot, batch_size=2, num_workers=2)\n",
    "\n",
    "def print_img(i):\n",
    "    i = i / 2 + 0.5     \n",
    "    npi = i.numpy()\n",
    "    plt.imshow(np.transpose(npi, (1, 2, 0)))\n",
    "    plt.show()\n"
   ]
  },
  {
   "cell_type": "code",
   "execution_count": 74,
   "metadata": {
    "colab": {
     "base_uri": "https://localhost:8080/",
     "height": 239
    },
    "id": "S6UJLRQQ1nwl",
    "outputId": "d4158bb3-d3e5-44a1-d186-2809803f51a7"
   },
   "outputs": [
    {
     "name": "stdout",
     "output_type": "stream",
     "text": [
      "the original images\n"
     ]
    },
    {
     "data": {
      "image/png": "[encoded data removed]",
      "text/plain": [
       "<Figure size 432x288 with 1 Axes>"
      ]
     },
     "metadata": {
      "needs_background": "light",
      "tags": []
     },
     "output_type": "display_data"
    }
   ],
   "source": [
    "\n",
    "dataiter = iter(o)\n",
    "img, labe = dataiter.next()\n",
    "print(\"the original images\")\n",
    "print_img(torchvision.utils.make_grid(img))"
   ]
  },
  {
   "cell_type": "code",
   "execution_count": 75,
   "metadata": {
    "colab": {
     "base_uri": "https://localhost:8080/",
     "height": 239
    },
    "id": "m7ncLsWS1w-U",
    "outputId": "60e56c83-6e7d-4047-cd58-c9e02ab2d644"
   },
   "outputs": [
    {
     "name": "stdout",
     "output_type": "stream",
     "text": [
      "Vertically flipped images\n"
     ]
    },
    {
     "data": {
      "image/png": "[encoded data removed]",
      "text/plain": [
       "<Figure size 432x288 with 1 Axes>"
      ]
     },
     "metadata": {
      "needs_background": "light",
      "tags": []
     },
     "output_type": "display_data"
    }
   ],
   "source": [
    "\n",
    "dataiter = iter(v)\n",
    "img, labe = dataiter.next()\n",
    "print(\"Vertically flipped images\")\n",
    "print_img(torchvision.utils.make_grid(img))"
   ]
  },
  {
   "cell_type": "code",
   "execution_count": 76,
   "metadata": {
    "colab": {
     "base_uri": "https://localhost:8080/",
     "height": 239
    },
    "id": "MA7GKOm31yAN",
    "outputId": "5fac622a-8d83-4ad3-f9c5-7ccdb5da0083"
   },
   "outputs": [
    {
     "name": "stdout",
     "output_type": "stream",
     "text": [
      "90 rotated images\n"
     ]
    },
    {
     "data": {
      "image/png": "[encoded data removed]",
      "text/plain": [
       "<Figure size 432x288 with 1 Axes>"
      ]
     },
     "metadata": {
      "needs_background": "light",
      "tags": []
     },
     "output_type": "display_data"
    }
   ],
   "source": [
    "\n",
    "dataiter = iter(r)\n",
    "img, labe = dataiter.next()\n",
    "print(\"90 rotated images\")\n",
    "print_img(torchvision.utils.make_grid(img))"
   ]
  },
  {
   "cell_type": "code",
   "execution_count": 20,
   "metadata": {
    "id": "Pt-Q50QfISQj"
   },
   "outputs": [],
   "source": [
    "combined_train=torch.utils.data.ConcatDataset((xtr_o,xtr_ver,xtr_rot))"
   ]
  },
  {
   "cell_type": "code",
   "execution_count": 21,
   "metadata": {
    "colab": {
     "base_uri": "https://localhost:8080/",
     "height": 34
    },
    "id": "XL5QR0cMIdUp",
    "outputId": "4c13b407-e9e2-481a-95fc-d8a1a4eb6293"
   },
   "outputs": [
    {
     "data": {
      "text/plain": [
       "148500"
      ]
     },
     "execution_count": 21,
     "metadata": {
      "tags": []
     },
     "output_type": "execute_result"
    }
   ],
   "source": [
    "len(combined_train)"
   ]
  },
  {
   "cell_type": "code",
   "execution_count": 22,
   "metadata": {
    "id": "sWrwUpWs8pc6"
   },
   "outputs": [],
   "source": [
    "batch_num=500"
   ]
  },
  {
   "cell_type": "code",
   "execution_count": 23,
   "metadata": {
    "id": "S8PnscmNIdcg"
   },
   "outputs": [],
   "source": [
    "class CNN_prob4p(nn.Module):\n",
    "  def __init__(self):\n",
    "    super(CNN_prob4p,self).__init__()\n",
    "    self.first_conv=nn.Conv2d(3,10,5)\n",
    "    nn.init.kaiming_normal_(self.first_conv.weight)\n",
    "    self.relu=nn.ReLU()\n",
    "    self.pooling=nn.MaxPool2d(2,stride=2)\n",
    "    self.second_conv=nn.Conv2d(10,10,5)\n",
    "    nn.init.kaiming_normal_(self.second_conv.weight)\n",
    "    self.fc1=nn.Linear(10*5*5,20)\n",
    "    nn.init.kaiming_normal_(self.fc1.weight)\n",
    "    self.fc2=nn.Linear(20,3)\n",
    "    nn.init.kaiming_normal_(self.fc2.weight)\n",
    "  \n",
    "  def Forward_prop(self,x):\n",
    "    x1=self.pooling(self.relu(self.first_conv(x)))\n",
    "    x2=self.pooling(self.relu(self.second_conv(x1)))\n",
    "    x2=x2.view(-1,10*5*5)\n",
    "    x3=self.relu(self.fc1(x2))\n",
    "    out=self.fc2(x3)\n",
    "    return out"
   ]
  },
  {
   "cell_type": "code",
   "execution_count": 24,
   "metadata": {
    "id": "QbqQwrAeIdhS"
   },
   "outputs": [],
   "source": [
    "cnn_4p=CNN_prob4p().cuda()"
   ]
  },
  {
   "cell_type": "code",
   "execution_count": 26,
   "metadata": {
    "id": "FUXC1HW4IdY3"
   },
   "outputs": [],
   "source": [
    "loss=nn.CrossEntropyLoss()\n",
    "param=cnn_4p.parameters()\n",
    "optimize=torch.optim.Adam(param,lr=0.001)"
   ]
  },
  {
   "cell_type": "code",
   "execution_count": 31,
   "metadata": {
    "colab": {
     "base_uri": "https://localhost:8080/",
     "height": 34
    },
    "id": "xxnL9lItL0HK",
    "outputId": "888bb1fc-ebf9-4ece-ba81-3708e5ee786e"
   },
   "outputs": [
    {
     "data": {
      "text/plain": [
       "torch.Size([3, 32, 32])"
      ]
     },
     "execution_count": 31,
     "metadata": {
      "tags": []
     },
     "output_type": "execute_result"
    }
   ],
   "source": [
    "combined_train[0][0].shape"
   ]
  },
  {
   "cell_type": "code",
   "execution_count": 27,
   "metadata": {
    "id": "295XNgz3IKMP"
   },
   "outputs": [],
   "source": [
    "train_aug=torch.utils.data.DataLoader(combined_train, batch_size=1024,shuffle=True)\n",
    "#xte=torch.utils.data.DataLoader(xtest, batch_size=256)"
   ]
  },
  {
   "cell_type": "code",
   "execution_count": 28,
   "metadata": {
    "id": "ht2B5AjlIABU"
   },
   "outputs": [],
   "source": [
    "# Training the Feedforward Neural Network\n",
    "def train_model():\n",
    "    for num,dat in enumerate(train_aug):\n",
    "\n",
    "      im,la=dat\n",
    "      #la=to_torch(la)\n",
    "      im=im.cuda()\n",
    "      la=la.cuda()\n",
    "      ff_out=cnn_4p.Forward_prop(im)\n",
    "      losses=loss(ff_out,la.cuda())\n",
    "      optimize.zero_grad()\n",
    "      losses.backward()\n",
    "      optimize.step()\n",
    "   \n",
    "    #print(\"epoch {} is done\".format(ep))"
   ]
  },
  {
   "cell_type": "code",
   "execution_count": 30,
   "metadata": {
    "id": "9AdI9q76JqZ6"
   },
   "outputs": [],
   "source": [
    "def accuracy_calculation(no_of_epochs):\n",
    "  accuracy=[]\n",
    "  for i in range(no_of_epochs):\n",
    "    train_model()\n",
    "    print(\"epoch {} done\".format(i))"
   ]
  },
  {
   "cell_type": "code",
   "execution_count": 38,
   "metadata": {
    "colab": {
     "base_uri": "https://localhost:8080/",
     "height": 1000
    },
    "id": "cxf55N-1Jtq6",
    "outputId": "357897a3-a59d-43b7-d9d4-5e1cad05f8d7"
   },
   "outputs": [
    {
     "name": "stdout",
     "output_type": "stream",
     "text": [
      "epoch 0 done\n",
      "epoch 1 done\n",
      "epoch 2 done\n",
      "epoch 3 done\n",
      "epoch 4 done\n",
      "epoch 5 done\n",
      "epoch 6 done\n",
      "epoch 7 done\n",
      "epoch 8 done\n",
      "epoch 9 done\n",
      "epoch 10 done\n",
      "epoch 11 done\n",
      "epoch 12 done\n",
      "epoch 13 done\n",
      "epoch 14 done\n",
      "epoch 15 done\n",
      "epoch 16 done\n",
      "epoch 17 done\n",
      "epoch 18 done\n",
      "epoch 19 done\n",
      "epoch 20 done\n",
      "epoch 21 done\n",
      "epoch 22 done\n",
      "epoch 23 done\n",
      "epoch 24 done\n",
      "epoch 25 done\n",
      "epoch 26 done\n",
      "epoch 27 done\n",
      "epoch 28 done\n",
      "epoch 29 done\n",
      "epoch 30 done\n",
      "epoch 31 done\n",
      "epoch 32 done\n",
      "epoch 33 done\n",
      "epoch 34 done\n",
      "epoch 35 done\n",
      "epoch 36 done\n",
      "epoch 37 done\n",
      "epoch 38 done\n",
      "epoch 39 done\n",
      "epoch 40 done\n",
      "epoch 41 done\n",
      "epoch 42 done\n",
      "epoch 43 done\n",
      "epoch 44 done\n",
      "epoch 45 done\n",
      "epoch 46 done\n",
      "epoch 47 done\n",
      "epoch 48 done\n",
      "epoch 49 done\n",
      "epoch 50 done\n",
      "epoch 51 done\n",
      "epoch 52 done\n",
      "epoch 53 done\n",
      "epoch 54 done\n",
      "epoch 55 done\n",
      "epoch 56 done\n",
      "epoch 57 done\n",
      "epoch 58 done\n",
      "epoch 59 done\n",
      "epoch 60 done\n",
      "epoch 61 done\n",
      "epoch 62 done\n",
      "epoch 63 done\n",
      "epoch 64 done\n",
      "epoch 65 done\n",
      "epoch 66 done\n",
      "epoch 67 done\n",
      "epoch 68 done\n",
      "epoch 69 done\n",
      "epoch 70 done\n",
      "epoch 71 done\n",
      "epoch 72 done\n",
      "epoch 73 done\n",
      "epoch 74 done\n",
      "epoch 75 done\n",
      "epoch 76 done\n",
      "epoch 77 done\n",
      "epoch 78 done\n",
      "epoch 79 done\n",
      "epoch 80 done\n",
      "epoch 81 done\n",
      "epoch 82 done\n",
      "epoch 83 done\n",
      "epoch 84 done\n",
      "epoch 85 done\n",
      "epoch 86 done\n",
      "epoch 87 done\n",
      "epoch 88 done\n",
      "epoch 89 done\n",
      "epoch 90 done\n",
      "epoch 91 done\n",
      "epoch 92 done\n",
      "epoch 93 done\n",
      "epoch 94 done\n",
      "epoch 95 done\n",
      "epoch 96 done\n",
      "epoch 97 done\n",
      "epoch 98 done\n",
      "epoch 99 done\n"
     ]
    }
   ],
   "source": [
    "acc_pre=accuracy_calculation(100)"
   ]
  },
  {
   "cell_type": "code",
   "execution_count": 27,
   "metadata": {
    "colab": {
     "base_uri": "https://localhost:8080/",
     "height": 34
    },
    "id": "8iaq-NY9JwRp",
    "outputId": "11ad79a8-6160-4859-925b-8b9b577100f6"
   },
   "outputs": [
    {
     "name": "stdout",
     "output_type": "stream",
     "text": [
      "Mounted at /content/gdrive\n"
     ]
    }
   ],
   "source": [
    "drive.mount('/content/gdrive')"
   ]
  },
  {
   "cell_type": "code",
   "execution_count": 40,
   "metadata": {
    "id": "4XCL0pE6YucV"
   },
   "outputs": [],
   "source": [
    "model_save_name = 'pretext.pt'\n",
    "path = F\"/content/gdrive/My Drive/{model_save_name}\" \n",
    "torch.save(cnn_4p.state_dict(), path)"
   ]
  },
  {
   "cell_type": "code",
   "execution_count": 31,
   "metadata": {
    "colab": {
     "base_uri": "https://localhost:8080/",
     "height": 34
    },
    "id": "R7wmwzF6Yw5r",
    "outputId": "f6aee496-a137-4544-b485-db0be0858e7c"
   },
   "outputs": [
    {
     "data": {
      "text/plain": [
       "<All keys matched successfully>"
      ]
     },
     "execution_count": 31,
     "metadata": {
      "tags": []
     },
     "output_type": "execute_result"
    }
   ],
   "source": [
    "model_save_name = 'pretext.pt'\n",
    "path = F\"/content/gdrive/My Drive/{model_save_name}\"\n",
    "cnn_4p.load_state_dict(torch.load(path))"
   ]
  },
  {
   "cell_type": "code",
   "execution_count": 32,
   "metadata": {
    "id": "X0hZqG3VZZrG"
   },
   "outputs": [],
   "source": [
    "class CNN_prob4bas(nn.Module):\n",
    "  def __init__(self):\n",
    "    super(CNN_prob4bas,self).__init__()\n",
    "    self.first_conv=nn.Conv2d(3,10,5)\n",
    "    nn.init.kaiming_normal_(self.first_conv.weight)\n",
    "    self.relu=nn.ReLU()\n",
    "    self.pooling=nn.MaxPool2d(2,stride=2)\n",
    "    self.second_conv=nn.Conv2d(10,10,5)\n",
    "    nn.init.kaiming_normal_(self.second_conv.weight)\n",
    "    self.fc1=nn.Linear(10*5*5,20)\n",
    "    nn.init.kaiming_normal_(self.fc1.weight)\n",
    "    self.fc2=nn.Linear(20,10)\n",
    "    nn.init.kaiming_normal_(self.fc2.weight)\n",
    "  \n",
    "  def Forward_prop(self,x):\n",
    "    x1=self.pooling(self.relu(self.first_conv(x)))\n",
    "    x2=self.pooling(self.relu(self.second_conv(x1)))\n",
    "    x2=x2.view(-1,10*5*5)\n",
    "    x3=self.relu(self.fc1(x2))\n",
    "    out=self.fc2(x3)\n",
    "    return out"
   ]
  },
  {
   "cell_type": "code",
   "execution_count": 33,
   "metadata": {
    "id": "qndBEeURZcz-"
   },
   "outputs": [],
   "source": [
    "cnn_4bas=CNN_prob4bas().cuda()"
   ]
  },
  {
   "cell_type": "code",
   "execution_count": 35,
   "metadata": {
    "id": "0klqBd4XZdIB"
   },
   "outputs": [],
   "source": [
    "loss=nn.CrossEntropyLoss()\n",
    "param=cnn_4bas.parameters()\n",
    "optimize=torch.optim.Adam(param,lr=0.001)"
   ]
  },
  {
   "cell_type": "code",
   "execution_count": 36,
   "metadata": {
    "id": "dDiT_0s-ZjJW"
   },
   "outputs": [],
   "source": [
    "train_bas=torch.utils.data.DataLoader(xtr_l, batch_size=500)\n",
    "test_bas=torch.utils.data.DataLoader(xtest, batch_size=500)"
   ]
  },
  {
   "cell_type": "code",
   "execution_count": 37,
   "metadata": {
    "id": "nHaxManDZjGk"
   },
   "outputs": [],
   "source": [
    "# Training the Feedforward Neural Network\n",
    "def train_model():\n",
    "    for num,dat in enumerate(train_bas):\n",
    "\n",
    "      im,la=dat\n",
    "      #la=to_torch(la)\n",
    "      im=im.cuda()\n",
    "      la=la.cuda()\n",
    "      ff_out=cnn_4bas.Forward_prop(im)\n",
    "      losses=loss(ff_out,la)\n",
    "      optimize.zero_grad()\n",
    "      losses.backward()\n",
    "      optimize.step()\n",
    "   \n",
    "    #print(\"epoch {} is done\".format(ep))"
   ]
  },
  {
   "cell_type": "code",
   "execution_count": 38,
   "metadata": {
    "id": "0EovK-g8Z4f2"
   },
   "outputs": [],
   "source": [
    "# Testing the Feedforward Neural Network\n",
    "\n",
    "def validation():\n",
    "  correct_count=0\n",
    "  with torch.no_grad():\n",
    "    for dat in test_bas:\n",
    "      im,la=dat\n",
    "      test_out=cnn_4bas.Forward_prop(im.cuda())\n",
    "      _,pred=torch.max(test_out.data,1)\n",
    "      correct_count+=(pred.cpu()==la).sum().item()\n",
    "  return correct_count/10000"
   ]
  },
  {
   "cell_type": "code",
   "execution_count": 39,
   "metadata": {
    "id": "sUW7VHHPZ-Xr"
   },
   "outputs": [],
   "source": [
    "def accuracy_calculation(no_of_epochs):\n",
    "  accuracy=[]\n",
    "  for i in range(no_of_epochs):\n",
    "    train_model()\n",
    "    va=validation()\n",
    "    accuracy.append(va)\n",
    "    if(i%100==0):\n",
    "      print(\"epoch {} is done and accuracy is {}\".format(i,va))\n",
    "  return accuracy"
   ]
  },
  {
   "cell_type": "code",
   "execution_count": 40,
   "metadata": {
    "colab": {
     "base_uri": "https://localhost:8080/",
     "height": 1000
    },
    "id": "M0LH3XgdmWZG",
    "outputId": "c04afee5-7ca6-4311-bcdd-e721426e8a38"
   },
   "outputs": [
    {
     "name": "stdout",
     "output_type": "stream",
     "text": [
      "epoch 0 is done and accuracy is 0.0879\n",
      "epoch 100 is done and accuracy is 0.2665\n",
      "epoch 200 is done and accuracy is 0.296\n",
      "epoch 300 is done and accuracy is 0.2995\n",
      "epoch 400 is done and accuracy is 0.2996\n",
      "epoch 500 is done and accuracy is 0.2995\n",
      "epoch 600 is done and accuracy is 0.2986\n",
      "epoch 700 is done and accuracy is 0.2984\n",
      "epoch 800 is done and accuracy is 0.2992\n",
      "epoch 900 is done and accuracy is 0.2992\n",
      "epoch 1000 is done and accuracy is 0.2995\n",
      "epoch 1100 is done and accuracy is 0.299\n",
      "epoch 1200 is done and accuracy is 0.2995\n",
      "epoch 1300 is done and accuracy is 0.299\n",
      "epoch 1400 is done and accuracy is 0.299\n",
      "epoch 1500 is done and accuracy is 0.2987\n",
      "epoch 1600 is done and accuracy is 0.299\n",
      "epoch 1700 is done and accuracy is 0.2995\n",
      "epoch 1800 is done and accuracy is 0.2999\n",
      "epoch 1900 is done and accuracy is 0.3\n",
      "epoch 2000 is done and accuracy is 0.3004\n",
      "epoch 2100 is done and accuracy is 0.3004\n",
      "epoch 2200 is done and accuracy is 0.2999\n",
      "epoch 2300 is done and accuracy is 0.3002\n",
      "epoch 2400 is done and accuracy is 0.3006\n",
      "epoch 2500 is done and accuracy is 0.3004\n",
      "epoch 2600 is done and accuracy is 0.3\n",
      "epoch 2700 is done and accuracy is 0.3003\n",
      "epoch 2800 is done and accuracy is 0.3005\n",
      "epoch 2900 is done and accuracy is 0.3006\n",
      "epoch 3000 is done and accuracy is 0.3005\n",
      "epoch 3100 is done and accuracy is 0.3005\n",
      "epoch 3200 is done and accuracy is 0.3009\n",
      "epoch 3300 is done and accuracy is 0.3008\n",
      "epoch 3400 is done and accuracy is 0.301\n",
      "epoch 3500 is done and accuracy is 0.3013\n",
      "epoch 3600 is done and accuracy is 0.3012\n",
      "epoch 3700 is done and accuracy is 0.301\n",
      "epoch 3800 is done and accuracy is 0.3011\n",
      "epoch 3900 is done and accuracy is 0.3012\n",
      "epoch 4000 is done and accuracy is 0.3013\n",
      "epoch 4100 is done and accuracy is 0.3011\n",
      "epoch 4200 is done and accuracy is 0.3011\n",
      "epoch 4300 is done and accuracy is 0.3009\n",
      "epoch 4400 is done and accuracy is 0.3008\n",
      "epoch 4500 is done and accuracy is 0.3008\n",
      "epoch 4600 is done and accuracy is 0.3007\n",
      "epoch 4700 is done and accuracy is 0.301\n",
      "epoch 4800 is done and accuracy is 0.3012\n",
      "epoch 4900 is done and accuracy is 0.3012\n",
      "epoch 5000 is done and accuracy is 0.3011\n",
      "epoch 5100 is done and accuracy is 0.3009\n",
      "epoch 5200 is done and accuracy is 0.3009\n",
      "epoch 5300 is done and accuracy is 0.3009\n",
      "epoch 5400 is done and accuracy is 0.3008\n",
      "epoch 5500 is done and accuracy is 0.3007\n",
      "epoch 5600 is done and accuracy is 0.3004\n",
      "epoch 5700 is done and accuracy is 0.3001\n",
      "epoch 5800 is done and accuracy is 0.3\n",
      "epoch 5900 is done and accuracy is 0.3\n",
      "epoch 6000 is done and accuracy is 0.3001\n",
      "epoch 6100 is done and accuracy is 0.3001\n",
      "epoch 6200 is done and accuracy is 0.2997\n",
      "epoch 6300 is done and accuracy is 0.2999\n",
      "epoch 6400 is done and accuracy is 0.2997\n",
      "epoch 6500 is done and accuracy is 0.2993\n",
      "epoch 6600 is done and accuracy is 0.2994\n",
      "epoch 6700 is done and accuracy is 0.2991\n",
      "epoch 6800 is done and accuracy is 0.299\n",
      "epoch 6900 is done and accuracy is 0.2991\n",
      "epoch 7000 is done and accuracy is 0.2988\n",
      "epoch 7100 is done and accuracy is 0.2989\n",
      "epoch 7200 is done and accuracy is 0.2992\n",
      "epoch 7300 is done and accuracy is 0.2993\n",
      "epoch 7400 is done and accuracy is 0.2993\n",
      "epoch 7500 is done and accuracy is 0.2991\n",
      "epoch 7600 is done and accuracy is 0.2992\n",
      "epoch 7700 is done and accuracy is 0.2991\n",
      "epoch 7800 is done and accuracy is 0.2989\n",
      "epoch 7900 is done and accuracy is 0.2988\n",
      "epoch 8000 is done and accuracy is 0.2986\n",
      "epoch 8100 is done and accuracy is 0.2988\n",
      "epoch 8200 is done and accuracy is 0.2988\n",
      "epoch 8300 is done and accuracy is 0.2988\n",
      "epoch 8400 is done and accuracy is 0.299\n",
      "epoch 8500 is done and accuracy is 0.2993\n",
      "epoch 8600 is done and accuracy is 0.299\n",
      "epoch 8700 is done and accuracy is 0.2992\n",
      "epoch 8800 is done and accuracy is 0.2992\n",
      "epoch 8900 is done and accuracy is 0.2994\n",
      "epoch 9000 is done and accuracy is 0.2994\n",
      "epoch 9100 is done and accuracy is 0.2994\n",
      "epoch 9200 is done and accuracy is 0.2994\n",
      "epoch 9300 is done and accuracy is 0.2993\n",
      "epoch 9400 is done and accuracy is 0.2993\n",
      "epoch 9500 is done and accuracy is 0.2994\n",
      "epoch 9600 is done and accuracy is 0.2994\n",
      "epoch 9700 is done and accuracy is 0.2991\n",
      "epoch 9800 is done and accuracy is 0.2989\n",
      "epoch 9900 is done and accuracy is 0.2991\n"
     ]
    }
   ],
   "source": [
    "acc_base=accuracy_calculation(10000)"
   ]
  },
  {
   "cell_type": "code",
   "execution_count": 41,
   "metadata": {
    "colab": {
     "base_uri": "https://localhost:8080/",
     "height": 312
    },
    "id": "fjiX7d83bElj",
    "outputId": "265b54cc-f05e-4f63-9ef2-7de83e1a7e94"
   },
   "outputs": [
    {
     "data": {
      "text/plain": [
       "Text(0, 0.5, 'Validation Accuracy')"
      ]
     },
     "execution_count": 41,
     "metadata": {
      "tags": []
     },
     "output_type": "execute_result"
    },
    {
     "data": {
      "image/png": "[encoded data removed]",
      "text/plain": [
       "<Figure size 432x288 with 1 Axes>"
      ]
     },
     "metadata": {
      "needs_background": "light",
      "tags": []
     },
     "output_type": "display_data"
    }
   ],
   "source": [
    "plt.plot(list(range(10000)),acc_base,'g')\n",
    "plt.title('Baseline Model')\n",
    "plt.xlabel('Epochs')\n",
    "plt.ylabel('Validation Accuracy')"
   ]
  },
  {
   "cell_type": "code",
   "execution_count": 42,
   "metadata": {
    "id": "bVYgzxBLCWPu"
   },
   "outputs": [],
   "source": [
    "import pickle"
   ]
  },
  {
   "cell_type": "code",
   "execution_count": 43,
   "metadata": {
    "id": "-8dQ3mcSCejv"
   },
   "outputs": [],
   "source": [
    "with open('acc_base.pkl', 'wb') as f:\n",
    "  pickle.dump(acc_base, f)"
   ]
  },
  {
   "cell_type": "code",
   "execution_count": 44,
   "metadata": {
    "id": "tbGCldGlC13E"
   },
   "outputs": [],
   "source": [
    "with open('acc_base.pkl', 'rb') as f:\n",
    "  acc_base = pickle.load(f)"
   ]
  },
  {
   "cell_type": "code",
   "execution_count": null,
   "metadata": {
    "id": "2joxgSonLS_L"
   },
   "outputs": [],
   "source": [
    "drive.mount('/content/gdrive')"
   ]
  },
  {
   "cell_type": "code",
   "execution_count": null,
   "metadata": {
    "id": "NdzkWqVbL5S5"
   },
   "outputs": [],
   "source": [
    "model_save_name = 'baseline4.pt'\n",
    "path = F\"/content/gdrive/My Drive/{model_save_name}\" \n",
    "torch.save(cnn_4bas.state_dict(), path)"
   ]
  },
  {
   "cell_type": "code",
   "execution_count": null,
   "metadata": {
    "id": "Jzo5aYg0L9Fb"
   },
   "outputs": [],
   "source": [
    "model_save_name = 'baseline4.pt'\n",
    "path = F\"/content/gdrive/My Drive/{model_save_name}\"\n",
    "cnn_4bas.load_state_dict(torch.load(path))"
   ]
  },
  {
   "cell_type": "code",
   "execution_count": null,
   "metadata": {
    "id": "6jRxIorjNgB4"
   },
   "outputs": [],
   "source": [
    "cnn_4bas.fc1.weight"
   ]
  },
  {
   "cell_type": "code",
   "execution_count": 58,
   "metadata": {
    "id": "0Z_BaICNMPHK"
   },
   "outputs": [],
   "source": [
    "class CNN_prob4sup(nn.Module):\n",
    "  def __init__(self):\n",
    "    super(CNN_prob4sup,self).__init__()\n",
    "    self.first_conv=nn.Conv2d(3,10,5)\n",
    "    #self.first_conv.weight.data.copy_(cnn_4p.first_conv.weight.data)\n",
    "    self.relu=nn.ReLU()\n",
    "    self.pooling=nn.MaxPool2d(2,stride=2)\n",
    "    self.second_conv=nn.Conv2d(10,10,5)\n",
    "    #self.second_conv.weight.data.copy_(cnn_4p.second_conv.weight.data)\n",
    "    self.fc1=nn.Linear(10*5*5,20)\n",
    "    self.fc1.weight.data.copy_(cnn_4p.fc1.weight.data)\n",
    "    self.fc2=nn.Linear(20,10)\n",
    "    #nn.init.kaiming_normal_(self.fc2.weight)\n",
    "  \n",
    "  def Forward_prop(self,x):\n",
    "    x1=self.pooling(self.relu(self.first_conv(x)))\n",
    "    x2=self.pooling(self.relu(self.second_conv(x1)))\n",
    "    x2=x2.view(-1,10*5*5)\n",
    "    x3=self.relu(self.fc1(x2))\n",
    "    out=self.fc2(x3)\n",
    "    return out"
   ]
  },
  {
   "cell_type": "code",
   "execution_count": 59,
   "metadata": {
    "id": "g7X9AbZ2EJKC"
   },
   "outputs": [],
   "source": [
    "mo=cnn_4p.state_dict()\n",
    "mo['fc2.weight']=torch.nn.init.kaiming_normal_(torch.empty(10,20))\n",
    "mo['fc2.bias']=torch.nn.init.zeros_(torch.empty(10))\n"
   ]
  },
  {
   "cell_type": "code",
   "execution_count": 60,
   "metadata": {
    "id": "KKaVysS2N95N"
   },
   "outputs": [],
   "source": [
    "cnn_4sup=CNN_prob4sup().cuda()"
   ]
  },
  {
   "cell_type": "code",
   "execution_count": 61,
   "metadata": {
    "colab": {
     "base_uri": "https://localhost:8080/",
     "height": 34
    },
    "id": "76eGPr1vDgy8",
    "outputId": "282ddcae-0d60-4bc8-f772-ef5ed90e3a1e"
   },
   "outputs": [
    {
     "data": {
      "text/plain": [
       "<All keys matched successfully>"
      ]
     },
     "execution_count": 61,
     "metadata": {
      "tags": []
     },
     "output_type": "execute_result"
    }
   ],
   "source": [
    "cnn_4sup.load_state_dict(mo)"
   ]
  },
  {
   "cell_type": "code",
   "execution_count": 62,
   "metadata": {
    "id": "GRKPOERGOD62"
   },
   "outputs": [],
   "source": [
    "loss=nn.CrossEntropyLoss()\n",
    "\n",
    "param=cnn_4sup.parameters()\n",
    "optimize=torch.optim.Adam([{'params': [param for name, param in cnn_4sup.named_parameters() if 'fc2' not in name]}, {'params': cnn_4sup.fc2.parameters(), 'lr': 0.001}], lr=0.00001)"
   ]
  },
  {
   "cell_type": "code",
   "execution_count": 63,
   "metadata": {
    "id": "xI1a-xKhP0nh"
   },
   "outputs": [],
   "source": [
    "# Training the Feedforward Neural Network\n",
    "def train_model():\n",
    "    for num,dat in enumerate(train_bas):\n",
    "\n",
    "      im,la=dat\n",
    "      #la=to_torch(la)\n",
    "      im=im.cuda()\n",
    "      la=la.cuda()\n",
    "      ff_out=cnn_4sup.Forward_prop(im)\n",
    "      losses=loss(ff_out,la)\n",
    "      optimize.zero_grad()\n",
    "      losses.backward()\n",
    "      optimize.step()\n",
    "   \n",
    "    #print(\"epoch {} is done\".format(ep))"
   ]
  },
  {
   "cell_type": "code",
   "execution_count": 64,
   "metadata": {
    "id": "twwQFZdeP1Z-"
   },
   "outputs": [],
   "source": [
    "# Testing the Feedforward Neural Network\n",
    "\n",
    "def validation():\n",
    "  length=0\n",
    "  correct_count=0\n",
    "  with torch.no_grad():\n",
    "    for dat in test_bas:\n",
    "      im,la=dat\n",
    "      test_out=cnn_4sup.Forward_prop(im.cuda())\n",
    "      _,pred=torch.max(test_out.data,1)\n",
    "      length+=la.size(0)\n",
    "      correct_count+=(pred.cpu()==la).sum().item()\n",
    "  return correct_count/10000"
   ]
  },
  {
   "cell_type": "code",
   "execution_count": 65,
   "metadata": {
    "id": "ln8VXYxkP5Ky"
   },
   "outputs": [],
   "source": [
    "def accuracy_calculation(no_of_epochs):\n",
    "  accuracy=[]\n",
    "  for i in range(no_of_epochs):\n",
    "    train_model()\n",
    "    va=validation()\n",
    "    accuracy.append(va)\n",
    "    if(i%100==0):\n",
    "      print(\"epoch {} is done and accuracy is {}\".format(i,va))\n",
    "  return accuracy"
   ]
  },
  {
   "cell_type": "code",
   "execution_count": 66,
   "metadata": {
    "colab": {
     "base_uri": "https://localhost:8080/",
     "height": 1000
    },
    "id": "sesHfKP9OcUI",
    "outputId": "a48f8ae0-2646-4ee6-e216-f3434cc6dc71"
   },
   "outputs": [
    {
     "name": "stdout",
     "output_type": "stream",
     "text": [
      "epoch 0 is done and accuracy is 0.0911\n",
      "epoch 100 is done and accuracy is 0.1453\n",
      "epoch 200 is done and accuracy is 0.1979\n",
      "epoch 300 is done and accuracy is 0.2518\n",
      "epoch 400 is done and accuracy is 0.288\n",
      "epoch 500 is done and accuracy is 0.3072\n",
      "epoch 600 is done and accuracy is 0.3205\n",
      "epoch 700 is done and accuracy is 0.3302\n",
      "epoch 800 is done and accuracy is 0.3367\n",
      "epoch 900 is done and accuracy is 0.3439\n",
      "epoch 1000 is done and accuracy is 0.3485\n",
      "epoch 1100 is done and accuracy is 0.3541\n",
      "epoch 1200 is done and accuracy is 0.357\n",
      "epoch 1300 is done and accuracy is 0.3578\n",
      "epoch 1400 is done and accuracy is 0.3591\n",
      "epoch 1500 is done and accuracy is 0.3592\n",
      "epoch 1600 is done and accuracy is 0.3609\n",
      "epoch 1700 is done and accuracy is 0.3599\n",
      "epoch 1800 is done and accuracy is 0.3596\n",
      "epoch 1900 is done and accuracy is 0.3586\n",
      "epoch 2000 is done and accuracy is 0.3588\n",
      "epoch 2100 is done and accuracy is 0.3594\n",
      "epoch 2200 is done and accuracy is 0.3592\n",
      "epoch 2300 is done and accuracy is 0.3585\n",
      "epoch 2400 is done and accuracy is 0.3589\n",
      "epoch 2500 is done and accuracy is 0.3583\n",
      "epoch 2600 is done and accuracy is 0.3563\n",
      "epoch 2700 is done and accuracy is 0.3552\n",
      "epoch 2800 is done and accuracy is 0.3554\n",
      "epoch 2900 is done and accuracy is 0.3532\n",
      "epoch 3000 is done and accuracy is 0.353\n",
      "epoch 3100 is done and accuracy is 0.3527\n",
      "epoch 3200 is done and accuracy is 0.351\n",
      "epoch 3300 is done and accuracy is 0.3502\n",
      "epoch 3400 is done and accuracy is 0.3476\n",
      "epoch 3500 is done and accuracy is 0.3463\n",
      "epoch 3600 is done and accuracy is 0.3448\n",
      "epoch 3700 is done and accuracy is 0.3435\n",
      "epoch 3800 is done and accuracy is 0.3426\n",
      "epoch 3900 is done and accuracy is 0.3408\n",
      "epoch 4000 is done and accuracy is 0.3394\n",
      "epoch 4100 is done and accuracy is 0.3392\n",
      "epoch 4200 is done and accuracy is 0.3395\n",
      "epoch 4300 is done and accuracy is 0.339\n",
      "epoch 4400 is done and accuracy is 0.3373\n",
      "epoch 4500 is done and accuracy is 0.3371\n",
      "epoch 4600 is done and accuracy is 0.3369\n",
      "epoch 4700 is done and accuracy is 0.3366\n",
      "epoch 4800 is done and accuracy is 0.336\n",
      "epoch 4900 is done and accuracy is 0.3356\n",
      "epoch 5000 is done and accuracy is 0.3353\n",
      "epoch 5100 is done and accuracy is 0.3357\n",
      "epoch 5200 is done and accuracy is 0.3361\n",
      "epoch 5300 is done and accuracy is 0.3363\n",
      "epoch 5400 is done and accuracy is 0.3364\n",
      "epoch 5500 is done and accuracy is 0.3362\n",
      "epoch 5600 is done and accuracy is 0.3362\n",
      "epoch 5700 is done and accuracy is 0.337\n",
      "epoch 5800 is done and accuracy is 0.3372\n",
      "epoch 5900 is done and accuracy is 0.3362\n",
      "epoch 6000 is done and accuracy is 0.3358\n",
      "epoch 6100 is done and accuracy is 0.3372\n",
      "epoch 6200 is done and accuracy is 0.3378\n",
      "epoch 6300 is done and accuracy is 0.338\n",
      "epoch 6400 is done and accuracy is 0.3377\n",
      "epoch 6500 is done and accuracy is 0.3379\n",
      "epoch 6600 is done and accuracy is 0.338\n",
      "epoch 6700 is done and accuracy is 0.3379\n",
      "epoch 6800 is done and accuracy is 0.3381\n",
      "epoch 6900 is done and accuracy is 0.3382\n",
      "epoch 7000 is done and accuracy is 0.3383\n",
      "epoch 7100 is done and accuracy is 0.3379\n",
      "epoch 7200 is done and accuracy is 0.338\n",
      "epoch 7300 is done and accuracy is 0.3381\n",
      "epoch 7400 is done and accuracy is 0.338\n",
      "epoch 7500 is done and accuracy is 0.3384\n",
      "epoch 7600 is done and accuracy is 0.3385\n",
      "epoch 7700 is done and accuracy is 0.339\n",
      "epoch 7800 is done and accuracy is 0.3394\n",
      "epoch 7900 is done and accuracy is 0.3391\n",
      "epoch 8000 is done and accuracy is 0.3396\n",
      "epoch 8100 is done and accuracy is 0.3396\n",
      "epoch 8200 is done and accuracy is 0.3395\n",
      "epoch 8300 is done and accuracy is 0.3399\n",
      "epoch 8400 is done and accuracy is 0.3399\n",
      "epoch 8500 is done and accuracy is 0.3403\n",
      "epoch 8600 is done and accuracy is 0.3407\n",
      "epoch 8700 is done and accuracy is 0.3405\n",
      "epoch 8800 is done and accuracy is 0.3407\n",
      "epoch 8900 is done and accuracy is 0.3406\n",
      "epoch 9000 is done and accuracy is 0.3403\n",
      "epoch 9100 is done and accuracy is 0.3403\n",
      "epoch 9200 is done and accuracy is 0.3406\n",
      "epoch 9300 is done and accuracy is 0.3406\n",
      "epoch 9400 is done and accuracy is 0.3401\n",
      "epoch 9500 is done and accuracy is 0.3399\n",
      "epoch 9600 is done and accuracy is 0.3399\n",
      "epoch 9700 is done and accuracy is 0.3399\n",
      "epoch 9800 is done and accuracy is 0.3399\n",
      "epoch 9900 is done and accuracy is 0.3402\n"
     ]
    }
   ],
   "source": [
    "acc_sup=accuracy_calculation(10000)"
   ]
  },
  {
   "cell_type": "code",
   "execution_count": 68,
   "metadata": {
    "colab": {
     "base_uri": "https://localhost:8080/",
     "height": 312
    },
    "id": "du44PkbPOh4K",
    "outputId": "542672f1-45d9-4df8-e6d4-5451e96ea13b"
   },
   "outputs": [
    {
     "data": {
      "text/plain": [
       "Text(0, 0.5, 'Validation Accuracy')"
      ]
     },
     "execution_count": 68,
     "metadata": {
      "tags": []
     },
     "output_type": "execute_result"
    },
    {
     "data": {
      "image/png": "[encoded data removed]",
      "text/plain": [
       "<Figure size 432x288 with 1 Axes>"
      ]
     },
     "metadata": {
      "needs_background": "light",
      "tags": []
     },
     "output_type": "display_data"
    }
   ],
   "source": [
    "plt.plot(list(range(10000)),acc_sup,'r')\n",
    "plt.title('Supervised Model')\n",
    "plt.xlabel('Epochs')\n",
    "plt.ylabel('Validation Accuracy')"
   ]
  },
  {
   "cell_type": "code",
   "execution_count": 70,
   "metadata": {
    "colab": {
     "base_uri": "https://localhost:8080/",
     "height": 265
    },
    "id": "csxbvq05Xj43",
    "outputId": "006273b9-5025-42b1-c3c2-5ebbe5d8eea1"
   },
   "outputs": [
    {
     "data": {
      "image/png": "[encoded data removed]",
      "text/plain": [
       "<Figure size 432x288 with 1 Axes>"
      ]
     },
     "metadata": {
      "needs_background": "light",
      "tags": []
     },
     "output_type": "display_data"
    }
   ],
   "source": [
    "plt.plot(list(range(10000)),acc_base,'g')\n",
    "plt.plot(list(range(10000)),acc_sup,'r')\n",
    "plt.legend(['Baseline Model','Self-Supervised'])\n",
    "plt.show()"
   ]
  },
  {
   "cell_type": "code",
   "execution_count": 71,
   "metadata": {
    "id": "OX3ok6GHX0NB"
   },
   "outputs": [],
   "source": [
    "with open('acc_sup.pkl', 'wb') as f:\n",
    "  pickle.dump(acc_sup, f)"
   ]
  },
  {
   "cell_type": "code",
   "execution_count": 72,
   "metadata": {
    "id": "gobCcUSIDVue"
   },
   "outputs": [],
   "source": [
    "with open('acc_sup.pkl', 'wb') as f:\n",
    "  pickle.dump(acc_sup, f)"
   ]
  },
  {
   "cell_type": "code",
   "execution_count": null,
   "metadata": {
    "id": "VBs2LQUQDf8u"
   },
   "outputs": [],
   "source": []
  }
 ],
 "metadata": {
  "accelerator": "GPU",
  "colab": {
   "collapsed_sections": [],
   "machine_shape": "hm",
   "name": "Part4 Deep Learning.ipynb",
   "provenance": []
  },
  "kernelspec": {
   "display_name": "Python 3",
   "language": "python",
   "name": "python3"
  },
  "language_info": {
   "codemirror_mode": {
    "name": "ipython",
    "version": 3
   },
   "file_extension": ".py",
   "mimetype": "text/x-python",
   "name": "python",
   "nbconvert_exporter": "python",
   "pygments_lexer": "ipython3",
   "version": "3.7.3"
  }
 },
 "nbformat": 4,
 "nbformat_minor": 1
}
