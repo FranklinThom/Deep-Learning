{
 "cells": [
  {
   "cell_type": "markdown",
   "metadata": {},
   "source": [
    "## frathom\n",
    "## Homework2 Part3"
   ]
  },
  {
   "cell_type": "code",
   "execution_count": 52,
   "metadata": {
    "id": "F_c6iSrfyBro"
   },
   "outputs": [],
   "source": [
    "import torch\n",
    "import torch.nn as nn\n",
    "import torch.nn.functional as F\n",
    "import torchvision.transforms as transforms\n",
    "import torchvision.transforms.functional as tf\n",
    "import torchvision\n",
    "from torch.autograd import Variable\n",
    "import matplotlib.pyplot as plt\n",
    "import numpy as np\n",
    "from google.colab import drive\n",
    "import helper\n",
    "from torch.utils.data.sampler import SubsetRandomSampler\n",
    "from torch.utils.data import TensorDataset\n",
    "import glob\n",
    "import librosa\n",
    "import math"
   ]
  },
  {
   "cell_type": "code",
   "execution_count": 53,
   "metadata": {
    "id": "evHxDdBmyISo"
   },
   "outputs": [],
   "source": [
    "import IPython.display as ipd"
   ]
  },
  {
   "cell_type": "code",
   "execution_count": 54,
   "metadata": {
    "id": "b-K5iZWNyNeN"
   },
   "outputs": [],
   "source": [
    "if torch.cuda.is_available():\n",
    "  device = torch.device(\"cuda\")\n",
    "else:\n",
    "  device = torch.device(\"cpu\")"
   ]
  },
  {
   "cell_type": "code",
   "execution_count": 55,
   "metadata": {
    "colab": {
     "base_uri": "https://localhost:8080/",
     "height": 34
    },
    "id": "A_rdtt4OyPl0",
    "outputId": "5afb24d4-c074-48f9-e92b-39ee8d90c78d"
   },
   "outputs": [
    {
     "name": "stdout",
     "output_type": "stream",
     "text": [
      "True\n"
     ]
    }
   ],
   "source": [
    "print(torch.cuda.is_available())"
   ]
  },
  {
   "cell_type": "code",
   "execution_count": 56,
   "metadata": {
    "colab": {
     "base_uri": "https://localhost:8080/",
     "height": 50
    },
    "id": "F-zVg9dkyZjW",
    "outputId": "80f89ed5-336f-4d91-e223-e1e498d4ebc1"
   },
   "outputs": [
    {
     "name": "stdout",
     "output_type": "stream",
     "text": [
      "Files already downloaded and verified\n",
      "Files already downloaded and verified\n"
     ]
    }
   ],
   "source": [
    "transform = transforms.Compose(\n",
    "    [\n",
    "     transforms.ToTensor(),\n",
    "     transforms.Normalize((0.5, 0.5, 0.5), (0.5, 0.5, 0.5))\n",
    "     ])\n",
    "\n",
    "cifar_train = torchvision.datasets.CIFAR10(root='./data', train=True,\n",
    "                                        download=True, transform=transform)\n",
    "\n",
    "cifar_test = torchvision.datasets.CIFAR10(root='./data', train=False,\n",
    "                                       download=True, transform=transform)"
   ]
  },
  {
   "cell_type": "code",
   "execution_count": 57,
   "metadata": {
    "colab": {
     "base_uri": "https://localhost:8080/",
     "height": 403
    },
    "id": "LRyeRp14FhwY",
    "outputId": "4bbc8944-d1c6-421d-8661-4e216b6a72bf"
   },
   "outputs": [
    {
     "data": {
      "text/plain": [
       "(tensor([[[-0.5373, -0.6627, -0.6078,  ...,  0.2392,  0.1922,  0.1608],\n",
       "          [-0.8745, -1.0000, -0.8588,  ..., -0.0353, -0.0667, -0.0431],\n",
       "          [-0.8039, -0.8745, -0.6157,  ..., -0.0745, -0.0588, -0.1451],\n",
       "          ...,\n",
       "          [ 0.6314,  0.5765,  0.5529,  ...,  0.2549, -0.5608, -0.5843],\n",
       "          [ 0.4118,  0.3569,  0.4588,  ...,  0.4431, -0.2392, -0.3490],\n",
       "          [ 0.3882,  0.3176,  0.4039,  ...,  0.6941,  0.1843, -0.0353]],\n",
       " \n",
       "         [[-0.5137, -0.6392, -0.6235,  ...,  0.0353, -0.0196, -0.0275],\n",
       "          [-0.8431, -1.0000, -0.9373,  ..., -0.3098, -0.3490, -0.3176],\n",
       "          [-0.8118, -0.9451, -0.7882,  ..., -0.3412, -0.3412, -0.4275],\n",
       "          ...,\n",
       "          [ 0.3333,  0.2000,  0.2627,  ...,  0.0431, -0.7569, -0.7333],\n",
       "          [ 0.0902, -0.0353,  0.1294,  ...,  0.1608, -0.5137, -0.5843],\n",
       "          [ 0.1294,  0.0118,  0.1137,  ...,  0.4431, -0.0745, -0.2784]],\n",
       " \n",
       "         [[-0.5059, -0.6471, -0.6627,  ..., -0.1529, -0.2000, -0.1922],\n",
       "          [-0.8431, -1.0000, -1.0000,  ..., -0.5686, -0.6078, -0.5529],\n",
       "          [-0.8353, -1.0000, -0.9373,  ..., -0.6078, -0.6078, -0.6706],\n",
       "          ...,\n",
       "          [-0.2471, -0.7333, -0.7961,  ..., -0.4510, -0.9451, -0.8431],\n",
       "          [-0.2471, -0.6706, -0.7647,  ..., -0.2627, -0.7333, -0.7333],\n",
       "          [-0.0902, -0.2627, -0.3176,  ...,  0.0980, -0.3412, -0.4353]]]), 6)"
      ]
     },
     "execution_count": 57,
     "metadata": {
      "tags": []
     },
     "output_type": "execute_result"
    }
   ],
   "source": [
    "cifar_train[0]"
   ]
  },
  {
   "cell_type": "code",
   "execution_count": 58,
   "metadata": {
    "id": "MbifQZE7ymrg"
   },
   "outputs": [],
   "source": [
    "len_train = len(cifar_train)\n",
    "index = list(range(len_train))\n",
    "val_size=5000"
   ]
  },
  {
   "cell_type": "code",
   "execution_count": 59,
   "metadata": {
    "id": "mHnilrzvynWv"
   },
   "outputs": [],
   "source": [
    "train_in,val_in=index[val_size:],index[:val_size]\n",
    "cifar_train=torch.utils.data.Subset(cifar_train, train_in)\n",
    "val=torch.utils.data.Subset(cifar_train,val_in)"
   ]
  },
  {
   "cell_type": "code",
   "execution_count": 60,
   "metadata": {
    "id": "ZR5KqkiPe7B1"
   },
   "outputs": [],
   "source": [
    "train_base = torch.utils.data.DataLoader(cifar_train, batch_size=1024, num_workers=2)\n",
    "val_base = torch.utils.data.DataLoader(val, batch_size=1024, num_workers=2)"
   ]
  },
  {
   "cell_type": "code",
   "execution_count": 61,
   "metadata": {
    "id": "xifNQtWJe6_b"
   },
   "outputs": [],
   "source": [
    "class CNN_base(nn.Module):\n",
    "  def __init__(self):\n",
    "    super(CNN_base,self).__init__()\n",
    "    self.first_conv=nn.Conv2d(3,10,5)\n",
    "    nn.init.kaiming_normal_(self.first_conv.weight)\n",
    "    self.relu=nn.ReLU()\n",
    "    self.pooling=nn.MaxPool2d(2,stride=2)\n",
    "    self.second_conv=nn.Conv2d(10,10,5)\n",
    "    nn.init.kaiming_normal_(self.second_conv.weight)\n",
    "    self.fc1=nn.Linear(10*5*5,20)\n",
    "    nn.init.kaiming_normal_(self.fc1.weight)\n",
    "    self.fc2=nn.Linear(20,10)\n",
    "    nn.init.kaiming_normal_(self.fc2.weight)\n",
    "  \n",
    "  def Forward_prop(self,x):\n",
    "    x1=self.pooling(self.relu(self.first_conv(x)))\n",
    "    x2=self.pooling(self.relu(self.second_conv(x1)))\n",
    "    x2=x2.view(-1,10*5*5)\n",
    "    x3=self.relu(self.fc1(x2))\n",
    "    out=self.fc2(x3)\n",
    "    return out"
   ]
  },
  {
   "cell_type": "code",
   "execution_count": 62,
   "metadata": {
    "id": "ykpUqh_4fDO6"
   },
   "outputs": [],
   "source": [
    "cnn_base=CNN_base().to(device)"
   ]
  },
  {
   "cell_type": "code",
   "execution_count": 63,
   "metadata": {
    "id": "pXVEzNoUe67R"
   },
   "outputs": [],
   "source": [
    "loss=nn.CrossEntropyLoss()\n",
    "param=cnn_base.parameters()\n",
    "optimize=torch.optim.Adam(param,lr=0.001)\n",
    "#no_of_epochs=40"
   ]
  },
  {
   "cell_type": "code",
   "execution_count": 64,
   "metadata": {
    "id": "mT2cZ7rPe62X"
   },
   "outputs": [],
   "source": [
    "# Training the Feedforward Neural Network\n",
    "def train_model_base():\n",
    "    for num,dat in enumerate(train_base):\n",
    "\n",
    "      im,la=dat\n",
    "      im=im.to(device)\n",
    "      la=la.to(device)\n",
    "      ff_out=cnn_base.Forward_prop(im)\n",
    "      losses=loss(ff_out,la)\n",
    "      optimize.zero_grad()\n",
    "      losses.backward()\n",
    "      optimize.step()\n",
    "   \n",
    "    #print(\"epoch {} is done\".format(ep))\n",
    "\n",
    "\n",
    "\n",
    "\n"
   ]
  },
  {
   "cell_type": "code",
   "execution_count": 65,
   "metadata": {
    "id": "ckWvx66HfN-m"
   },
   "outputs": [],
   "source": [
    "# Testing the Feedforward Neural Network\n",
    "\n",
    "def validation_base():\n",
    "  length=0\n",
    "  correct_count=0\n",
    "  with torch.no_grad():\n",
    "    for dat in val_base:\n",
    "      im,la=dat\n",
    "      test_out=cnn_base.Forward_prop(im.to(device))\n",
    "      _,pred=torch.max(test_out.data,1)\n",
    "      length+=la.size(0)\n",
    "      correct_count+=(pred.cpu()==la).sum().item()\n",
    "  return correct_count/val_size"
   ]
  },
  {
   "cell_type": "code",
   "execution_count": 66,
   "metadata": {
    "id": "kEsUjtyyfOHM"
   },
   "outputs": [],
   "source": [
    "def accuracy_calculation(no_of_epochs):\n",
    "  accuracy=[]\n",
    "  for i in range(no_of_epochs):\n",
    "    train_model_base()\n",
    "    va=validation_base()\n",
    "    accuracy.append(va)\n",
    "    print(\"epoch {} is done and accuracy is {}\".format(i,va))\n",
    "  return accuracy"
   ]
  },
  {
   "cell_type": "code",
   "execution_count": 67,
   "metadata": {
    "colab": {
     "base_uri": "https://localhost:8080/",
     "height": 1000
    },
    "id": "_qKE2KV0fODL",
    "outputId": "ed0893b0-d35c-4739-9ff2-13976d59e8ed"
   },
   "outputs": [
    {
     "name": "stdout",
     "output_type": "stream",
     "text": [
      "epoch 0 is done and accuracy is 0.297\n",
      "epoch 1 is done and accuracy is 0.3662\n",
      "epoch 2 is done and accuracy is 0.41\n",
      "epoch 3 is done and accuracy is 0.4356\n",
      "epoch 4 is done and accuracy is 0.4568\n",
      "epoch 5 is done and accuracy is 0.4704\n",
      "epoch 6 is done and accuracy is 0.4788\n",
      "epoch 7 is done and accuracy is 0.4918\n",
      "epoch 8 is done and accuracy is 0.5014\n",
      "epoch 9 is done and accuracy is 0.5068\n",
      "epoch 10 is done and accuracy is 0.5158\n",
      "epoch 11 is done and accuracy is 0.5258\n",
      "epoch 12 is done and accuracy is 0.5346\n",
      "epoch 13 is done and accuracy is 0.5424\n",
      "epoch 14 is done and accuracy is 0.5478\n",
      "epoch 15 is done and accuracy is 0.5578\n",
      "epoch 16 is done and accuracy is 0.5582\n",
      "epoch 17 is done and accuracy is 0.5664\n",
      "epoch 18 is done and accuracy is 0.5702\n",
      "epoch 19 is done and accuracy is 0.5736\n",
      "epoch 20 is done and accuracy is 0.5776\n",
      "epoch 21 is done and accuracy is 0.5786\n",
      "epoch 22 is done and accuracy is 0.5796\n",
      "epoch 23 is done and accuracy is 0.5812\n",
      "epoch 24 is done and accuracy is 0.583\n",
      "epoch 25 is done and accuracy is 0.5832\n",
      "epoch 26 is done and accuracy is 0.587\n",
      "epoch 27 is done and accuracy is 0.5882\n",
      "epoch 28 is done and accuracy is 0.5938\n",
      "epoch 29 is done and accuracy is 0.5962\n",
      "epoch 30 is done and accuracy is 0.598\n",
      "epoch 31 is done and accuracy is 0.6006\n",
      "epoch 32 is done and accuracy is 0.6006\n",
      "epoch 33 is done and accuracy is 0.6012\n",
      "epoch 34 is done and accuracy is 0.6026\n",
      "epoch 35 is done and accuracy is 0.6048\n",
      "epoch 36 is done and accuracy is 0.6058\n",
      "epoch 37 is done and accuracy is 0.6076\n",
      "epoch 38 is done and accuracy is 0.6074\n",
      "epoch 39 is done and accuracy is 0.6094\n",
      "epoch 40 is done and accuracy is 0.6106\n",
      "epoch 41 is done and accuracy is 0.6128\n",
      "epoch 42 is done and accuracy is 0.6136\n",
      "epoch 43 is done and accuracy is 0.614\n",
      "epoch 44 is done and accuracy is 0.6184\n",
      "epoch 45 is done and accuracy is 0.6182\n",
      "epoch 46 is done and accuracy is 0.6208\n",
      "epoch 47 is done and accuracy is 0.6212\n",
      "epoch 48 is done and accuracy is 0.6234\n",
      "epoch 49 is done and accuracy is 0.6226\n",
      "epoch 50 is done and accuracy is 0.6268\n",
      "epoch 51 is done and accuracy is 0.6282\n",
      "epoch 52 is done and accuracy is 0.6298\n",
      "epoch 53 is done and accuracy is 0.6296\n",
      "epoch 54 is done and accuracy is 0.6318\n",
      "epoch 55 is done and accuracy is 0.6356\n",
      "epoch 56 is done and accuracy is 0.6364\n",
      "epoch 57 is done and accuracy is 0.6384\n",
      "epoch 58 is done and accuracy is 0.6376\n",
      "epoch 59 is done and accuracy is 0.638\n",
      "epoch 60 is done and accuracy is 0.6376\n",
      "epoch 61 is done and accuracy is 0.6382\n",
      "epoch 62 is done and accuracy is 0.6378\n",
      "epoch 63 is done and accuracy is 0.6362\n",
      "epoch 64 is done and accuracy is 0.6372\n",
      "epoch 65 is done and accuracy is 0.638\n",
      "epoch 66 is done and accuracy is 0.6374\n",
      "epoch 67 is done and accuracy is 0.64\n",
      "epoch 68 is done and accuracy is 0.6424\n",
      "epoch 69 is done and accuracy is 0.6438\n",
      "epoch 70 is done and accuracy is 0.6454\n",
      "epoch 71 is done and accuracy is 0.646\n",
      "epoch 72 is done and accuracy is 0.6462\n",
      "epoch 73 is done and accuracy is 0.6462\n",
      "epoch 74 is done and accuracy is 0.6458\n",
      "epoch 75 is done and accuracy is 0.6472\n",
      "epoch 76 is done and accuracy is 0.648\n",
      "epoch 77 is done and accuracy is 0.6506\n",
      "epoch 78 is done and accuracy is 0.651\n",
      "epoch 79 is done and accuracy is 0.651\n",
      "epoch 80 is done and accuracy is 0.6508\n",
      "epoch 81 is done and accuracy is 0.6526\n",
      "epoch 82 is done and accuracy is 0.6542\n",
      "epoch 83 is done and accuracy is 0.6546\n",
      "epoch 84 is done and accuracy is 0.6548\n",
      "epoch 85 is done and accuracy is 0.654\n",
      "epoch 86 is done and accuracy is 0.6548\n",
      "epoch 87 is done and accuracy is 0.6556\n",
      "epoch 88 is done and accuracy is 0.6576\n",
      "epoch 89 is done and accuracy is 0.6606\n",
      "epoch 90 is done and accuracy is 0.661\n",
      "epoch 91 is done and accuracy is 0.6622\n",
      "epoch 92 is done and accuracy is 0.6612\n",
      "epoch 93 is done and accuracy is 0.6618\n",
      "epoch 94 is done and accuracy is 0.6622\n",
      "epoch 95 is done and accuracy is 0.664\n",
      "epoch 96 is done and accuracy is 0.6634\n",
      "epoch 97 is done and accuracy is 0.6624\n",
      "epoch 98 is done and accuracy is 0.6624\n",
      "epoch 99 is done and accuracy is 0.6612\n",
      "epoch 100 is done and accuracy is 0.6626\n",
      "epoch 101 is done and accuracy is 0.6622\n",
      "epoch 102 is done and accuracy is 0.6618\n",
      "epoch 103 is done and accuracy is 0.6626\n",
      "epoch 104 is done and accuracy is 0.6626\n",
      "epoch 105 is done and accuracy is 0.6632\n",
      "epoch 106 is done and accuracy is 0.663\n",
      "epoch 107 is done and accuracy is 0.6632\n",
      "epoch 108 is done and accuracy is 0.6628\n",
      "epoch 109 is done and accuracy is 0.6628\n",
      "epoch 110 is done and accuracy is 0.6632\n",
      "epoch 111 is done and accuracy is 0.6636\n",
      "epoch 112 is done and accuracy is 0.6648\n",
      "epoch 113 is done and accuracy is 0.6648\n",
      "epoch 114 is done and accuracy is 0.6646\n",
      "epoch 115 is done and accuracy is 0.6644\n",
      "epoch 116 is done and accuracy is 0.664\n",
      "epoch 117 is done and accuracy is 0.6638\n",
      "epoch 118 is done and accuracy is 0.663\n",
      "epoch 119 is done and accuracy is 0.665\n",
      "epoch 120 is done and accuracy is 0.664\n",
      "epoch 121 is done and accuracy is 0.6656\n",
      "epoch 122 is done and accuracy is 0.6656\n",
      "epoch 123 is done and accuracy is 0.6668\n",
      "epoch 124 is done and accuracy is 0.6674\n",
      "epoch 125 is done and accuracy is 0.6672\n",
      "epoch 126 is done and accuracy is 0.668\n",
      "epoch 127 is done and accuracy is 0.6676\n",
      "epoch 128 is done and accuracy is 0.6682\n",
      "epoch 129 is done and accuracy is 0.6688\n",
      "epoch 130 is done and accuracy is 0.6684\n",
      "epoch 131 is done and accuracy is 0.6678\n",
      "epoch 132 is done and accuracy is 0.6682\n",
      "epoch 133 is done and accuracy is 0.6694\n",
      "epoch 134 is done and accuracy is 0.6694\n",
      "epoch 135 is done and accuracy is 0.6714\n",
      "epoch 136 is done and accuracy is 0.672\n",
      "epoch 137 is done and accuracy is 0.6724\n",
      "epoch 138 is done and accuracy is 0.6724\n",
      "epoch 139 is done and accuracy is 0.673\n",
      "epoch 140 is done and accuracy is 0.6734\n",
      "epoch 141 is done and accuracy is 0.6734\n",
      "epoch 142 is done and accuracy is 0.6742\n",
      "epoch 143 is done and accuracy is 0.6742\n",
      "epoch 144 is done and accuracy is 0.6756\n",
      "epoch 145 is done and accuracy is 0.675\n",
      "epoch 146 is done and accuracy is 0.6758\n",
      "epoch 147 is done and accuracy is 0.6752\n",
      "epoch 148 is done and accuracy is 0.675\n",
      "epoch 149 is done and accuracy is 0.6742\n",
      "epoch 150 is done and accuracy is 0.6738\n",
      "epoch 151 is done and accuracy is 0.675\n",
      "epoch 152 is done and accuracy is 0.675\n",
      "epoch 153 is done and accuracy is 0.6758\n",
      "epoch 154 is done and accuracy is 0.6768\n",
      "epoch 155 is done and accuracy is 0.6766\n",
      "epoch 156 is done and accuracy is 0.6764\n",
      "epoch 157 is done and accuracy is 0.6782\n",
      "epoch 158 is done and accuracy is 0.6772\n",
      "epoch 159 is done and accuracy is 0.6788\n",
      "epoch 160 is done and accuracy is 0.6786\n",
      "epoch 161 is done and accuracy is 0.6798\n",
      "epoch 162 is done and accuracy is 0.6804\n",
      "epoch 163 is done and accuracy is 0.681\n",
      "epoch 164 is done and accuracy is 0.6812\n",
      "epoch 165 is done and accuracy is 0.681\n",
      "epoch 166 is done and accuracy is 0.681\n",
      "epoch 167 is done and accuracy is 0.6804\n",
      "epoch 168 is done and accuracy is 0.682\n",
      "epoch 169 is done and accuracy is 0.6796\n",
      "epoch 170 is done and accuracy is 0.6812\n",
      "epoch 171 is done and accuracy is 0.682\n",
      "epoch 172 is done and accuracy is 0.683\n",
      "epoch 173 is done and accuracy is 0.683\n",
      "epoch 174 is done and accuracy is 0.6834\n",
      "epoch 175 is done and accuracy is 0.6834\n",
      "epoch 176 is done and accuracy is 0.6828\n",
      "epoch 177 is done and accuracy is 0.683\n",
      "epoch 178 is done and accuracy is 0.6836\n",
      "epoch 179 is done and accuracy is 0.6842\n",
      "epoch 180 is done and accuracy is 0.6836\n",
      "epoch 181 is done and accuracy is 0.6852\n",
      "epoch 182 is done and accuracy is 0.6858\n",
      "epoch 183 is done and accuracy is 0.6852\n",
      "epoch 184 is done and accuracy is 0.6844\n",
      "epoch 185 is done and accuracy is 0.6856\n",
      "epoch 186 is done and accuracy is 0.6868\n",
      "epoch 187 is done and accuracy is 0.688\n",
      "epoch 188 is done and accuracy is 0.687\n",
      "epoch 189 is done and accuracy is 0.688\n",
      "epoch 190 is done and accuracy is 0.6874\n",
      "epoch 191 is done and accuracy is 0.6894\n",
      "epoch 192 is done and accuracy is 0.6894\n",
      "epoch 193 is done and accuracy is 0.6906\n",
      "epoch 194 is done and accuracy is 0.6894\n",
      "epoch 195 is done and accuracy is 0.6898\n",
      "epoch 196 is done and accuracy is 0.6894\n",
      "epoch 197 is done and accuracy is 0.6886\n",
      "epoch 198 is done and accuracy is 0.6906\n",
      "epoch 199 is done and accuracy is 0.6906\n"
     ]
    }
   ],
   "source": [
    "acc_base=accuracy_calculation(200)"
   ]
  },
  {
   "cell_type": "code",
   "execution_count": 68,
   "metadata": {
    "colab": {
     "base_uri": "https://localhost:8080/",
     "height": 312
    },
    "id": "-oAJQfdGft2T",
    "outputId": "cd2bbf70-e0d9-44ef-bb05-f871745b3160"
   },
   "outputs": [
    {
     "data": {
      "text/plain": [
       "Text(0, 0.5, 'Validation Accuracy')"
      ]
     },
     "execution_count": 68,
     "metadata": {
      "tags": []
     },
     "output_type": "execute_result"
    },
    {
     "data": {
      "image/png": "[encoded data removed]",
      "text/plain": [
       "<Figure size 432x288 with 1 Axes>"
      ]
     },
     "metadata": {
      "needs_background": "light",
      "tags": []
     },
     "output_type": "display_data"
    }
   ],
   "source": [
    "plt.plot(list(range(200)),acc_base,'g')\n",
    "plt.title('Baseline Model')\n",
    "plt.xlabel('Epochs')\n",
    "plt.ylabel('Validation Accuracy')"
   ]
  },
  {
   "cell_type": "code",
   "execution_count": 9,
   "metadata": {
    "id": "tV0dLINtLORG"
   },
   "outputs": [],
   "source": [
    "class adj_bright():\n",
    "    def __init__(self, fac):\n",
    "        self.fac = fac\n",
    "\n",
    "    def __call__(self, x):\n",
    "        a = self.fac\n",
    "        return tf.adjust_brightness(x, a)"
   ]
  },
  {
   "cell_type": "code",
   "execution_count": 10,
   "metadata": {
    "id": "NlUUl2B8L5FY"
   },
   "outputs": [],
   "source": [
    "brightness_transforms=adj_bright(1.1)\n",
    "darkness_transforms=adj_bright(0.9)"
   ]
  },
  {
   "cell_type": "code",
   "execution_count": 11,
   "metadata": {
    "colab": {
     "base_uri": "https://localhost:8080/",
     "height": 34
    },
    "id": "fv8LgYv4y1tu",
    "outputId": "ad6f30df-7dd9-497a-b47e-01c5f18c7d50"
   },
   "outputs": [
    {
     "name": "stdout",
     "output_type": "stream",
     "text": [
      "Files already downloaded and verified\n"
     ]
    }
   ],
   "source": [
    "transform1 = transforms.Compose(\n",
    "    [\n",
    "     transforms.Resize(32,32),\n",
    "     brightness_transforms,\n",
    "     transforms.ToTensor(),\n",
    "     transforms.Normalize((0.5, 0.5, 0.5), (0.5, 0.5, 0.5))\n",
    "     ])\n",
    "brighter_train = torchvision.datasets.CIFAR10(root='./data', train=True,\n",
    "                                        download=True, transform=transform1)"
   ]
  },
  {
   "cell_type": "code",
   "execution_count": 12,
   "metadata": {
    "colab": {
     "base_uri": "https://localhost:8080/",
     "height": 34
    },
    "id": "C45qR_Fn-um1",
    "outputId": "a751ae20-4255-44d9-9183-efe54ead9b86"
   },
   "outputs": [
    {
     "name": "stdout",
     "output_type": "stream",
     "text": [
      "Files already downloaded and verified\n"
     ]
    }
   ],
   "source": [
    "transform2 = transforms.Compose(\n",
    "    [\n",
    "     transforms.Resize(32,32),\n",
    "     darkness_transforms,\n",
    "     transforms.ToTensor(),\n",
    "     transforms.Normalize((0.5, 0.5, 0.5), (0.5, 0.5, 0.5))\n",
    "     ])\n",
    "darker_train = torchvision.datasets.CIFAR10(root='./data', train=True,\n",
    "                                        download=True, transform=transform2)"
   ]
  },
  {
   "cell_type": "code",
   "execution_count": 13,
   "metadata": {
    "colab": {
     "base_uri": "https://localhost:8080/",
     "height": 34
    },
    "id": "O74MG_Vs-xA1",
    "outputId": "32f33f0d-ebf1-4db6-e0a3-028ce45b1d0a"
   },
   "outputs": [
    {
     "name": "stdout",
     "output_type": "stream",
     "text": [
      "Files already downloaded and verified\n"
     ]
    }
   ],
   "source": [
    "transform3 = transforms.Compose(\n",
    "    [\n",
    "     transforms.Resize(32,32),\n",
    "     transforms.transforms.RandomHorizontalFlip(p=1),\n",
    "     transforms.ToTensor(),\n",
    "     transforms.Normalize((0.5, 0.5, 0.5), (0.5, 0.5, 0.5))\n",
    "     ])\n",
    "flipped_train = torchvision.datasets.CIFAR10(root='./data', train=True,\n",
    "                                        download=True, transform=transform3)"
   ]
  },
  {
   "cell_type": "code",
   "execution_count": 14,
   "metadata": {
    "id": "6wvxtrSC-zd3"
   },
   "outputs": [],
   "source": [
    "len_train = len(flipped_train)\n",
    "index = list(range(len_train))\n",
    "val_size=5000"
   ]
  },
  {
   "cell_type": "code",
   "execution_count": 15,
   "metadata": {
    "id": "YbTStNb3-17T"
   },
   "outputs": [],
   "source": [
    "b_tr,val_btr=index[val_size:],index[:val_size]\n",
    "bri_train=torch.utils.data.Subset(brighter_train, b_tr)\n",
    "dar_train=torch.utils.data.Subset(darker_train,b_tr)\n",
    "fli_train=torch.utils.data.Subset(flipped_train,b_tr)"
   ]
  },
  {
   "cell_type": "code",
   "execution_count": 16,
   "metadata": {
    "id": "mqBZWdhj_5lx"
   },
   "outputs": [],
   "source": [
    "aug_dat=torch.utils.data.ConcatDataset((bri_train,dar_train,fli_train,cifar_train))\n",
    "aug_train = torch.utils.data.DataLoader(aug_dat, batch_size=1024, num_workers=2)\n",
    "val = torch.utils.data.DataLoader(val, batch_size=1024, num_workers=2)"
   ]
  },
  {
   "cell_type": "code",
   "execution_count": 21,
   "metadata": {
    "id": "M6jYak__OUls"
   },
   "outputs": [],
   "source": [
    "b = torch.utils.data.DataLoader(bri_train, batch_size=2, num_workers=2)\n",
    "d = torch.utils.data.DataLoader(dar_train, batch_size=2, num_workers=2)\n",
    "f = torch.utils.data.DataLoader(fli_train, batch_size=2, num_workers=2)\n",
    "o = torch.utils.data.DataLoader(cifar_train, batch_size=2, num_workers=2)\n",
    "\n",
    "def print_img(i):\n",
    "    i = i / 2 + 0.5     \n",
    "    npi = i.numpy()\n",
    "    plt.imshow(np.transpose(npi, (1, 2, 0)))\n",
    "    plt.show()\n"
   ]
  },
  {
   "cell_type": "code",
   "execution_count": 22,
   "metadata": {
    "colab": {
     "base_uri": "https://localhost:8080/",
     "height": 239
    },
    "id": "rdeSacwCPdvW",
    "outputId": "0c89d97b-1c65-4771-ea8c-2a7ae738ed3d"
   },
   "outputs": [
    {
     "name": "stdout",
     "output_type": "stream",
     "text": [
      "the original images\n"
     ]
    },
    {
     "data": {
      "image/png": "[encoded data removed]",
      "text/plain": [
       "<Figure size 432x288 with 1 Axes>"
      ]
     },
     "metadata": {
      "needs_background": "light",
      "tags": []
     },
     "output_type": "display_data"
    }
   ],
   "source": [
    "\n",
    "dataiter = iter(o)\n",
    "img, labe = dataiter.next()\n",
    "print(\"the original images\")\n",
    "print_img(torchvision.utils.make_grid(img))"
   ]
  },
  {
   "cell_type": "code",
   "execution_count": 23,
   "metadata": {
    "colab": {
     "base_uri": "https://localhost:8080/",
     "height": 239
    },
    "id": "rB3j4COgPiVI",
    "outputId": "2ee5f625-c4e9-4207-f005-8a728c28ac83"
   },
   "outputs": [
    {
     "name": "stdout",
     "output_type": "stream",
     "text": [
      "brighter images\n"
     ]
    },
    {
     "data": {
      "image/png": "[encoded data removed]",
      "text/plain": [
       "<Figure size 432x288 with 1 Axes>"
      ]
     },
     "metadata": {
      "needs_background": "light",
      "tags": []
     },
     "output_type": "display_data"
    }
   ],
   "source": [
    "\n",
    "dataiter = iter(b)\n",
    "img, labe = dataiter.next()\n",
    "print(\"brighter images\")\n",
    "print_img(torchvision.utils.make_grid(img))"
   ]
  },
  {
   "cell_type": "code",
   "execution_count": 24,
   "metadata": {
    "colab": {
     "base_uri": "https://localhost:8080/",
     "height": 239
    },
    "id": "xcG7Xm2xPjkp",
    "outputId": "088baf87-c968-4add-bd50-790e20a2dda1"
   },
   "outputs": [
    {
     "name": "stdout",
     "output_type": "stream",
     "text": [
      "darker images\n"
     ]
    },
    {
     "data": {
      "image/png": "[encoded data removed]",
      "text/plain": [
       "<Figure size 432x288 with 1 Axes>"
      ]
     },
     "metadata": {
      "needs_background": "light",
      "tags": []
     },
     "output_type": "display_data"
    }
   ],
   "source": [
    "\n",
    "dataiter = iter(d)\n",
    "img, labe = dataiter.next()\n",
    "print(\"darker images\")\n",
    "print_img(torchvision.utils.make_grid(img))"
   ]
  },
  {
   "cell_type": "code",
   "execution_count": 25,
   "metadata": {
    "colab": {
     "base_uri": "https://localhost:8080/",
     "height": 239
    },
    "id": "00AQ7s4aPk3V",
    "outputId": "f2025290-74ae-4ce0-96e9-09d30cc75673"
   },
   "outputs": [
    {
     "name": "stdout",
     "output_type": "stream",
     "text": [
      "flipped images\n"
     ]
    },
    {
     "data": {
      "image/png": "[encoded data removed]",
      "text/plain": [
       "<Figure size 432x288 with 1 Axes>"
      ]
     },
     "metadata": {
      "needs_background": "light",
      "tags": []
     },
     "output_type": "display_data"
    }
   ],
   "source": [
    "\n",
    "dataiter = iter(f)\n",
    "img, labe = dataiter.next()\n",
    "print(\"flipped images\")\n",
    "print_img(torchvision.utils.make_grid(img))"
   ]
  },
  {
   "cell_type": "code",
   "execution_count": 26,
   "metadata": {
    "colab": {
     "base_uri": "https://localhost:8080/",
     "height": 403
    },
    "id": "c5wXem_-FQoJ",
    "outputId": "a069bb75-9413-419d-c3e4-2e229c806257"
   },
   "outputs": [
    {
     "data": {
      "text/plain": [
       "(tensor([[[-0.4824, -0.6549, -0.5529,  ..., -0.5451, -0.4353, -0.3725],\n",
       "          [-0.0353, -0.5059, -0.5059,  ..., -0.5373, -0.4275, -0.3804],\n",
       "          [ 0.4667,  0.0196, -0.3098,  ..., -0.5216, -0.3961, -0.3804],\n",
       "          ...,\n",
       "          [-0.2157, -0.4980, -0.6157,  ..., -0.7255, -0.7804, -0.7882],\n",
       "          [-0.1529, -0.4510, -0.5294,  ..., -0.6392, -0.6392, -0.6549],\n",
       "          [-0.0980, -0.3961, -0.4980,  ..., -0.6314, -0.6078, -0.6157]],\n",
       " \n",
       "         [[-0.2941, -0.4196, -0.3020,  ..., -0.6314, -0.5294, -0.4667],\n",
       "          [-0.0196, -0.3882, -0.3020,  ..., -0.6000, -0.5059, -0.4667],\n",
       "          [ 0.3882,  0.0118, -0.2392,  ..., -0.5686, -0.4588, -0.4510],\n",
       "          ...,\n",
       "          [-0.0275, -0.2863, -0.4431,  ..., -0.5216, -0.6078, -0.6392],\n",
       "          [ 0.0196, -0.2627, -0.3569,  ..., -0.3882, -0.4196, -0.4510],\n",
       "          [ 0.0510, -0.2078, -0.3255,  ..., -0.4353, -0.3961, -0.3882]],\n",
       " \n",
       "         [[-0.5373, -0.6941, -0.5529,  ..., -0.5686, -0.4745, -0.4196],\n",
       "          [-0.0196, -0.5216, -0.5451,  ..., -0.5451, -0.4431, -0.4118],\n",
       "          [ 0.5294,  0.0353, -0.3647,  ..., -0.5216, -0.3961, -0.3882],\n",
       "          ...,\n",
       "          [-0.1922, -0.4667, -0.6157,  ..., -0.7412, -0.7804, -0.8039],\n",
       "          [-0.1216, -0.4275, -0.5294,  ..., -0.6706, -0.6863, -0.7255],\n",
       "          [-0.0745, -0.3647, -0.4824,  ..., -0.6549, -0.6392, -0.6549]]]), 6)"
      ]
     },
     "execution_count": 26,
     "metadata": {
      "tags": []
     },
     "output_type": "execute_result"
    }
   ],
   "source": [
    "aug_dat[0]"
   ]
  },
  {
   "cell_type": "code",
   "execution_count": 27,
   "metadata": {
    "id": "n9SrsAnW-5R3"
   },
   "outputs": [],
   "source": [
    "class CNN_Aug(nn.Module):\n",
    "  def __init__(self):\n",
    "    super(CNN_Aug,self).__init__()\n",
    "    self.first_conv=nn.Conv2d(3,10,5)\n",
    "    nn.init.kaiming_normal_(self.first_conv.weight)\n",
    "    self.relu=nn.ReLU()\n",
    "    self.pooling=nn.MaxPool2d(2,stride=2)\n",
    "    self.second_conv=nn.Conv2d(10,10,5)\n",
    "    nn.init.kaiming_normal_(self.second_conv.weight)\n",
    "    self.fc1=nn.Linear(10*5*5,20)\n",
    "    nn.init.kaiming_normal_(self.fc1.weight)\n",
    "    self.fc2=nn.Linear(20,10)\n",
    "    nn.init.kaiming_normal_(self.fc2.weight)\n",
    "  \n",
    "  def Forward_prop(self,x):\n",
    "    x1=self.pooling(self.relu(self.first_conv(x)))\n",
    "    x2=self.pooling(self.relu(self.second_conv(x1)))\n",
    "    x2=x2.view(-1,10*5*5)\n",
    "    x3=self.relu(self.fc1(x2))\n",
    "    out=self.fc2(x3)\n",
    "    return out"
   ]
  },
  {
   "cell_type": "code",
   "execution_count": 28,
   "metadata": {
    "id": "DNwKPNrP_NNz"
   },
   "outputs": [],
   "source": [
    "cnn_aug=CNN_Aug().to(device)"
   ]
  },
  {
   "cell_type": "code",
   "execution_count": 29,
   "metadata": {
    "id": "J37U1vm4_U1s"
   },
   "outputs": [],
   "source": [
    "loss=nn.CrossEntropyLoss()\n",
    "param=cnn_aug.parameters()\n",
    "optimize=torch.optim.Adam(param,lr=0.001)\n",
    "#no_of_epochs=40"
   ]
  },
  {
   "cell_type": "code",
   "execution_count": 30,
   "metadata": {
    "id": "reahWEt4_Z7U"
   },
   "outputs": [],
   "source": [
    "# Training the Feedforward Neural Network\n",
    "def train_model():\n",
    "    for num,dat in enumerate(aug_train):\n",
    "\n",
    "      im,la=dat\n",
    "      im=im.cuda()\n",
    "      la=la.cuda()\n",
    "      ff_out=cnn_aug.Forward_prop(im)\n",
    "      losses=loss(ff_out,la)\n",
    "      optimize.zero_grad()\n",
    "      losses.backward()\n",
    "      optimize.step()\n",
    "   \n",
    "    #print(\"epoch {} is done\".format(ep))\n",
    "\n",
    "\n",
    "\n",
    "\n"
   ]
  },
  {
   "cell_type": "code",
   "execution_count": 31,
   "metadata": {
    "id": "PiH2lhwd_lYO"
   },
   "outputs": [],
   "source": [
    "# Testing the Feedforward Neural Network\n",
    "\n",
    "def validation():\n",
    "  length=0\n",
    "  correct_count=0\n",
    "  with torch.no_grad():\n",
    "    for dat in val:\n",
    "      im,la=dat\n",
    "      test_out=cnn_aug.Forward_prop(im.cuda())\n",
    "      _,pred=torch.max(test_out.data,1)\n",
    "      length+=la.size(0)\n",
    "      correct_count+=(pred.cpu()==la).sum().item()\n",
    "  return correct_count/val_size"
   ]
  },
  {
   "cell_type": "code",
   "execution_count": 32,
   "metadata": {
    "id": "Wfw5tP61_n59"
   },
   "outputs": [],
   "source": [
    "def accuracy_calculation(no_of_epochs):\n",
    "  accuracy=[]\n",
    "  for i in range(no_of_epochs):\n",
    "    train_model()\n",
    "    va=validation()\n",
    "    accuracy.append(va)\n",
    "    print(\"epoch {} is done and accuracy is {}\".format(i,va))\n",
    "  return accuracy"
   ]
  },
  {
   "cell_type": "code",
   "execution_count": 33,
   "metadata": {
    "colab": {
     "base_uri": "https://localhost:8080/",
     "height": 1000
    },
    "id": "_07XqTf2_qGm",
    "outputId": "1fd7fefe-16b1-474f-fd94-bf86ab060aae"
   },
   "outputs": [
    {
     "name": "stdout",
     "output_type": "stream",
     "text": [
      "epoch 0 is done and accuracy is 0.4326\n",
      "epoch 1 is done and accuracy is 0.5036\n",
      "epoch 2 is done and accuracy is 0.5354\n",
      "epoch 3 is done and accuracy is 0.551\n",
      "epoch 4 is done and accuracy is 0.5678\n",
      "epoch 5 is done and accuracy is 0.582\n",
      "epoch 6 is done and accuracy is 0.5928\n",
      "epoch 7 is done and accuracy is 0.6036\n",
      "epoch 8 is done and accuracy is 0.6162\n",
      "epoch 9 is done and accuracy is 0.6208\n",
      "epoch 10 is done and accuracy is 0.624\n",
      "epoch 11 is done and accuracy is 0.6286\n",
      "epoch 12 is done and accuracy is 0.6352\n",
      "epoch 13 is done and accuracy is 0.6406\n",
      "epoch 14 is done and accuracy is 0.6446\n",
      "epoch 15 is done and accuracy is 0.646\n",
      "epoch 16 is done and accuracy is 0.6492\n",
      "epoch 17 is done and accuracy is 0.652\n",
      "epoch 18 is done and accuracy is 0.6506\n",
      "epoch 19 is done and accuracy is 0.6548\n",
      "epoch 20 is done and accuracy is 0.6554\n",
      "epoch 21 is done and accuracy is 0.658\n",
      "epoch 22 is done and accuracy is 0.6612\n",
      "epoch 23 is done and accuracy is 0.6626\n",
      "epoch 24 is done and accuracy is 0.6638\n",
      "epoch 25 is done and accuracy is 0.6646\n",
      "epoch 26 is done and accuracy is 0.669\n",
      "epoch 27 is done and accuracy is 0.6698\n",
      "epoch 28 is done and accuracy is 0.6712\n",
      "epoch 29 is done and accuracy is 0.6756\n",
      "epoch 30 is done and accuracy is 0.6764\n",
      "epoch 31 is done and accuracy is 0.678\n",
      "epoch 32 is done and accuracy is 0.6796\n",
      "epoch 33 is done and accuracy is 0.6802\n",
      "epoch 34 is done and accuracy is 0.6808\n",
      "epoch 35 is done and accuracy is 0.6812\n",
      "epoch 36 is done and accuracy is 0.681\n",
      "epoch 37 is done and accuracy is 0.682\n",
      "epoch 38 is done and accuracy is 0.6838\n",
      "epoch 39 is done and accuracy is 0.682\n",
      "epoch 40 is done and accuracy is 0.6854\n",
      "epoch 41 is done and accuracy is 0.6864\n",
      "epoch 42 is done and accuracy is 0.6874\n",
      "epoch 43 is done and accuracy is 0.6864\n",
      "epoch 44 is done and accuracy is 0.6876\n",
      "epoch 45 is done and accuracy is 0.6882\n",
      "epoch 46 is done and accuracy is 0.6904\n",
      "epoch 47 is done and accuracy is 0.692\n",
      "epoch 48 is done and accuracy is 0.6928\n",
      "epoch 49 is done and accuracy is 0.695\n",
      "epoch 50 is done and accuracy is 0.6948\n",
      "epoch 51 is done and accuracy is 0.6966\n",
      "epoch 52 is done and accuracy is 0.6984\n",
      "epoch 53 is done and accuracy is 0.6996\n",
      "epoch 54 is done and accuracy is 0.699\n",
      "epoch 55 is done and accuracy is 0.6994\n",
      "epoch 56 is done and accuracy is 0.6992\n",
      "epoch 57 is done and accuracy is 0.7004\n",
      "epoch 58 is done and accuracy is 0.7012\n",
      "epoch 59 is done and accuracy is 0.7028\n",
      "epoch 60 is done and accuracy is 0.7034\n",
      "epoch 61 is done and accuracy is 0.7036\n",
      "epoch 62 is done and accuracy is 0.7046\n",
      "epoch 63 is done and accuracy is 0.7054\n",
      "epoch 64 is done and accuracy is 0.7052\n",
      "epoch 65 is done and accuracy is 0.7034\n",
      "epoch 66 is done and accuracy is 0.7042\n",
      "epoch 67 is done and accuracy is 0.7042\n",
      "epoch 68 is done and accuracy is 0.7054\n",
      "epoch 69 is done and accuracy is 0.7048\n",
      "epoch 70 is done and accuracy is 0.7058\n",
      "epoch 71 is done and accuracy is 0.7054\n",
      "epoch 72 is done and accuracy is 0.7054\n",
      "epoch 73 is done and accuracy is 0.7056\n",
      "epoch 74 is done and accuracy is 0.7068\n",
      "epoch 75 is done and accuracy is 0.706\n",
      "epoch 76 is done and accuracy is 0.7068\n",
      "epoch 77 is done and accuracy is 0.706\n",
      "epoch 78 is done and accuracy is 0.7056\n",
      "epoch 79 is done and accuracy is 0.7058\n",
      "epoch 80 is done and accuracy is 0.7064\n",
      "epoch 81 is done and accuracy is 0.7056\n",
      "epoch 82 is done and accuracy is 0.7052\n",
      "epoch 83 is done and accuracy is 0.7056\n",
      "epoch 84 is done and accuracy is 0.7066\n",
      "epoch 85 is done and accuracy is 0.7084\n",
      "epoch 86 is done and accuracy is 0.708\n",
      "epoch 87 is done and accuracy is 0.7094\n",
      "epoch 88 is done and accuracy is 0.71\n",
      "epoch 89 is done and accuracy is 0.712\n",
      "epoch 90 is done and accuracy is 0.7112\n",
      "epoch 91 is done and accuracy is 0.7154\n",
      "epoch 92 is done and accuracy is 0.715\n",
      "epoch 93 is done and accuracy is 0.716\n",
      "epoch 94 is done and accuracy is 0.7166\n",
      "epoch 95 is done and accuracy is 0.7166\n",
      "epoch 96 is done and accuracy is 0.717\n",
      "epoch 97 is done and accuracy is 0.7166\n",
      "epoch 98 is done and accuracy is 0.7174\n",
      "epoch 99 is done and accuracy is 0.7166\n",
      "epoch 100 is done and accuracy is 0.718\n",
      "epoch 101 is done and accuracy is 0.7162\n",
      "epoch 102 is done and accuracy is 0.7162\n",
      "epoch 103 is done and accuracy is 0.717\n",
      "epoch 104 is done and accuracy is 0.717\n",
      "epoch 105 is done and accuracy is 0.7172\n",
      "epoch 106 is done and accuracy is 0.7178\n",
      "epoch 107 is done and accuracy is 0.7174\n",
      "epoch 108 is done and accuracy is 0.7182\n",
      "epoch 109 is done and accuracy is 0.7182\n",
      "epoch 110 is done and accuracy is 0.7172\n",
      "epoch 111 is done and accuracy is 0.717\n",
      "epoch 112 is done and accuracy is 0.7168\n",
      "epoch 113 is done and accuracy is 0.7172\n",
      "epoch 114 is done and accuracy is 0.7168\n",
      "epoch 115 is done and accuracy is 0.7182\n",
      "epoch 116 is done and accuracy is 0.7182\n",
      "epoch 117 is done and accuracy is 0.7198\n",
      "epoch 118 is done and accuracy is 0.72\n",
      "epoch 119 is done and accuracy is 0.7204\n",
      "epoch 120 is done and accuracy is 0.7212\n",
      "epoch 121 is done and accuracy is 0.7214\n",
      "epoch 122 is done and accuracy is 0.7216\n",
      "epoch 123 is done and accuracy is 0.7224\n",
      "epoch 124 is done and accuracy is 0.7226\n",
      "epoch 125 is done and accuracy is 0.7226\n",
      "epoch 126 is done and accuracy is 0.7234\n",
      "epoch 127 is done and accuracy is 0.724\n",
      "epoch 128 is done and accuracy is 0.7246\n",
      "epoch 129 is done and accuracy is 0.7228\n",
      "epoch 130 is done and accuracy is 0.7238\n",
      "epoch 131 is done and accuracy is 0.7254\n",
      "epoch 132 is done and accuracy is 0.7252\n",
      "epoch 133 is done and accuracy is 0.7264\n",
      "epoch 134 is done and accuracy is 0.7268\n",
      "epoch 135 is done and accuracy is 0.7262\n",
      "epoch 136 is done and accuracy is 0.7258\n",
      "epoch 137 is done and accuracy is 0.7266\n",
      "epoch 138 is done and accuracy is 0.726\n",
      "epoch 139 is done and accuracy is 0.7276\n",
      "epoch 140 is done and accuracy is 0.727\n",
      "epoch 141 is done and accuracy is 0.7278\n",
      "epoch 142 is done and accuracy is 0.7282\n",
      "epoch 143 is done and accuracy is 0.7284\n",
      "epoch 144 is done and accuracy is 0.728\n",
      "epoch 145 is done and accuracy is 0.728\n",
      "epoch 146 is done and accuracy is 0.728\n",
      "epoch 147 is done and accuracy is 0.7292\n",
      "epoch 148 is done and accuracy is 0.7296\n",
      "epoch 149 is done and accuracy is 0.7288\n",
      "epoch 150 is done and accuracy is 0.7296\n",
      "epoch 151 is done and accuracy is 0.7298\n",
      "epoch 152 is done and accuracy is 0.7298\n",
      "epoch 153 is done and accuracy is 0.7304\n",
      "epoch 154 is done and accuracy is 0.729\n",
      "epoch 155 is done and accuracy is 0.7296\n",
      "epoch 156 is done and accuracy is 0.7294\n",
      "epoch 157 is done and accuracy is 0.7298\n",
      "epoch 158 is done and accuracy is 0.7308\n",
      "epoch 159 is done and accuracy is 0.7306\n",
      "epoch 160 is done and accuracy is 0.7312\n",
      "epoch 161 is done and accuracy is 0.7318\n",
      "epoch 162 is done and accuracy is 0.732\n",
      "epoch 163 is done and accuracy is 0.7314\n",
      "epoch 164 is done and accuracy is 0.731\n",
      "epoch 165 is done and accuracy is 0.7294\n",
      "epoch 166 is done and accuracy is 0.7302\n",
      "epoch 167 is done and accuracy is 0.7298\n",
      "epoch 168 is done and accuracy is 0.7304\n",
      "epoch 169 is done and accuracy is 0.7296\n",
      "epoch 170 is done and accuracy is 0.7306\n",
      "epoch 171 is done and accuracy is 0.7298\n",
      "epoch 172 is done and accuracy is 0.7304\n",
      "epoch 173 is done and accuracy is 0.7308\n",
      "epoch 174 is done and accuracy is 0.7306\n",
      "epoch 175 is done and accuracy is 0.731\n",
      "epoch 176 is done and accuracy is 0.731\n",
      "epoch 177 is done and accuracy is 0.731\n",
      "epoch 178 is done and accuracy is 0.731\n",
      "epoch 179 is done and accuracy is 0.7316\n",
      "epoch 180 is done and accuracy is 0.731\n",
      "epoch 181 is done and accuracy is 0.732\n",
      "epoch 182 is done and accuracy is 0.7316\n",
      "epoch 183 is done and accuracy is 0.7306\n",
      "epoch 184 is done and accuracy is 0.731\n",
      "epoch 185 is done and accuracy is 0.7314\n",
      "epoch 186 is done and accuracy is 0.7312\n",
      "epoch 187 is done and accuracy is 0.732\n",
      "epoch 188 is done and accuracy is 0.7332\n",
      "epoch 189 is done and accuracy is 0.7334\n",
      "epoch 190 is done and accuracy is 0.7348\n",
      "epoch 191 is done and accuracy is 0.7346\n",
      "epoch 192 is done and accuracy is 0.7348\n",
      "epoch 193 is done and accuracy is 0.7348\n",
      "epoch 194 is done and accuracy is 0.7338\n",
      "epoch 195 is done and accuracy is 0.7334\n",
      "epoch 196 is done and accuracy is 0.7344\n",
      "epoch 197 is done and accuracy is 0.7338\n",
      "epoch 198 is done and accuracy is 0.7344\n",
      "epoch 199 is done and accuracy is 0.735\n"
     ]
    }
   ],
   "source": [
    "acc=accuracy_calculation(200)"
   ]
  },
  {
   "cell_type": "code",
   "execution_count": 34,
   "metadata": {
    "colab": {
     "base_uri": "https://localhost:8080/",
     "height": 312
    },
    "id": "OJKw3xR3Bs_i",
    "outputId": "f6fceb57-8193-4ac8-d2c2-20f4e22a87fd"
   },
   "outputs": [
    {
     "data": {
      "text/plain": [
       "Text(0, 0.5, 'Validation Accuracy')"
      ]
     },
     "execution_count": 34,
     "metadata": {
      "tags": []
     },
     "output_type": "execute_result"
    },
    {
     "data": {
      "image/png": "[encoded data removed]",
      "text/plain": [
       "<Figure size 432x288 with 1 Axes>"
      ]
     },
     "metadata": {
      "needs_background": "light",
      "tags": []
     },
     "output_type": "display_data"
    }
   ],
   "source": [
    "plt.plot(list(range(200)),acc,'r')\n",
    "plt.title('Augmented Model')\n",
    "plt.xlabel('Epochs')\n",
    "plt.ylabel('Validation Accuracy')"
   ]
  },
  {
   "cell_type": "code",
   "execution_count": 70,
   "metadata": {
    "colab": {
     "base_uri": "https://localhost:8080/",
     "height": 279
    },
    "id": "zL3nbzS1f9fH",
    "outputId": "6f158479-cefb-46e5-91a8-a567d076dbde"
   },
   "outputs": [
    {
     "data": {
      "image/png": "[encoded data removed]",
      "text/plain": [
       "<Figure size 432x288 with 1 Axes>"
      ]
     },
     "metadata": {
      "needs_background": "light",
      "tags": []
     },
     "output_type": "display_data"
    }
   ],
   "source": [
    "plt.plot(list(range(200)),acc,'r')\n",
    "plt.plot(list(range(200)),acc_base,'g')\n",
    "plt.xlabel('Epochs')\n",
    "plt.ylabel('Validation Accuracy')\n",
    "plt.legend(['Augmented Model','Baseline Model'])\n",
    "plt.show()"
   ]
  },
  {
   "cell_type": "markdown",
   "metadata": {
    "id": "njUf9suWofP-"
   },
   "source": [
    "#### As seen the model with augmented images added to it performs better than the original model. A reason for this is that the original model might be overfitting on the smaller image dataset hence generalises poorly on new images(the validation set). Since the augmented model has been exposed to more varietes of images it does better on the validation data."
   ]
  },
  {
   "cell_type": "code",
   "execution_count": null,
   "metadata": {},
   "outputs": [],
   "source": []
  }
 ],
 "metadata": {
  "accelerator": "GPU",
  "colab": {
   "collapsed_sections": [],
   "machine_shape": "hm",
   "name": "Homework 2 part 3  DL.ipynb",
   "provenance": []
  },
  "kernelspec": {
   "display_name": "Python 3",
   "language": "python",
   "name": "python3"
  },
  "language_info": {
   "codemirror_mode": {
    "name": "ipython",
    "version": 3
   },
   "file_extension": ".py",
   "mimetype": "text/x-python",
   "name": "python",
   "nbconvert_exporter": "python",
   "pygments_lexer": "ipython3",
   "version": "3.7.3"
  }
 },
 "nbformat": 4,
 "nbformat_minor": 1
}
